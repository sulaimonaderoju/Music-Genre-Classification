{
  "nbformat": 4,
  "nbformat_minor": 0,
  "metadata": {
    "colab": {
      "provenance": []
    },
    "kernelspec": {
      "name": "python3",
      "display_name": "Python 3"
    },
    "language_info": {
      "name": "python"
    }
  },
  "cells": [
    {
      "cell_type": "markdown",
      "source": [
        "# Executive Summary\n",
        "\n",
        "_This project aimed to improve content categorization within the BBC Full Text dataset, enhancing editorial decision-making.  The dataset comprised articles across five categories: sports, politics, technology, business, and entertainment.  Preprocessing involved lowercasing, lemmatization, stop word removal, and tokenization to prepare the text data for modeling.  Feature extraction used CountVectorizer and TF-IDF Vectorizer to create document-term matrices.  Topic modeling employed Latent Dirichlet Allocation (LDA) and Non-negative Matrix Factorization (NMF), with hyperparameter tuning for each._\n",
        "\n",
        "_Model evaluation focused on perplexity, topic coherence, and qualitative keyword analysis. LDA models outperformed NMF, demonstrating better topic distinction and less keyword overlap.  The best-performing LDA model achieved a perplexity score of 515.46, indicating good generalization.  pyLDAvis visualizations aided in topic interpretation.  This superior LDA model directly addresses the use case by providing actionable insights for content categorization.  Its distinct topics guide editorial strategy, informing content organization, topic assignment, and potential topic coverage suggestions, ultimately improving editorial workflow and content relevance._"
      ],
      "metadata": {
        "id": "rX5dYE27KhVG"
      }
    },
    {
      "cell_type": "code",
      "execution_count": null,
      "metadata": {
        "id": "sUVDIOPnHKjs",
        "colab": {
          "base_uri": "https://localhost:8080/"
        },
        "outputId": "b020b59b-c713-40f6-d464-048e7915764c"
      },
      "outputs": [
        {
          "output_type": "stream",
          "name": "stderr",
          "text": [
            "/usr/local/lib/python3.10/dist-packages/ipykernel/ipkernel.py:283: DeprecationWarning: `should_run_async` will not call `transform_cell` automatically in the future. Please pass the result to `transformed_cell` argument and any exception that happen during thetransform in `preprocessing_exc_tuple` in IPython 7.17 and above.\n",
            "  and should_run_async(code)\n"
          ]
        }
      ],
      "source": [
        "import pandas as pd\n",
        "import numpy as np\n",
        "import matplotlib.pyplot as plt\n",
        "import re\n",
        "import nltk\n",
        "from nltk.corpus import stopwords\n",
        "from nltk.stem import WordNetLemmatizer\n",
        "from sklearn.feature_extraction.text import CountVectorizer, TfidfVectorizer"
      ]
    },
    {
      "cell_type": "code",
      "source": [
        "# Download NLTK data\n",
        "nltk.download('stopwords')\n",
        "nltk.download('punkt_tab')\n",
        "nltk.download('wordnet')"
      ],
      "metadata": {
        "colab": {
          "base_uri": "https://localhost:8080/"
        },
        "id": "wsUrJeaJHTig",
        "outputId": "339c863a-bd4c-4e10-bf17-b287b66320ba"
      },
      "execution_count": null,
      "outputs": [
        {
          "output_type": "stream",
          "name": "stderr",
          "text": [
            "/usr/local/lib/python3.10/dist-packages/ipykernel/ipkernel.py:283: DeprecationWarning: `should_run_async` will not call `transform_cell` automatically in the future. Please pass the result to `transformed_cell` argument and any exception that happen during thetransform in `preprocessing_exc_tuple` in IPython 7.17 and above.\n",
            "  and should_run_async(code)\n",
            "[nltk_data] Downloading package stopwords to /root/nltk_data...\n",
            "[nltk_data]   Package stopwords is already up-to-date!\n",
            "[nltk_data] Downloading package punkt_tab to /root/nltk_data...\n",
            "[nltk_data]   Package punkt_tab is already up-to-date!\n",
            "[nltk_data] Downloading package wordnet to /root/nltk_data...\n",
            "[nltk_data]   Package wordnet is already up-to-date!\n"
          ]
        },
        {
          "output_type": "execute_result",
          "data": {
            "text/plain": [
              "True"
            ]
          },
          "metadata": {},
          "execution_count": 45
        }
      ]
    },
    {
      "cell_type": "markdown",
      "source": [
        "# Preprocessing"
      ],
      "metadata": {
        "id": "4zetAi-lKUVL"
      }
    },
    {
      "cell_type": "code",
      "source": [
        "# Load the dataset\n",
        "file_path = 'docs_stage_2_parsed_text.csv'\n",
        "df = pd.read_csv(file_path)"
      ],
      "metadata": {
        "id": "Zq74ti2yHZgI",
        "colab": {
          "base_uri": "https://localhost:8080/"
        },
        "outputId": "7eff7d92-220a-4926-e92b-33622fadf0de"
      },
      "execution_count": null,
      "outputs": [
        {
          "output_type": "stream",
          "name": "stderr",
          "text": [
            "/usr/local/lib/python3.10/dist-packages/ipykernel/ipkernel.py:283: DeprecationWarning: `should_run_async` will not call `transform_cell` automatically in the future. Please pass the result to `transformed_cell` argument and any exception that happen during thetransform in `preprocessing_exc_tuple` in IPython 7.17 and above.\n",
            "  and should_run_async(code)\n"
          ]
        }
      ]
    },
    {
      "cell_type": "code",
      "source": [
        "# Inspect the data structure\n",
        "print(df.head())"
      ],
      "metadata": {
        "colab": {
          "base_uri": "https://localhost:8080/"
        },
        "id": "qKB5iemXHht9",
        "outputId": "a8193c60-e49a-413d-df73-8ae8f6b081d3"
      },
      "execution_count": null,
      "outputs": [
        {
          "output_type": "stream",
          "name": "stderr",
          "text": [
            "/usr/local/lib/python3.10/dist-packages/ipykernel/ipkernel.py:283: DeprecationWarning: `should_run_async` will not call `transform_cell` automatically in the future. Please pass the result to `transformed_cell` argument and any exception that happen during thetransform in `preprocessing_exc_tuple` in IPython 7.17 and above.\n",
            "  and should_run_async(code)\n"
          ]
        },
        {
          "output_type": "stream",
          "name": "stdout",
          "text": [
            "   DocId  DocTextlen                                            DocText\n",
            "0  B_001        2553  Ad sales boost Time Warner profit Quarterly pr...\n",
            "1  B_002        2248  Dollar gains on Greenspan speech The dollar ha...\n",
            "2  B_003        1547  Yukos unit buyer faces loan claim The owners o...\n",
            "3  B_004        2395  High fuel prices hit BA's profits British Airw...\n",
            "4  B_005        1565  Pernod takeover talk lifts Domecq Shares in UK...\n"
          ]
        }
      ]
    },
    {
      "cell_type": "code",
      "source": [
        "# Define a function for text preprocessing\n",
        "def preprocess_text(text):\n",
        "    # Convert to lowercase\n",
        "    text = text.lower()\n",
        "    # Tokenize\n",
        "    tokens = nltk.word_tokenize(text)\n",
        "    # Remove stop words\n",
        "    stop_words = set(stopwords.words('english'))\n",
        "    tokens = [word for word in tokens if word.isalpha() and word not in stop_words]\n",
        "    # Lemmatize\n",
        "    lemmatizer = WordNetLemmatizer()\n",
        "    tokens = [lemmatizer.lemmatize(word) for word in tokens]\n",
        "    return ' '.join(tokens)"
      ],
      "metadata": {
        "id": "D6nizgRtHsVJ",
        "colab": {
          "base_uri": "https://localhost:8080/"
        },
        "outputId": "bf215b61-af74-460b-949d-d12cb032c05e"
      },
      "execution_count": null,
      "outputs": [
        {
          "output_type": "stream",
          "name": "stderr",
          "text": [
            "/usr/local/lib/python3.10/dist-packages/ipykernel/ipkernel.py:283: DeprecationWarning: `should_run_async` will not call `transform_cell` automatically in the future. Please pass the result to `transformed_cell` argument and any exception that happen during thetransform in `preprocessing_exc_tuple` in IPython 7.17 and above.\n",
            "  and should_run_async(code)\n"
          ]
        }
      ]
    },
    {
      "cell_type": "code",
      "source": [
        "# Apply preprocessing to the DocText column\n",
        "df['processed_text'] = df['DocText'].apply(preprocess_text)"
      ],
      "metadata": {
        "id": "1tXi5-bqH0Ac",
        "colab": {
          "base_uri": "https://localhost:8080/"
        },
        "outputId": "ffa17d92-f703-4813-9080-bcfb82e0e3e8"
      },
      "execution_count": null,
      "outputs": [
        {
          "output_type": "stream",
          "name": "stderr",
          "text": [
            "/usr/local/lib/python3.10/dist-packages/ipykernel/ipkernel.py:283: DeprecationWarning: `should_run_async` will not call `transform_cell` automatically in the future. Please pass the result to `transformed_cell` argument and any exception that happen during thetransform in `preprocessing_exc_tuple` in IPython 7.17 and above.\n",
            "  and should_run_async(code)\n"
          ]
        }
      ]
    },
    {
      "cell_type": "code",
      "source": [
        "# Display processed text\n",
        "print(df['processed_text'].head())"
      ],
      "metadata": {
        "colab": {
          "base_uri": "https://localhost:8080/"
        },
        "id": "9P4VIyy8IYjF",
        "outputId": "7ea5016a-f71e-4210-bd17-e1fb46733d8b"
      },
      "execution_count": null,
      "outputs": [
        {
          "output_type": "stream",
          "name": "stdout",
          "text": [
            "0    ad sale boost time warner profit quarterly pro...\n",
            "1    dollar gain greenspan speech dollar hit highes...\n",
            "2    yukos unit buyer face loan claim owner embattl...\n",
            "3    high fuel price hit ba profit british airway b...\n",
            "4    pernod takeover talk lift domecq share uk drin...\n",
            "Name: processed_text, dtype: object\n"
          ]
        },
        {
          "output_type": "stream",
          "name": "stderr",
          "text": [
            "/usr/local/lib/python3.10/dist-packages/ipykernel/ipkernel.py:283: DeprecationWarning: `should_run_async` will not call `transform_cell` automatically in the future. Please pass the result to `transformed_cell` argument and any exception that happen during thetransform in `preprocessing_exc_tuple` in IPython 7.17 and above.\n",
            "  and should_run_async(code)\n"
          ]
        }
      ]
    },
    {
      "cell_type": "markdown",
      "source": [
        "#### Explanation of steps taken above:\n",
        "\n",
        "_Load the Data: Load the docs_stage_2_parsed_text.csv file into a DataFrame using pandas._\n",
        "\n",
        "\n",
        "_Lowercase Conversion: Convert all text to lowercase for case insensitivity._\n",
        "\n",
        "\n",
        "_Tokenization: Split text into individual words using NLTK's word_tokenize._\n",
        "\n",
        "\n",
        "_Stop Word Removal: Remove common words that do not contribute to meaning, such as \"the\", \"and\", \"is\"._\n",
        "\n",
        "_Lemmatization: Reduce words to their base forms using WordNetLemmatizer._\n",
        "\n",
        "\n",
        "_Save Preprocessed Data: Store the processed text in a new column and optionally save it to a new CSV for further steps like vectorization._"
      ],
      "metadata": {
        "id": "cGdnghocIjL3"
      }
    },
    {
      "cell_type": "markdown",
      "source": [
        "# Models"
      ],
      "metadata": {
        "id": "3cuQybJ1KLZ8"
      }
    },
    {
      "cell_type": "markdown",
      "source": [
        "#### Preparing for Topic Modeling:\n",
        "\n",
        "_To proceed with LDA and NMF Topic Modeling:_\n",
        "\n",
        "_I am Using a CountVectorizer (for LDA) and a TfidfVectorizer (for NMF) to convert text into a document-term matrix (DTM)._\n",
        "\n",
        "_Apply the topic modeling algorithms to this DTM._"
      ],
      "metadata": {
        "id": "rpHU3HevJNnY"
      }
    },
    {
      "cell_type": "markdown",
      "source": [
        "#### Vectorization for LDA (CountVectorizer)"
      ],
      "metadata": {
        "id": "OXjZ5RLeMEzb"
      }
    },
    {
      "cell_type": "code",
      "source": [
        "from sklearn.feature_extraction.text import CountVectorizer, TfidfVectorizer\n",
        "from sklearn.decomposition import LatentDirichletAllocation, NMF"
      ],
      "metadata": {
        "id": "UQjXI7chIeOJ",
        "colab": {
          "base_uri": "https://localhost:8080/"
        },
        "outputId": "8b4d1e09-fa47-4837-b931-c331cba05556"
      },
      "execution_count": null,
      "outputs": [
        {
          "output_type": "stream",
          "name": "stderr",
          "text": [
            "/usr/local/lib/python3.10/dist-packages/ipykernel/ipkernel.py:283: DeprecationWarning: `should_run_async` will not call `transform_cell` automatically in the future. Please pass the result to `transformed_cell` argument and any exception that happen during thetransform in `preprocessing_exc_tuple` in IPython 7.17 and above.\n",
            "  and should_run_async(code)\n"
          ]
        }
      ]
    },
    {
      "cell_type": "code",
      "source": [
        "# Vectorization for LDA (CountVectorizer)\n",
        "count_vectorizer = CountVectorizer(max_features=1105, stop_words='english')  # Limit features for LDA\n",
        "lda_dtm = count_vectorizer.fit_transform(df['processed_text'])"
      ],
      "metadata": {
        "id": "xckoAZChMEBe",
        "colab": {
          "base_uri": "https://localhost:8080/"
        },
        "outputId": "f650b0a9-41c8-4584-a278-cb0ea7ae97ea"
      },
      "execution_count": null,
      "outputs": [
        {
          "output_type": "stream",
          "name": "stderr",
          "text": [
            "/usr/local/lib/python3.10/dist-packages/ipykernel/ipkernel.py:283: DeprecationWarning: `should_run_async` will not call `transform_cell` automatically in the future. Please pass the result to `transformed_cell` argument and any exception that happen during thetransform in `preprocessing_exc_tuple` in IPython 7.17 and above.\n",
            "  and should_run_async(code)\n"
          ]
        }
      ]
    },
    {
      "cell_type": "code",
      "source": [
        "# Save the feature names for reference\n",
        "lda_feature_names = count_vectorizer.get_feature_names_out()"
      ],
      "metadata": {
        "id": "Q3TisjeBMz9s",
        "colab": {
          "base_uri": "https://localhost:8080/"
        },
        "outputId": "8f408295-1866-47f5-ac6c-a07b2ca2d3ba"
      },
      "execution_count": null,
      "outputs": [
        {
          "output_type": "stream",
          "name": "stderr",
          "text": [
            "/usr/local/lib/python3.10/dist-packages/ipykernel/ipkernel.py:283: DeprecationWarning: `should_run_async` will not call `transform_cell` automatically in the future. Please pass the result to `transformed_cell` argument and any exception that happen during thetransform in `preprocessing_exc_tuple` in IPython 7.17 and above.\n",
            "  and should_run_async(code)\n"
          ]
        }
      ]
    },
    {
      "cell_type": "code",
      "source": [
        "# Display summary for LDA DTM\n",
        "print(f\"LDA DTM Shape: {lda_dtm.shape}\")\n",
        "print(f\"LDA Feature Names: {lda_feature_names}\")"
      ],
      "metadata": {
        "colab": {
          "base_uri": "https://localhost:8080/"
        },
        "id": "wjulhwZ7N1fP",
        "outputId": "bcf92ada-55f0-4b96-f5a7-a38b50bee7b8"
      },
      "execution_count": null,
      "outputs": [
        {
          "output_type": "stream",
          "name": "stdout",
          "text": [
            "LDA DTM Shape: (2205, 1105)\n",
            "LDA Feature Names: ['ability' 'able' 'access' ... 'york' 'young' 'yukos']\n"
          ]
        },
        {
          "output_type": "stream",
          "name": "stderr",
          "text": [
            "/usr/local/lib/python3.10/dist-packages/ipykernel/ipkernel.py:283: DeprecationWarning: `should_run_async` will not call `transform_cell` automatically in the future. Please pass the result to `transformed_cell` argument and any exception that happen during thetransform in `preprocessing_exc_tuple` in IPython 7.17 and above.\n",
            "  and should_run_async(code)\n"
          ]
        }
      ]
    },
    {
      "cell_type": "markdown",
      "source": [
        "## LDA Model"
      ],
      "metadata": {
        "id": "nAkItOutiKE0"
      }
    },
    {
      "cell_type": "code",
      "source": [
        "# LDA Model\n",
        "lda_model = LatentDirichletAllocation(n_components=10, random_state=42)\n",
        "lda_model.fit(lda_dtm)"
      ],
      "metadata": {
        "colab": {
          "base_uri": "https://localhost:8080/",
          "height": 135
        },
        "id": "HsUr8dHxiJZR",
        "outputId": "877fbe1d-7d17-4b67-b7ff-2a5cadf14493"
      },
      "execution_count": null,
      "outputs": [
        {
          "output_type": "stream",
          "name": "stderr",
          "text": [
            "/usr/local/lib/python3.10/dist-packages/ipykernel/ipkernel.py:283: DeprecationWarning: `should_run_async` will not call `transform_cell` automatically in the future. Please pass the result to `transformed_cell` argument and any exception that happen during thetransform in `preprocessing_exc_tuple` in IPython 7.17 and above.\n",
            "  and should_run_async(code)\n"
          ]
        },
        {
          "output_type": "execute_result",
          "data": {
            "text/plain": [
              "LatentDirichletAllocation(random_state=42)"
            ],
            "text/html": [
              "<style>#sk-container-id-4 {\n",
              "  /* Definition of color scheme common for light and dark mode */\n",
              "  --sklearn-color-text: black;\n",
              "  --sklearn-color-line: gray;\n",
              "  /* Definition of color scheme for unfitted estimators */\n",
              "  --sklearn-color-unfitted-level-0: #fff5e6;\n",
              "  --sklearn-color-unfitted-level-1: #f6e4d2;\n",
              "  --sklearn-color-unfitted-level-2: #ffe0b3;\n",
              "  --sklearn-color-unfitted-level-3: chocolate;\n",
              "  /* Definition of color scheme for fitted estimators */\n",
              "  --sklearn-color-fitted-level-0: #f0f8ff;\n",
              "  --sklearn-color-fitted-level-1: #d4ebff;\n",
              "  --sklearn-color-fitted-level-2: #b3dbfd;\n",
              "  --sklearn-color-fitted-level-3: cornflowerblue;\n",
              "\n",
              "  /* Specific color for light theme */\n",
              "  --sklearn-color-text-on-default-background: var(--sg-text-color, var(--theme-code-foreground, var(--jp-content-font-color1, black)));\n",
              "  --sklearn-color-background: var(--sg-background-color, var(--theme-background, var(--jp-layout-color0, white)));\n",
              "  --sklearn-color-border-box: var(--sg-text-color, var(--theme-code-foreground, var(--jp-content-font-color1, black)));\n",
              "  --sklearn-color-icon: #696969;\n",
              "\n",
              "  @media (prefers-color-scheme: dark) {\n",
              "    /* Redefinition of color scheme for dark theme */\n",
              "    --sklearn-color-text-on-default-background: var(--sg-text-color, var(--theme-code-foreground, var(--jp-content-font-color1, white)));\n",
              "    --sklearn-color-background: var(--sg-background-color, var(--theme-background, var(--jp-layout-color0, #111)));\n",
              "    --sklearn-color-border-box: var(--sg-text-color, var(--theme-code-foreground, var(--jp-content-font-color1, white)));\n",
              "    --sklearn-color-icon: #878787;\n",
              "  }\n",
              "}\n",
              "\n",
              "#sk-container-id-4 {\n",
              "  color: var(--sklearn-color-text);\n",
              "}\n",
              "\n",
              "#sk-container-id-4 pre {\n",
              "  padding: 0;\n",
              "}\n",
              "\n",
              "#sk-container-id-4 input.sk-hidden--visually {\n",
              "  border: 0;\n",
              "  clip: rect(1px 1px 1px 1px);\n",
              "  clip: rect(1px, 1px, 1px, 1px);\n",
              "  height: 1px;\n",
              "  margin: -1px;\n",
              "  overflow: hidden;\n",
              "  padding: 0;\n",
              "  position: absolute;\n",
              "  width: 1px;\n",
              "}\n",
              "\n",
              "#sk-container-id-4 div.sk-dashed-wrapped {\n",
              "  border: 1px dashed var(--sklearn-color-line);\n",
              "  margin: 0 0.4em 0.5em 0.4em;\n",
              "  box-sizing: border-box;\n",
              "  padding-bottom: 0.4em;\n",
              "  background-color: var(--sklearn-color-background);\n",
              "}\n",
              "\n",
              "#sk-container-id-4 div.sk-container {\n",
              "  /* jupyter's `normalize.less` sets `[hidden] { display: none; }`\n",
              "     but bootstrap.min.css set `[hidden] { display: none !important; }`\n",
              "     so we also need the `!important` here to be able to override the\n",
              "     default hidden behavior on the sphinx rendered scikit-learn.org.\n",
              "     See: https://github.com/scikit-learn/scikit-learn/issues/21755 */\n",
              "  display: inline-block !important;\n",
              "  position: relative;\n",
              "}\n",
              "\n",
              "#sk-container-id-4 div.sk-text-repr-fallback {\n",
              "  display: none;\n",
              "}\n",
              "\n",
              "div.sk-parallel-item,\n",
              "div.sk-serial,\n",
              "div.sk-item {\n",
              "  /* draw centered vertical line to link estimators */\n",
              "  background-image: linear-gradient(var(--sklearn-color-text-on-default-background), var(--sklearn-color-text-on-default-background));\n",
              "  background-size: 2px 100%;\n",
              "  background-repeat: no-repeat;\n",
              "  background-position: center center;\n",
              "}\n",
              "\n",
              "/* Parallel-specific style estimator block */\n",
              "\n",
              "#sk-container-id-4 div.sk-parallel-item::after {\n",
              "  content: \"\";\n",
              "  width: 100%;\n",
              "  border-bottom: 2px solid var(--sklearn-color-text-on-default-background);\n",
              "  flex-grow: 1;\n",
              "}\n",
              "\n",
              "#sk-container-id-4 div.sk-parallel {\n",
              "  display: flex;\n",
              "  align-items: stretch;\n",
              "  justify-content: center;\n",
              "  background-color: var(--sklearn-color-background);\n",
              "  position: relative;\n",
              "}\n",
              "\n",
              "#sk-container-id-4 div.sk-parallel-item {\n",
              "  display: flex;\n",
              "  flex-direction: column;\n",
              "}\n",
              "\n",
              "#sk-container-id-4 div.sk-parallel-item:first-child::after {\n",
              "  align-self: flex-end;\n",
              "  width: 50%;\n",
              "}\n",
              "\n",
              "#sk-container-id-4 div.sk-parallel-item:last-child::after {\n",
              "  align-self: flex-start;\n",
              "  width: 50%;\n",
              "}\n",
              "\n",
              "#sk-container-id-4 div.sk-parallel-item:only-child::after {\n",
              "  width: 0;\n",
              "}\n",
              "\n",
              "/* Serial-specific style estimator block */\n",
              "\n",
              "#sk-container-id-4 div.sk-serial {\n",
              "  display: flex;\n",
              "  flex-direction: column;\n",
              "  align-items: center;\n",
              "  background-color: var(--sklearn-color-background);\n",
              "  padding-right: 1em;\n",
              "  padding-left: 1em;\n",
              "}\n",
              "\n",
              "\n",
              "/* Toggleable style: style used for estimator/Pipeline/ColumnTransformer box that is\n",
              "clickable and can be expanded/collapsed.\n",
              "- Pipeline and ColumnTransformer use this feature and define the default style\n",
              "- Estimators will overwrite some part of the style using the `sk-estimator` class\n",
              "*/\n",
              "\n",
              "/* Pipeline and ColumnTransformer style (default) */\n",
              "\n",
              "#sk-container-id-4 div.sk-toggleable {\n",
              "  /* Default theme specific background. It is overwritten whether we have a\n",
              "  specific estimator or a Pipeline/ColumnTransformer */\n",
              "  background-color: var(--sklearn-color-background);\n",
              "}\n",
              "\n",
              "/* Toggleable label */\n",
              "#sk-container-id-4 label.sk-toggleable__label {\n",
              "  cursor: pointer;\n",
              "  display: block;\n",
              "  width: 100%;\n",
              "  margin-bottom: 0;\n",
              "  padding: 0.5em;\n",
              "  box-sizing: border-box;\n",
              "  text-align: center;\n",
              "}\n",
              "\n",
              "#sk-container-id-4 label.sk-toggleable__label-arrow:before {\n",
              "  /* Arrow on the left of the label */\n",
              "  content: \"▸\";\n",
              "  float: left;\n",
              "  margin-right: 0.25em;\n",
              "  color: var(--sklearn-color-icon);\n",
              "}\n",
              "\n",
              "#sk-container-id-4 label.sk-toggleable__label-arrow:hover:before {\n",
              "  color: var(--sklearn-color-text);\n",
              "}\n",
              "\n",
              "/* Toggleable content - dropdown */\n",
              "\n",
              "#sk-container-id-4 div.sk-toggleable__content {\n",
              "  max-height: 0;\n",
              "  max-width: 0;\n",
              "  overflow: hidden;\n",
              "  text-align: left;\n",
              "  /* unfitted */\n",
              "  background-color: var(--sklearn-color-unfitted-level-0);\n",
              "}\n",
              "\n",
              "#sk-container-id-4 div.sk-toggleable__content.fitted {\n",
              "  /* fitted */\n",
              "  background-color: var(--sklearn-color-fitted-level-0);\n",
              "}\n",
              "\n",
              "#sk-container-id-4 div.sk-toggleable__content pre {\n",
              "  margin: 0.2em;\n",
              "  border-radius: 0.25em;\n",
              "  color: var(--sklearn-color-text);\n",
              "  /* unfitted */\n",
              "  background-color: var(--sklearn-color-unfitted-level-0);\n",
              "}\n",
              "\n",
              "#sk-container-id-4 div.sk-toggleable__content.fitted pre {\n",
              "  /* unfitted */\n",
              "  background-color: var(--sklearn-color-fitted-level-0);\n",
              "}\n",
              "\n",
              "#sk-container-id-4 input.sk-toggleable__control:checked~div.sk-toggleable__content {\n",
              "  /* Expand drop-down */\n",
              "  max-height: 200px;\n",
              "  max-width: 100%;\n",
              "  overflow: auto;\n",
              "}\n",
              "\n",
              "#sk-container-id-4 input.sk-toggleable__control:checked~label.sk-toggleable__label-arrow:before {\n",
              "  content: \"▾\";\n",
              "}\n",
              "\n",
              "/* Pipeline/ColumnTransformer-specific style */\n",
              "\n",
              "#sk-container-id-4 div.sk-label input.sk-toggleable__control:checked~label.sk-toggleable__label {\n",
              "  color: var(--sklearn-color-text);\n",
              "  background-color: var(--sklearn-color-unfitted-level-2);\n",
              "}\n",
              "\n",
              "#sk-container-id-4 div.sk-label.fitted input.sk-toggleable__control:checked~label.sk-toggleable__label {\n",
              "  background-color: var(--sklearn-color-fitted-level-2);\n",
              "}\n",
              "\n",
              "/* Estimator-specific style */\n",
              "\n",
              "/* Colorize estimator box */\n",
              "#sk-container-id-4 div.sk-estimator input.sk-toggleable__control:checked~label.sk-toggleable__label {\n",
              "  /* unfitted */\n",
              "  background-color: var(--sklearn-color-unfitted-level-2);\n",
              "}\n",
              "\n",
              "#sk-container-id-4 div.sk-estimator.fitted input.sk-toggleable__control:checked~label.sk-toggleable__label {\n",
              "  /* fitted */\n",
              "  background-color: var(--sklearn-color-fitted-level-2);\n",
              "}\n",
              "\n",
              "#sk-container-id-4 div.sk-label label.sk-toggleable__label,\n",
              "#sk-container-id-4 div.sk-label label {\n",
              "  /* The background is the default theme color */\n",
              "  color: var(--sklearn-color-text-on-default-background);\n",
              "}\n",
              "\n",
              "/* On hover, darken the color of the background */\n",
              "#sk-container-id-4 div.sk-label:hover label.sk-toggleable__label {\n",
              "  color: var(--sklearn-color-text);\n",
              "  background-color: var(--sklearn-color-unfitted-level-2);\n",
              "}\n",
              "\n",
              "/* Label box, darken color on hover, fitted */\n",
              "#sk-container-id-4 div.sk-label.fitted:hover label.sk-toggleable__label.fitted {\n",
              "  color: var(--sklearn-color-text);\n",
              "  background-color: var(--sklearn-color-fitted-level-2);\n",
              "}\n",
              "\n",
              "/* Estimator label */\n",
              "\n",
              "#sk-container-id-4 div.sk-label label {\n",
              "  font-family: monospace;\n",
              "  font-weight: bold;\n",
              "  display: inline-block;\n",
              "  line-height: 1.2em;\n",
              "}\n",
              "\n",
              "#sk-container-id-4 div.sk-label-container {\n",
              "  text-align: center;\n",
              "}\n",
              "\n",
              "/* Estimator-specific */\n",
              "#sk-container-id-4 div.sk-estimator {\n",
              "  font-family: monospace;\n",
              "  border: 1px dotted var(--sklearn-color-border-box);\n",
              "  border-radius: 0.25em;\n",
              "  box-sizing: border-box;\n",
              "  margin-bottom: 0.5em;\n",
              "  /* unfitted */\n",
              "  background-color: var(--sklearn-color-unfitted-level-0);\n",
              "}\n",
              "\n",
              "#sk-container-id-4 div.sk-estimator.fitted {\n",
              "  /* fitted */\n",
              "  background-color: var(--sklearn-color-fitted-level-0);\n",
              "}\n",
              "\n",
              "/* on hover */\n",
              "#sk-container-id-4 div.sk-estimator:hover {\n",
              "  /* unfitted */\n",
              "  background-color: var(--sklearn-color-unfitted-level-2);\n",
              "}\n",
              "\n",
              "#sk-container-id-4 div.sk-estimator.fitted:hover {\n",
              "  /* fitted */\n",
              "  background-color: var(--sklearn-color-fitted-level-2);\n",
              "}\n",
              "\n",
              "/* Specification for estimator info (e.g. \"i\" and \"?\") */\n",
              "\n",
              "/* Common style for \"i\" and \"?\" */\n",
              "\n",
              ".sk-estimator-doc-link,\n",
              "a:link.sk-estimator-doc-link,\n",
              "a:visited.sk-estimator-doc-link {\n",
              "  float: right;\n",
              "  font-size: smaller;\n",
              "  line-height: 1em;\n",
              "  font-family: monospace;\n",
              "  background-color: var(--sklearn-color-background);\n",
              "  border-radius: 1em;\n",
              "  height: 1em;\n",
              "  width: 1em;\n",
              "  text-decoration: none !important;\n",
              "  margin-left: 1ex;\n",
              "  /* unfitted */\n",
              "  border: var(--sklearn-color-unfitted-level-1) 1pt solid;\n",
              "  color: var(--sklearn-color-unfitted-level-1);\n",
              "}\n",
              "\n",
              ".sk-estimator-doc-link.fitted,\n",
              "a:link.sk-estimator-doc-link.fitted,\n",
              "a:visited.sk-estimator-doc-link.fitted {\n",
              "  /* fitted */\n",
              "  border: var(--sklearn-color-fitted-level-1) 1pt solid;\n",
              "  color: var(--sklearn-color-fitted-level-1);\n",
              "}\n",
              "\n",
              "/* On hover */\n",
              "div.sk-estimator:hover .sk-estimator-doc-link:hover,\n",
              ".sk-estimator-doc-link:hover,\n",
              "div.sk-label-container:hover .sk-estimator-doc-link:hover,\n",
              ".sk-estimator-doc-link:hover {\n",
              "  /* unfitted */\n",
              "  background-color: var(--sklearn-color-unfitted-level-3);\n",
              "  color: var(--sklearn-color-background);\n",
              "  text-decoration: none;\n",
              "}\n",
              "\n",
              "div.sk-estimator.fitted:hover .sk-estimator-doc-link.fitted:hover,\n",
              ".sk-estimator-doc-link.fitted:hover,\n",
              "div.sk-label-container:hover .sk-estimator-doc-link.fitted:hover,\n",
              ".sk-estimator-doc-link.fitted:hover {\n",
              "  /* fitted */\n",
              "  background-color: var(--sklearn-color-fitted-level-3);\n",
              "  color: var(--sklearn-color-background);\n",
              "  text-decoration: none;\n",
              "}\n",
              "\n",
              "/* Span, style for the box shown on hovering the info icon */\n",
              ".sk-estimator-doc-link span {\n",
              "  display: none;\n",
              "  z-index: 9999;\n",
              "  position: relative;\n",
              "  font-weight: normal;\n",
              "  right: .2ex;\n",
              "  padding: .5ex;\n",
              "  margin: .5ex;\n",
              "  width: min-content;\n",
              "  min-width: 20ex;\n",
              "  max-width: 50ex;\n",
              "  color: var(--sklearn-color-text);\n",
              "  box-shadow: 2pt 2pt 4pt #999;\n",
              "  /* unfitted */\n",
              "  background: var(--sklearn-color-unfitted-level-0);\n",
              "  border: .5pt solid var(--sklearn-color-unfitted-level-3);\n",
              "}\n",
              "\n",
              ".sk-estimator-doc-link.fitted span {\n",
              "  /* fitted */\n",
              "  background: var(--sklearn-color-fitted-level-0);\n",
              "  border: var(--sklearn-color-fitted-level-3);\n",
              "}\n",
              "\n",
              ".sk-estimator-doc-link:hover span {\n",
              "  display: block;\n",
              "}\n",
              "\n",
              "/* \"?\"-specific style due to the `<a>` HTML tag */\n",
              "\n",
              "#sk-container-id-4 a.estimator_doc_link {\n",
              "  float: right;\n",
              "  font-size: 1rem;\n",
              "  line-height: 1em;\n",
              "  font-family: monospace;\n",
              "  background-color: var(--sklearn-color-background);\n",
              "  border-radius: 1rem;\n",
              "  height: 1rem;\n",
              "  width: 1rem;\n",
              "  text-decoration: none;\n",
              "  /* unfitted */\n",
              "  color: var(--sklearn-color-unfitted-level-1);\n",
              "  border: var(--sklearn-color-unfitted-level-1) 1pt solid;\n",
              "}\n",
              "\n",
              "#sk-container-id-4 a.estimator_doc_link.fitted {\n",
              "  /* fitted */\n",
              "  border: var(--sklearn-color-fitted-level-1) 1pt solid;\n",
              "  color: var(--sklearn-color-fitted-level-1);\n",
              "}\n",
              "\n",
              "/* On hover */\n",
              "#sk-container-id-4 a.estimator_doc_link:hover {\n",
              "  /* unfitted */\n",
              "  background-color: var(--sklearn-color-unfitted-level-3);\n",
              "  color: var(--sklearn-color-background);\n",
              "  text-decoration: none;\n",
              "}\n",
              "\n",
              "#sk-container-id-4 a.estimator_doc_link.fitted:hover {\n",
              "  /* fitted */\n",
              "  background-color: var(--sklearn-color-fitted-level-3);\n",
              "}\n",
              "</style><div id=\"sk-container-id-4\" class=\"sk-top-container\"><div class=\"sk-text-repr-fallback\"><pre>LatentDirichletAllocation(random_state=42)</pre><b>In a Jupyter environment, please rerun this cell to show the HTML representation or trust the notebook. <br />On GitHub, the HTML representation is unable to render, please try loading this page with nbviewer.org.</b></div><div class=\"sk-container\" hidden><div class=\"sk-item\"><div class=\"sk-estimator fitted sk-toggleable\"><input class=\"sk-toggleable__control sk-hidden--visually\" id=\"sk-estimator-id-4\" type=\"checkbox\" checked><label for=\"sk-estimator-id-4\" class=\"sk-toggleable__label fitted sk-toggleable__label-arrow fitted\">&nbsp;&nbsp;LatentDirichletAllocation<a class=\"sk-estimator-doc-link fitted\" rel=\"noreferrer\" target=\"_blank\" href=\"https://scikit-learn.org/1.5/modules/generated/sklearn.decomposition.LatentDirichletAllocation.html\">?<span>Documentation for LatentDirichletAllocation</span></a><span class=\"sk-estimator-doc-link fitted\">i<span>Fitted</span></span></label><div class=\"sk-toggleable__content fitted\"><pre>LatentDirichletAllocation(random_state=42)</pre></div> </div></div></div></div>"
            ]
          },
          "metadata": {},
          "execution_count": 55
        }
      ]
    },
    {
      "cell_type": "markdown",
      "source": [
        "#### Train LDA Topic Models"
      ],
      "metadata": {
        "id": "nYPfEiGrlE1a"
      }
    },
    {
      "cell_type": "code",
      "source": [
        "# Function to print topic words\n",
        "def display_topics(model, feature_names, no_top_words=10):\n",
        "    topics = []\n",
        "    for topic_idx, topic in enumerate(model.components_):\n",
        "        top_words = [feature_names[i] for i in topic.argsort()[:-no_top_words - 1:-1]]\n",
        "        topics.append(f\"Topic {topic_idx + 1}: {', '.join(top_words)}\")\n",
        "    return topics\n",
        "\n",
        "# Define LDA hyperparameters to test\n",
        "lda_hyperparams = [\n",
        "    {\"n_components\": 2, \"learning_decay\": 0.5},\n",
        "    {\"n_components\": 4, \"learning_decay\": 0.5},\n",
        "    {\"n_components\": 6, \"learning_decay\": 0.5},\n",
        "    {\"n_components\": 8, \"learning_decay\": 0.5},\n",
        "    {\"n_components\": 10, \"learning_decay\": 0.5},\n",
        "    {\"n_components\": 12, \"learning_decay\": 0.5},\n",
        "]\n",
        "\n",
        "lda_results = []\n",
        "\n",
        "print(\"Training LDA models...\\n\")\n",
        "\n",
        "for params in lda_hyperparams:\n",
        "    # Train the LDA model\n",
        "    lda = LatentDirichletAllocation(\n",
        "        n_components=params[\"n_components\"],\n",
        "        learning_decay=params[\"learning_decay\"],\n",
        "        random_state=42\n",
        "    )\n",
        "    lda.fit(lda_dtm)\n",
        "\n",
        "    # Perplexity\n",
        "    perplexity = lda.perplexity(lda_dtm)\n",
        "\n",
        "    # Extract word-topic and document-topic tables\n",
        "    word_topic_table = lda.components_\n",
        "    doc_topic_table = lda.transform(lda_dtm)\n",
        "\n",
        "    # Store results\n",
        "    lda_results.append({\n",
        "        \"hyperparams\": params,\n",
        "        \"perplexity\": perplexity,\n",
        "        \"word_topic_table\": word_topic_table,\n",
        "        \"doc_topic_table\": doc_topic_table,\n",
        "    })\n",
        "\n",
        "    # Display topics\n",
        "    topics = display_topics(lda, lda_feature_names)\n",
        "    print(f\"Hyperparameters: {params}\")\n",
        "    print(f\"Perplexity: {perplexity:.2f}\")\n",
        "    for topic in topics:\n",
        "        print(topic)\n",
        "    print(\"\\n\")"
      ],
      "metadata": {
        "colab": {
          "base_uri": "https://localhost:8080/"
        },
        "id": "io103BqalAAC",
        "outputId": "d6e684a2-67b7-4bff-f180-b3ff83feeeff"
      },
      "execution_count": null,
      "outputs": [
        {
          "output_type": "stream",
          "name": "stderr",
          "text": [
            "/usr/local/lib/python3.10/dist-packages/ipykernel/ipkernel.py:283: DeprecationWarning: `should_run_async` will not call `transform_cell` automatically in the future. Please pass the result to `transformed_cell` argument and any exception that happen during thetransform in `preprocessing_exc_tuple` in IPython 7.17 and above.\n",
            "  and should_run_async(code)\n"
          ]
        },
        {
          "output_type": "stream",
          "name": "stdout",
          "text": [
            "Training LDA models...\n",
            "\n",
            "Hyperparameters: {'n_components': 2, 'learning_decay': 0.5}\n",
            "Perplexity: 674.82\n",
            "Topic 1: said, mr, year, government, new, people, company, say, labour, party\n",
            "Topic 2: said, year, game, film, people, new, time, world, player, best\n",
            "\n",
            "\n",
            "Hyperparameters: {'n_components': 4, 'learning_decay': 0.5}\n",
            "Perplexity: 589.92\n",
            "Topic 1: said, year, company, mr, firm, market, government, bank, new, economy\n",
            "Topic 2: film, said, year, music, best, game, award, new, star, tv\n",
            "Topic 3: said, game, england, player, win, year, time, world, club, wale\n",
            "Topic 4: said, mr, people, say, labour, service, party, new, election, technology\n",
            "\n",
            "\n",
            "Hyperparameters: {'n_components': 6, 'learning_decay': 0.5}\n",
            "Perplexity: 539.83\n",
            "Topic 1: said, mr, company, firm, year, government, new, court, group, country\n",
            "Topic 2: film, said, year, music, best, award, game, new, star, tv\n",
            "Topic 3: mr, said, labour, party, election, government, blair, minister, tory, people\n",
            "Topic 4: said, people, technology, mobile, service, phone, user, mr, use, new\n",
            "Topic 5: said, game, england, player, win, year, time, world, play, club\n",
            "Topic 6: year, said, market, growth, economy, price, rate, sale, economic, china\n",
            "\n",
            "\n",
            "Hyperparameters: {'n_components': 8, 'learning_decay': 0.5}\n",
            "Perplexity: 528.65\n",
            "Topic 1: said, company, firm, mr, share, deal, bank, year, new, executive\n",
            "Topic 2: film, best, year, award, said, star, new, music, actor, number\n",
            "Topic 3: lord, home, minute, card, penalty, try, ball, scottish, scotland, blunkett\n",
            "Topic 4: said, mr, people, say, law, site, security, new, right, told\n",
            "Topic 5: said, game, player, england, year, win, world, time, play, team\n",
            "Topic 6: said, year, growth, economy, price, market, rate, china, sale, economic\n",
            "Topic 7: mr, said, labour, election, government, party, blair, minister, tory, brown\n",
            "Topic 8: said, people, technology, mobile, phone, service, game, music, digital, new\n",
            "\n",
            "\n",
            "Hyperparameters: {'n_components': 10, 'learning_decay': 0.5}\n",
            "Perplexity: 519.33\n",
            "Topic 1: said, company, firm, mr, share, bank, year, business, deal, executive\n",
            "Topic 2: film, best, award, year, said, star, actor, new, director, music\n",
            "Topic 3: said, lord, government, mr, home, tory, secretary, plan, card, mp\n",
            "Topic 4: said, mr, people, say, uk, government, new, right, child, law\n",
            "Topic 5: said, game, player, england, win, year, time, world, team, play\n",
            "Topic 6: said, year, china, country, market, sale, price, world, eu, euro\n",
            "Topic 7: said, tax, year, rate, economy, government, economic, spending, growth, figure\n",
            "Topic 8: said, people, technology, mobile, phone, game, service, digital, music, new\n",
            "Topic 9: mr, labour, election, blair, party, said, brown, minister, prime, tory\n",
            "Topic 10: said, site, software, user, security, search, firm, people, microsoft, program\n",
            "\n",
            "\n",
            "Hyperparameters: {'n_components': 12, 'learning_decay': 0.5}\n",
            "Perplexity: 515.46\n",
            "Topic 1: said, company, firm, mr, share, bank, market, business, year, executive\n",
            "Topic 2: game, said, open, like, year, play, title, world, time, say\n",
            "Topic 3: minute, card, penalty, ball, home, try, goal, ireland, second, lead\n",
            "Topic 4: said, people, user, computer, software, net, site, service, use, information\n",
            "Topic 5: said, game, england, player, win, year, time, club, match, team\n",
            "Topic 6: said, year, china, eu, european, oil, euro, country, profit, price\n",
            "Topic 7: said, year, economy, rate, growth, economic, figure, rise, tax, spending\n",
            "Topic 8: mobile, technology, phone, said, people, digital, music, tv, service, video\n",
            "Topic 9: world, aid, country, blog, record, woman, tsunami, disaster, year, africa\n",
            "Topic 10: said, sale, court, music, yukos, legal, band, single, chart, law\n",
            "Topic 11: film, best, award, year, said, star, actor, director, new, oscar\n",
            "Topic 12: said, mr, labour, government, party, election, minister, people, blair, say\n",
            "\n",
            "\n"
          ]
        }
      ]
    },
    {
      "cell_type": "code",
      "source": [
        "# lda_perlexity Graphics\n",
        "perplexities = [result[\"perplexity\"] for result in lda_results]\n",
        "hyperparameters = [str(result[\"hyperparams\"]) for result in lda_results]\n",
        "\n",
        "plt.figure(figsize=(10, 6))\n",
        "plt.plot(hyperparameters, perplexities, marker='o')\n",
        "plt.xlabel(\"Hyperparameters\")\n",
        "plt.ylabel(\"Perplexity\")\n",
        "plt.title(\"Perplexity Scores for Different LDA Hyperparameters\")\n",
        "plt.xticks(rotation=45, ha=\"right\")  # Rotate x-axis labels for better readability\n",
        "plt.tight_layout()\n",
        "plt.show()"
      ],
      "metadata": {
        "colab": {
          "base_uri": "https://localhost:8080/",
          "height": 662
        },
        "id": "hW9DQ0GG434x",
        "outputId": "26d7fc8c-cf18-4003-823e-356a5f43f872"
      },
      "execution_count": null,
      "outputs": [
        {
          "output_type": "stream",
          "name": "stderr",
          "text": [
            "/usr/local/lib/python3.10/dist-packages/ipykernel/ipkernel.py:283: DeprecationWarning: `should_run_async` will not call `transform_cell` automatically in the future. Please pass the result to `transformed_cell` argument and any exception that happen during thetransform in `preprocessing_exc_tuple` in IPython 7.17 and above.\n",
            "  and should_run_async(code)\n"
          ]
        },
        {
          "output_type": "display_data",
          "data": {
            "text/plain": [
              "<Figure size 1000x600 with 1 Axes>"
            ],
            "image/png": "[encoded data removed]"
          },
          "metadata": {}
        }
      ]
    },
    {
      "cell_type": "markdown",
      "source": [
        "#### Vectorization for NMF (TfidfVectorizer)"
      ],
      "metadata": {
        "id": "NQWHZq6GM8ll"
      }
    },
    {
      "cell_type": "code",
      "source": [
        "tfidf_vectorizer = TfidfVectorizer(max_features=1105, stop_words='english')\n",
        "nmf_dtm = tfidf_vectorizer.fit_transform(df['processed_text'])"
      ],
      "metadata": {
        "id": "Sq0eE8DhM5dh",
        "colab": {
          "base_uri": "https://localhost:8080/"
        },
        "outputId": "817c3ec6-6941-4687-da83-5272fd5fac65"
      },
      "execution_count": null,
      "outputs": [
        {
          "output_type": "stream",
          "name": "stderr",
          "text": [
            "/usr/local/lib/python3.10/dist-packages/ipykernel/ipkernel.py:283: DeprecationWarning: `should_run_async` will not call `transform_cell` automatically in the future. Please pass the result to `transformed_cell` argument and any exception that happen during thetransform in `preprocessing_exc_tuple` in IPython 7.17 and above.\n",
            "  and should_run_async(code)\n"
          ]
        }
      ]
    },
    {
      "cell_type": "code",
      "source": [
        "\n",
        "# Save the feature names for reference\n",
        "nmf_feature_names = tfidf_vectorizer.get_feature_names_out()\n"
      ],
      "metadata": {
        "id": "OjCFCNeQNbVQ",
        "colab": {
          "base_uri": "https://localhost:8080/"
        },
        "outputId": "38a2f493-b43a-4753-c214-044a8e9c7856"
      },
      "execution_count": null,
      "outputs": [
        {
          "output_type": "stream",
          "name": "stderr",
          "text": [
            "/usr/local/lib/python3.10/dist-packages/ipykernel/ipkernel.py:283: DeprecationWarning: `should_run_async` will not call `transform_cell` automatically in the future. Please pass the result to `transformed_cell` argument and any exception that happen during thetransform in `preprocessing_exc_tuple` in IPython 7.17 and above.\n",
            "  and should_run_async(code)\n"
          ]
        }
      ]
    },
    {
      "cell_type": "code",
      "source": [
        "# Display summary for NMF DTM\n",
        "print(f\"NMF DTM Shape: {nmf_dtm.shape}\")\n",
        "print(f\"NMF Feature Names: {nmf_feature_names}\")"
      ],
      "metadata": {
        "colab": {
          "base_uri": "https://localhost:8080/"
        },
        "id": "O_5kjJ_7NhKM",
        "outputId": "9e269367-fbbe-42b0-a608-5029652f8582"
      },
      "execution_count": null,
      "outputs": [
        {
          "output_type": "stream",
          "name": "stdout",
          "text": [
            "NMF DTM Shape: (2205, 1105)\n",
            "NMF Feature Names: ['ability' 'able' 'access' ... 'york' 'young' 'yukos']\n"
          ]
        },
        {
          "output_type": "stream",
          "name": "stderr",
          "text": [
            "/usr/local/lib/python3.10/dist-packages/ipykernel/ipkernel.py:283: DeprecationWarning: `should_run_async` will not call `transform_cell` automatically in the future. Please pass the result to `transformed_cell` argument and any exception that happen during thetransform in `preprocessing_exc_tuple` in IPython 7.17 and above.\n",
            "  and should_run_async(code)\n"
          ]
        }
      ]
    },
    {
      "cell_type": "markdown",
      "source": [
        "### NMF Model"
      ],
      "metadata": {
        "id": "VqpskYC7i79a"
      }
    },
    {
      "cell_type": "code",
      "source": [
        "# NMF Model\n",
        "nmf_model = NMF(n_components=10, random_state=42)\n",
        "nmf_model.fit(nmf_dtm)"
      ],
      "metadata": {
        "colab": {
          "base_uri": "https://localhost:8080/",
          "height": 135
        },
        "id": "W-EopA04PBue",
        "outputId": "146cd86b-1816-410b-9985-7b2bc0ad58b1"
      },
      "execution_count": null,
      "outputs": [
        {
          "output_type": "stream",
          "name": "stderr",
          "text": [
            "/usr/local/lib/python3.10/dist-packages/ipykernel/ipkernel.py:283: DeprecationWarning: `should_run_async` will not call `transform_cell` automatically in the future. Please pass the result to `transformed_cell` argument and any exception that happen during thetransform in `preprocessing_exc_tuple` in IPython 7.17 and above.\n",
            "  and should_run_async(code)\n"
          ]
        },
        {
          "output_type": "execute_result",
          "data": {
            "text/plain": [
              "NMF(n_components=10, random_state=42)"
            ],
            "text/html": [
              "<style>#sk-container-id-5 {\n",
              "  /* Definition of color scheme common for light and dark mode */\n",
              "  --sklearn-color-text: black;\n",
              "  --sklearn-color-line: gray;\n",
              "  /* Definition of color scheme for unfitted estimators */\n",
              "  --sklearn-color-unfitted-level-0: #fff5e6;\n",
              "  --sklearn-color-unfitted-level-1: #f6e4d2;\n",
              "  --sklearn-color-unfitted-level-2: #ffe0b3;\n",
              "  --sklearn-color-unfitted-level-3: chocolate;\n",
              "  /* Definition of color scheme for fitted estimators */\n",
              "  --sklearn-color-fitted-level-0: #f0f8ff;\n",
              "  --sklearn-color-fitted-level-1: #d4ebff;\n",
              "  --sklearn-color-fitted-level-2: #b3dbfd;\n",
              "  --sklearn-color-fitted-level-3: cornflowerblue;\n",
              "\n",
              "  /* Specific color for light theme */\n",
              "  --sklearn-color-text-on-default-background: var(--sg-text-color, var(--theme-code-foreground, var(--jp-content-font-color1, black)));\n",
              "  --sklearn-color-background: var(--sg-background-color, var(--theme-background, var(--jp-layout-color0, white)));\n",
              "  --sklearn-color-border-box: var(--sg-text-color, var(--theme-code-foreground, var(--jp-content-font-color1, black)));\n",
              "  --sklearn-color-icon: #696969;\n",
              "\n",
              "  @media (prefers-color-scheme: dark) {\n",
              "    /* Redefinition of color scheme for dark theme */\n",
              "    --sklearn-color-text-on-default-background: var(--sg-text-color, var(--theme-code-foreground, var(--jp-content-font-color1, white)));\n",
              "    --sklearn-color-background: var(--sg-background-color, var(--theme-background, var(--jp-layout-color0, #111)));\n",
              "    --sklearn-color-border-box: var(--sg-text-color, var(--theme-code-foreground, var(--jp-content-font-color1, white)));\n",
              "    --sklearn-color-icon: #878787;\n",
              "  }\n",
              "}\n",
              "\n",
              "#sk-container-id-5 {\n",
              "  color: var(--sklearn-color-text);\n",
              "}\n",
              "\n",
              "#sk-container-id-5 pre {\n",
              "  padding: 0;\n",
              "}\n",
              "\n",
              "#sk-container-id-5 input.sk-hidden--visually {\n",
              "  border: 0;\n",
              "  clip: rect(1px 1px 1px 1px);\n",
              "  clip: rect(1px, 1px, 1px, 1px);\n",
              "  height: 1px;\n",
              "  margin: -1px;\n",
              "  overflow: hidden;\n",
              "  padding: 0;\n",
              "  position: absolute;\n",
              "  width: 1px;\n",
              "}\n",
              "\n",
              "#sk-container-id-5 div.sk-dashed-wrapped {\n",
              "  border: 1px dashed var(--sklearn-color-line);\n",
              "  margin: 0 0.4em 0.5em 0.4em;\n",
              "  box-sizing: border-box;\n",
              "  padding-bottom: 0.4em;\n",
              "  background-color: var(--sklearn-color-background);\n",
              "}\n",
              "\n",
              "#sk-container-id-5 div.sk-container {\n",
              "  /* jupyter's `normalize.less` sets `[hidden] { display: none; }`\n",
              "     but bootstrap.min.css set `[hidden] { display: none !important; }`\n",
              "     so we also need the `!important` here to be able to override the\n",
              "     default hidden behavior on the sphinx rendered scikit-learn.org.\n",
              "     See: https://github.com/scikit-learn/scikit-learn/issues/21755 */\n",
              "  display: inline-block !important;\n",
              "  position: relative;\n",
              "}\n",
              "\n",
              "#sk-container-id-5 div.sk-text-repr-fallback {\n",
              "  display: none;\n",
              "}\n",
              "\n",
              "div.sk-parallel-item,\n",
              "div.sk-serial,\n",
              "div.sk-item {\n",
              "  /* draw centered vertical line to link estimators */\n",
              "  background-image: linear-gradient(var(--sklearn-color-text-on-default-background), var(--sklearn-color-text-on-default-background));\n",
              "  background-size: 2px 100%;\n",
              "  background-repeat: no-repeat;\n",
              "  background-position: center center;\n",
              "}\n",
              "\n",
              "/* Parallel-specific style estimator block */\n",
              "\n",
              "#sk-container-id-5 div.sk-parallel-item::after {\n",
              "  content: \"\";\n",
              "  width: 100%;\n",
              "  border-bottom: 2px solid var(--sklearn-color-text-on-default-background);\n",
              "  flex-grow: 1;\n",
              "}\n",
              "\n",
              "#sk-container-id-5 div.sk-parallel {\n",
              "  display: flex;\n",
              "  align-items: stretch;\n",
              "  justify-content: center;\n",
              "  background-color: var(--sklearn-color-background);\n",
              "  position: relative;\n",
              "}\n",
              "\n",
              "#sk-container-id-5 div.sk-parallel-item {\n",
              "  display: flex;\n",
              "  flex-direction: column;\n",
              "}\n",
              "\n",
              "#sk-container-id-5 div.sk-parallel-item:first-child::after {\n",
              "  align-self: flex-end;\n",
              "  width: 50%;\n",
              "}\n",
              "\n",
              "#sk-container-id-5 div.sk-parallel-item:last-child::after {\n",
              "  align-self: flex-start;\n",
              "  width: 50%;\n",
              "}\n",
              "\n",
              "#sk-container-id-5 div.sk-parallel-item:only-child::after {\n",
              "  width: 0;\n",
              "}\n",
              "\n",
              "/* Serial-specific style estimator block */\n",
              "\n",
              "#sk-container-id-5 div.sk-serial {\n",
              "  display: flex;\n",
              "  flex-direction: column;\n",
              "  align-items: center;\n",
              "  background-color: var(--sklearn-color-background);\n",
              "  padding-right: 1em;\n",
              "  padding-left: 1em;\n",
              "}\n",
              "\n",
              "\n",
              "/* Toggleable style: style used for estimator/Pipeline/ColumnTransformer box that is\n",
              "clickable and can be expanded/collapsed.\n",
              "- Pipeline and ColumnTransformer use this feature and define the default style\n",
              "- Estimators will overwrite some part of the style using the `sk-estimator` class\n",
              "*/\n",
              "\n",
              "/* Pipeline and ColumnTransformer style (default) */\n",
              "\n",
              "#sk-container-id-5 div.sk-toggleable {\n",
              "  /* Default theme specific background. It is overwritten whether we have a\n",
              "  specific estimator or a Pipeline/ColumnTransformer */\n",
              "  background-color: var(--sklearn-color-background);\n",
              "}\n",
              "\n",
              "/* Toggleable label */\n",
              "#sk-container-id-5 label.sk-toggleable__label {\n",
              "  cursor: pointer;\n",
              "  display: block;\n",
              "  width: 100%;\n",
              "  margin-bottom: 0;\n",
              "  padding: 0.5em;\n",
              "  box-sizing: border-box;\n",
              "  text-align: center;\n",
              "}\n",
              "\n",
              "#sk-container-id-5 label.sk-toggleable__label-arrow:before {\n",
              "  /* Arrow on the left of the label */\n",
              "  content: \"▸\";\n",
              "  float: left;\n",
              "  margin-right: 0.25em;\n",
              "  color: var(--sklearn-color-icon);\n",
              "}\n",
              "\n",
              "#sk-container-id-5 label.sk-toggleable__label-arrow:hover:before {\n",
              "  color: var(--sklearn-color-text);\n",
              "}\n",
              "\n",
              "/* Toggleable content - dropdown */\n",
              "\n",
              "#sk-container-id-5 div.sk-toggleable__content {\n",
              "  max-height: 0;\n",
              "  max-width: 0;\n",
              "  overflow: hidden;\n",
              "  text-align: left;\n",
              "  /* unfitted */\n",
              "  background-color: var(--sklearn-color-unfitted-level-0);\n",
              "}\n",
              "\n",
              "#sk-container-id-5 div.sk-toggleable__content.fitted {\n",
              "  /* fitted */\n",
              "  background-color: var(--sklearn-color-fitted-level-0);\n",
              "}\n",
              "\n",
              "#sk-container-id-5 div.sk-toggleable__content pre {\n",
              "  margin: 0.2em;\n",
              "  border-radius: 0.25em;\n",
              "  color: var(--sklearn-color-text);\n",
              "  /* unfitted */\n",
              "  background-color: var(--sklearn-color-unfitted-level-0);\n",
              "}\n",
              "\n",
              "#sk-container-id-5 div.sk-toggleable__content.fitted pre {\n",
              "  /* unfitted */\n",
              "  background-color: var(--sklearn-color-fitted-level-0);\n",
              "}\n",
              "\n",
              "#sk-container-id-5 input.sk-toggleable__control:checked~div.sk-toggleable__content {\n",
              "  /* Expand drop-down */\n",
              "  max-height: 200px;\n",
              "  max-width: 100%;\n",
              "  overflow: auto;\n",
              "}\n",
              "\n",
              "#sk-container-id-5 input.sk-toggleable__control:checked~label.sk-toggleable__label-arrow:before {\n",
              "  content: \"▾\";\n",
              "}\n",
              "\n",
              "/* Pipeline/ColumnTransformer-specific style */\n",
              "\n",
              "#sk-container-id-5 div.sk-label input.sk-toggleable__control:checked~label.sk-toggleable__label {\n",
              "  color: var(--sklearn-color-text);\n",
              "  background-color: var(--sklearn-color-unfitted-level-2);\n",
              "}\n",
              "\n",
              "#sk-container-id-5 div.sk-label.fitted input.sk-toggleable__control:checked~label.sk-toggleable__label {\n",
              "  background-color: var(--sklearn-color-fitted-level-2);\n",
              "}\n",
              "\n",
              "/* Estimator-specific style */\n",
              "\n",
              "/* Colorize estimator box */\n",
              "#sk-container-id-5 div.sk-estimator input.sk-toggleable__control:checked~label.sk-toggleable__label {\n",
              "  /* unfitted */\n",
              "  background-color: var(--sklearn-color-unfitted-level-2);\n",
              "}\n",
              "\n",
              "#sk-container-id-5 div.sk-estimator.fitted input.sk-toggleable__control:checked~label.sk-toggleable__label {\n",
              "  /* fitted */\n",
              "  background-color: var(--sklearn-color-fitted-level-2);\n",
              "}\n",
              "\n",
              "#sk-container-id-5 div.sk-label label.sk-toggleable__label,\n",
              "#sk-container-id-5 div.sk-label label {\n",
              "  /* The background is the default theme color */\n",
              "  color: var(--sklearn-color-text-on-default-background);\n",
              "}\n",
              "\n",
              "/* On hover, darken the color of the background */\n",
              "#sk-container-id-5 div.sk-label:hover label.sk-toggleable__label {\n",
              "  color: var(--sklearn-color-text);\n",
              "  background-color: var(--sklearn-color-unfitted-level-2);\n",
              "}\n",
              "\n",
              "/* Label box, darken color on hover, fitted */\n",
              "#sk-container-id-5 div.sk-label.fitted:hover label.sk-toggleable__label.fitted {\n",
              "  color: var(--sklearn-color-text);\n",
              "  background-color: var(--sklearn-color-fitted-level-2);\n",
              "}\n",
              "\n",
              "/* Estimator label */\n",
              "\n",
              "#sk-container-id-5 div.sk-label label {\n",
              "  font-family: monospace;\n",
              "  font-weight: bold;\n",
              "  display: inline-block;\n",
              "  line-height: 1.2em;\n",
              "}\n",
              "\n",
              "#sk-container-id-5 div.sk-label-container {\n",
              "  text-align: center;\n",
              "}\n",
              "\n",
              "/* Estimator-specific */\n",
              "#sk-container-id-5 div.sk-estimator {\n",
              "  font-family: monospace;\n",
              "  border: 1px dotted var(--sklearn-color-border-box);\n",
              "  border-radius: 0.25em;\n",
              "  box-sizing: border-box;\n",
              "  margin-bottom: 0.5em;\n",
              "  /* unfitted */\n",
              "  background-color: var(--sklearn-color-unfitted-level-0);\n",
              "}\n",
              "\n",
              "#sk-container-id-5 div.sk-estimator.fitted {\n",
              "  /* fitted */\n",
              "  background-color: var(--sklearn-color-fitted-level-0);\n",
              "}\n",
              "\n",
              "/* on hover */\n",
              "#sk-container-id-5 div.sk-estimator:hover {\n",
              "  /* unfitted */\n",
              "  background-color: var(--sklearn-color-unfitted-level-2);\n",
              "}\n",
              "\n",
              "#sk-container-id-5 div.sk-estimator.fitted:hover {\n",
              "  /* fitted */\n",
              "  background-color: var(--sklearn-color-fitted-level-2);\n",
              "}\n",
              "\n",
              "/* Specification for estimator info (e.g. \"i\" and \"?\") */\n",
              "\n",
              "/* Common style for \"i\" and \"?\" */\n",
              "\n",
              ".sk-estimator-doc-link,\n",
              "a:link.sk-estimator-doc-link,\n",
              "a:visited.sk-estimator-doc-link {\n",
              "  float: right;\n",
              "  font-size: smaller;\n",
              "  line-height: 1em;\n",
              "  font-family: monospace;\n",
              "  background-color: var(--sklearn-color-background);\n",
              "  border-radius: 1em;\n",
              "  height: 1em;\n",
              "  width: 1em;\n",
              "  text-decoration: none !important;\n",
              "  margin-left: 1ex;\n",
              "  /* unfitted */\n",
              "  border: var(--sklearn-color-unfitted-level-1) 1pt solid;\n",
              "  color: var(--sklearn-color-unfitted-level-1);\n",
              "}\n",
              "\n",
              ".sk-estimator-doc-link.fitted,\n",
              "a:link.sk-estimator-doc-link.fitted,\n",
              "a:visited.sk-estimator-doc-link.fitted {\n",
              "  /* fitted */\n",
              "  border: var(--sklearn-color-fitted-level-1) 1pt solid;\n",
              "  color: var(--sklearn-color-fitted-level-1);\n",
              "}\n",
              "\n",
              "/* On hover */\n",
              "div.sk-estimator:hover .sk-estimator-doc-link:hover,\n",
              ".sk-estimator-doc-link:hover,\n",
              "div.sk-label-container:hover .sk-estimator-doc-link:hover,\n",
              ".sk-estimator-doc-link:hover {\n",
              "  /* unfitted */\n",
              "  background-color: var(--sklearn-color-unfitted-level-3);\n",
              "  color: var(--sklearn-color-background);\n",
              "  text-decoration: none;\n",
              "}\n",
              "\n",
              "div.sk-estimator.fitted:hover .sk-estimator-doc-link.fitted:hover,\n",
              ".sk-estimator-doc-link.fitted:hover,\n",
              "div.sk-label-container:hover .sk-estimator-doc-link.fitted:hover,\n",
              ".sk-estimator-doc-link.fitted:hover {\n",
              "  /* fitted */\n",
              "  background-color: var(--sklearn-color-fitted-level-3);\n",
              "  color: var(--sklearn-color-background);\n",
              "  text-decoration: none;\n",
              "}\n",
              "\n",
              "/* Span, style for the box shown on hovering the info icon */\n",
              ".sk-estimator-doc-link span {\n",
              "  display: none;\n",
              "  z-index: 9999;\n",
              "  position: relative;\n",
              "  font-weight: normal;\n",
              "  right: .2ex;\n",
              "  padding: .5ex;\n",
              "  margin: .5ex;\n",
              "  width: min-content;\n",
              "  min-width: 20ex;\n",
              "  max-width: 50ex;\n",
              "  color: var(--sklearn-color-text);\n",
              "  box-shadow: 2pt 2pt 4pt #999;\n",
              "  /* unfitted */\n",
              "  background: var(--sklearn-color-unfitted-level-0);\n",
              "  border: .5pt solid var(--sklearn-color-unfitted-level-3);\n",
              "}\n",
              "\n",
              ".sk-estimator-doc-link.fitted span {\n",
              "  /* fitted */\n",
              "  background: var(--sklearn-color-fitted-level-0);\n",
              "  border: var(--sklearn-color-fitted-level-3);\n",
              "}\n",
              "\n",
              ".sk-estimator-doc-link:hover span {\n",
              "  display: block;\n",
              "}\n",
              "\n",
              "/* \"?\"-specific style due to the `<a>` HTML tag */\n",
              "\n",
              "#sk-container-id-5 a.estimator_doc_link {\n",
              "  float: right;\n",
              "  font-size: 1rem;\n",
              "  line-height: 1em;\n",
              "  font-family: monospace;\n",
              "  background-color: var(--sklearn-color-background);\n",
              "  border-radius: 1rem;\n",
              "  height: 1rem;\n",
              "  width: 1rem;\n",
              "  text-decoration: none;\n",
              "  /* unfitted */\n",
              "  color: var(--sklearn-color-unfitted-level-1);\n",
              "  border: var(--sklearn-color-unfitted-level-1) 1pt solid;\n",
              "}\n",
              "\n",
              "#sk-container-id-5 a.estimator_doc_link.fitted {\n",
              "  /* fitted */\n",
              "  border: var(--sklearn-color-fitted-level-1) 1pt solid;\n",
              "  color: var(--sklearn-color-fitted-level-1);\n",
              "}\n",
              "\n",
              "/* On hover */\n",
              "#sk-container-id-5 a.estimator_doc_link:hover {\n",
              "  /* unfitted */\n",
              "  background-color: var(--sklearn-color-unfitted-level-3);\n",
              "  color: var(--sklearn-color-background);\n",
              "  text-decoration: none;\n",
              "}\n",
              "\n",
              "#sk-container-id-5 a.estimator_doc_link.fitted:hover {\n",
              "  /* fitted */\n",
              "  background-color: var(--sklearn-color-fitted-level-3);\n",
              "}\n",
              "</style><div id=\"sk-container-id-5\" class=\"sk-top-container\"><div class=\"sk-text-repr-fallback\"><pre>NMF(n_components=10, random_state=42)</pre><b>In a Jupyter environment, please rerun this cell to show the HTML representation or trust the notebook. <br />On GitHub, the HTML representation is unable to render, please try loading this page with nbviewer.org.</b></div><div class=\"sk-container\" hidden><div class=\"sk-item\"><div class=\"sk-estimator fitted sk-toggleable\"><input class=\"sk-toggleable__control sk-hidden--visually\" id=\"sk-estimator-id-5\" type=\"checkbox\" checked><label for=\"sk-estimator-id-5\" class=\"sk-toggleable__label fitted sk-toggleable__label-arrow fitted\">&nbsp;&nbsp;NMF<a class=\"sk-estimator-doc-link fitted\" rel=\"noreferrer\" target=\"_blank\" href=\"https://scikit-learn.org/1.5/modules/generated/sklearn.decomposition.NMF.html\">?<span>Documentation for NMF</span></a><span class=\"sk-estimator-doc-link fitted\">i<span>Fitted</span></span></label><div class=\"sk-toggleable__content fitted\"><pre>NMF(n_components=10, random_state=42)</pre></div> </div></div></div></div>"
            ]
          },
          "metadata": {},
          "execution_count": 61
        }
      ]
    },
    {
      "cell_type": "markdown",
      "source": [
        "#### Train NMF Topic Models"
      ],
      "metadata": {
        "id": "WtxGQuGcmR83"
      }
    },
    {
      "cell_type": "code",
      "source": [
        "# Define NMF hyperparameters to test\n",
        "nmf_hyperparams = [\n",
        "    {\"n_components\": 2, \"beta_loss\": \"frobenius\"},\n",
        "    {\"n_components\": 4, \"beta_loss\": \"kullback-leibler\"},\n",
        "    {\"n_components\": 6, \"beta_loss\": \"frobenius\"},\n",
        "    {\"n_components\": 8, \"beta_loss\": \"kullback-leibler\"},\n",
        "    {\"n_components\": 10, \"beta_loss\": \"frobenius\"},\n",
        "    {\"n_components\": 12, \"beta_loss\": \"kullback-leibler\"},\n",
        "]\n",
        "\n",
        "nmf_results = []\n",
        "\n",
        "print(\"Training NMF models...\\n\")\n",
        "\n",
        "for params in nmf_hyperparams:\n",
        "    # Train the NMF model\n",
        "    nmf = NMF(\n",
        "        n_components=params[\"n_components\"],\n",
        "        beta_loss=params[\"beta_loss\"],\n",
        "        solver=\"mu\",  # Multiplicative update solver\n",
        "        random_state=42\n",
        "    )\n",
        "    nmf.fit(nmf_dtm)\n",
        "\n",
        "    # Extract word-topic and document-topic tables\n",
        "    word_topic_table = nmf.components_\n",
        "    doc_topic_table = nmf.transform(nmf_dtm)\n",
        "\n",
        "    # Store results\n",
        "    nmf_results.append({\n",
        "        \"hyperparams\": params,\n",
        "        \"reconstruction_err\": nmf.reconstruction_err_,\n",
        "        \"word_topic_table\": word_topic_table,\n",
        "        \"doc_topic_table\": doc_topic_table,\n",
        "    })\n",
        "\n",
        "    # Display topics\n",
        "    topics = display_topics(nmf, nmf_feature_names)\n",
        "    print(f\"Hyperparameters: {params}\")\n",
        "    print(f\"Reconstruction Error: {nmf.reconstruction_err_:.2f}\")\n",
        "    for topic in topics:\n",
        "        print(topic)\n",
        "    print(\"\\n\")"
      ],
      "metadata": {
        "colab": {
          "base_uri": "https://localhost:8080/"
        },
        "id": "4KXffcU1ilL_",
        "outputId": "933c0f53-afa3-486f-9b05-fd553230f6df"
      },
      "execution_count": null,
      "outputs": [
        {
          "output_type": "stream",
          "name": "stderr",
          "text": [
            "/usr/local/lib/python3.10/dist-packages/ipykernel/ipkernel.py:283: DeprecationWarning: `should_run_async` will not call `transform_cell` automatically in the future. Please pass the result to `transformed_cell` argument and any exception that happen during thetransform in `preprocessing_exc_tuple` in IPython 7.17 and above.\n",
            "  and should_run_async(code)\n"
          ]
        },
        {
          "output_type": "stream",
          "name": "stdout",
          "text": [
            "Training NMF models...\n",
            "\n",
            "Hyperparameters: {'n_components': 2, 'beta_loss': 'frobenius'}\n",
            "Reconstruction Error: 45.09\n",
            "Topic 1: mr, said, labour, government, people, election, blair, year, company, party\n",
            "Topic 2: game, film, best, award, player, win, england, said, play, match\n",
            "\n",
            "\n",
            "Hyperparameters: {'n_components': 4, 'beta_loss': 'kullback-leibler'}\n",
            "Reconstruction Error: 259.90\n",
            "Topic 1: said, firm, company, market, year, share, sale, bank, people, price\n",
            "Topic 2: game, player, england, club, win, match, said, team, injury, cup\n",
            "Topic 3: mr, said, labour, government, party, election, blair, minister, tory, brown\n",
            "Topic 4: film, award, music, best, tv, star, band, year, actor, album\n",
            "\n",
            "\n",
            "Hyperparameters: {'n_components': 6, 'beta_loss': 'frobenius'}\n",
            "Reconstruction Error: 43.69\n",
            "Topic 1: said, company, firm, mr, share, deal, law, court, executive, new\n",
            "Topic 2: game, england, player, win, match, cup, play, team, injury, wale\n",
            "Topic 3: mr, labour, election, blair, party, tory, brown, said, tax, minister\n",
            "Topic 4: film, award, best, actor, oscar, star, festival, actress, director, nomination\n",
            "Topic 5: mobile, phone, technology, people, user, service, music, digital, computer, software\n",
            "Topic 6: economy, growth, rate, economic, price, bank, year, rise, market, figure\n",
            "\n",
            "\n",
            "Hyperparameters: {'n_components': 8, 'beta_loss': 'kullback-leibler'}\n",
            "Reconstruction Error: 249.41\n",
            "Topic 1: said, law, government, mr, court, case, eu, police, legal, action\n",
            "Topic 2: game, england, player, win, match, club, injury, cup, team, play\n",
            "Topic 3: mr, labour, party, election, blair, brown, tory, said, lord, minister\n",
            "Topic 4: film, award, best, star, actor, tv, oscar, festival, prize, movie\n",
            "Topic 5: technology, mobile, phone, people, user, computer, software, service, game, digital\n",
            "Topic 6: growth, economy, rate, price, economic, china, bank, year, rise, oil\n",
            "Topic 7: band, music, woman, album, drug, record, world, race, olympic, song\n",
            "Topic 8: company, firm, share, deal, sale, profit, said, bid, executive, market\n",
            "\n",
            "\n",
            "Hyperparameters: {'n_components': 10, 'beta_loss': 'frobenius'}\n",
            "Reconstruction Error: 42.91\n",
            "Topic 1: said, government, lord, law, mr, eu, police, minister, court, case\n",
            "Topic 2: game, win, open, champion, seed, world, match, final, title, second\n",
            "Topic 3: mr, labour, election, blair, party, brown, tory, tax, howard, chancellor\n",
            "Topic 4: film, award, best, actor, oscar, star, actress, festival, director, movie\n",
            "Topic 5: mobile, phone, technology, people, user, service, digital, software, computer, network\n",
            "Topic 6: economy, growth, rate, economic, bank, price, year, rise, figure, quarter\n",
            "Topic 7: band, music, album, chart, song, single, rock, number, singer, award\n",
            "Topic 8: club, chelsea, united, arsenal, league, player, cup, game, manager, goal\n",
            "Topic 9: england, wale, ireland, france, robinson, rugby, nation, coach, scotland, game\n",
            "Topic 10: company, firm, share, sale, profit, yukos, market, said, deal, oil\n",
            "\n",
            "\n",
            "Hyperparameters: {'n_components': 12, 'beta_loss': 'kullback-leibler'}\n",
            "Reconstruction Error: 243.41\n",
            "Topic 1: government, said, country, eu, people, child, union, minister, report, plan\n",
            "Topic 2: world, final, champion, win, title, open, game, race, match, second\n",
            "Topic 3: mr, labour, party, election, blair, tory, brown, howard, said, minister\n",
            "Topic 4: film, award, best, actor, star, tv, oscar, prize, movie, actress\n",
            "Topic 5: technology, people, user, computer, software, game, digital, net, site, online\n",
            "Topic 6: growth, economy, rate, price, economic, rise, figure, year, bank, dollar\n",
            "Topic 7: music, band, album, song, chart, singer, single, rock, artist, record\n",
            "Topic 8: club, chelsea, united, league, game, manager, arsenal, football, goal, player\n",
            "Topic 9: england, wale, ireland, scotland, france, rugby, game, nation, coach, italy\n",
            "Topic 10: company, share, firm, profit, sale, deal, bank, china, market, said\n",
            "Topic 11: phone, mobile, india, service, airline, offer, indian, customer, bid, mr\n",
            "Topic 12: law, said, court, case, drug, police, legal, mr, ban, lord\n",
            "\n",
            "\n"
          ]
        }
      ]
    },
    {
      "cell_type": "markdown",
      "source": [
        "#### Compare Models"
      ],
      "metadata": {
        "id": "OHVtePHgnWBR"
      }
    },
    {
      "cell_type": "markdown",
      "source": [
        "#### LDA Summary"
      ],
      "metadata": {
        "id": "nW-W7Klbnea0"
      }
    },
    {
      "cell_type": "code",
      "source": [
        "print(\"LDA Results Summary:\\n\")\n",
        "for result in lda_results:\n",
        "    print(f\"Hyperparameters: {result['hyperparams']}\")\n",
        "    print(f\"Perplexity: {result['perplexity']:.2f}\\n\")"
      ],
      "metadata": {
        "colab": {
          "base_uri": "https://localhost:8080/"
        },
        "id": "iGroCsTKnC7Y",
        "outputId": "497059da-1dd3-4a6f-e844-7d2d314d24e1"
      },
      "execution_count": null,
      "outputs": [
        {
          "output_type": "stream",
          "name": "stdout",
          "text": [
            "LDA Results Summary:\n",
            "\n",
            "Hyperparameters: {'n_components': 2, 'learning_decay': 0.5}\n",
            "Perplexity: 674.82\n",
            "\n",
            "Hyperparameters: {'n_components': 4, 'learning_decay': 0.5}\n",
            "Perplexity: 589.92\n",
            "\n",
            "Hyperparameters: {'n_components': 6, 'learning_decay': 0.5}\n",
            "Perplexity: 539.83\n",
            "\n",
            "Hyperparameters: {'n_components': 8, 'learning_decay': 0.5}\n",
            "Perplexity: 528.65\n",
            "\n",
            "Hyperparameters: {'n_components': 10, 'learning_decay': 0.5}\n",
            "Perplexity: 519.33\n",
            "\n",
            "Hyperparameters: {'n_components': 12, 'learning_decay': 0.5}\n",
            "Perplexity: 515.46\n",
            "\n"
          ]
        },
        {
          "output_type": "stream",
          "name": "stderr",
          "text": [
            "/usr/local/lib/python3.10/dist-packages/ipykernel/ipkernel.py:283: DeprecationWarning: `should_run_async` will not call `transform_cell` automatically in the future. Please pass the result to `transformed_cell` argument and any exception that happen during thetransform in `preprocessing_exc_tuple` in IPython 7.17 and above.\n",
            "  and should_run_async(code)\n"
          ]
        }
      ]
    },
    {
      "cell_type": "markdown",
      "source": [
        "#### NMF Summary"
      ],
      "metadata": {
        "id": "KXh4c45Ynm9B"
      }
    },
    {
      "cell_type": "code",
      "source": [
        "print(\"NMF Results Summary:\\n\")\n",
        "for result in nmf_results:\n",
        "    print(f\"Hyperparameters: {result['hyperparams']}\")\n",
        "    print(f\"Reconstruction Error: {result['reconstruction_err']:.2f}\\n\")"
      ],
      "metadata": {
        "colab": {
          "base_uri": "https://localhost:8080/"
        },
        "id": "jspZQBlWniY9",
        "outputId": "b8452ae1-b744-439e-e3ae-6404c7750c87"
      },
      "execution_count": null,
      "outputs": [
        {
          "output_type": "stream",
          "name": "stdout",
          "text": [
            "NMF Results Summary:\n",
            "\n",
            "Hyperparameters: {'n_components': 2, 'beta_loss': 'frobenius'}\n",
            "Reconstruction Error: 45.09\n",
            "\n",
            "Hyperparameters: {'n_components': 4, 'beta_loss': 'kullback-leibler'}\n",
            "Reconstruction Error: 259.90\n",
            "\n",
            "Hyperparameters: {'n_components': 6, 'beta_loss': 'frobenius'}\n",
            "Reconstruction Error: 43.69\n",
            "\n",
            "Hyperparameters: {'n_components': 8, 'beta_loss': 'kullback-leibler'}\n",
            "Reconstruction Error: 249.41\n",
            "\n",
            "Hyperparameters: {'n_components': 10, 'beta_loss': 'frobenius'}\n",
            "Reconstruction Error: 42.91\n",
            "\n",
            "Hyperparameters: {'n_components': 12, 'beta_loss': 'kullback-leibler'}\n",
            "Reconstruction Error: 243.41\n",
            "\n"
          ]
        },
        {
          "output_type": "stream",
          "name": "stderr",
          "text": [
            "/usr/local/lib/python3.10/dist-packages/ipykernel/ipkernel.py:283: DeprecationWarning: `should_run_async` will not call `transform_cell` automatically in the future. Please pass the result to `transformed_cell` argument and any exception that happen during thetransform in `preprocessing_exc_tuple` in IPython 7.17 and above.\n",
            "  and should_run_async(code)\n"
          ]
        }
      ]
    },
    {
      "cell_type": "markdown",
      "source": [
        "# Discussion"
      ],
      "metadata": {
        "id": "l3Lmj1ckqlu-"
      }
    },
    {
      "cell_type": "markdown",
      "source": [
        "#### Select and Display the Best LDA Model"
      ],
      "metadata": {
        "id": "X45fg5vqqxb7"
      }
    },
    {
      "cell_type": "code",
      "source": [
        "# Find the best LDA model based on perplexity\n",
        "best_lda_model = min(lda_results, key=lambda x: x[\"perplexity\"])\n",
        "\n",
        "# Extract relevant information\n",
        "best_lda_hyperparams = best_lda_model[\"hyperparams\"]\n",
        "best_lda_perplexity = best_lda_model[\"perplexity\"]\n",
        "lda_word_topic_table = pd.DataFrame(best_lda_model[\"word_topic_table\"], columns=lda_feature_names)\n",
        "lda_doc_topic_table = pd.DataFrame(best_lda_model[\"doc_topic_table\"])\n",
        "\n",
        "# Display results\n",
        "print(\"Best LDA Model:\")\n",
        "print(f\"Hyperparameters: {best_lda_hyperparams}\")\n",
        "print(f\"Perplexity: {best_lda_perplexity:.2f}\")\n",
        "print(\"\\nWord-Topic Table (Top 10 Words per Topic):\")\n",
        "for topic_idx, topic in enumerate(best_lda_model[\"word_topic_table\"]):\n",
        "    top_words = [lda_feature_names[i] for i in topic.argsort()[:-11:-1]]\n",
        "    print(f\"Topic {topic_idx + 1}: {', '.join(top_words)}\")\n",
        "\n",
        "print(\"\\nDocument-Topic Table:\")\n",
        "print(lda_doc_topic_table.head())"
      ],
      "metadata": {
        "colab": {
          "base_uri": "https://localhost:8080/"
        },
        "id": "A6zCROSBqwbc",
        "outputId": "f71f2612-fe9a-4e72-c687-8139de2d02ad"
      },
      "execution_count": null,
      "outputs": [
        {
          "output_type": "stream",
          "name": "stdout",
          "text": [
            "Best LDA Model:\n",
            "Hyperparameters: {'n_components': 12, 'learning_decay': 0.5}\n",
            "Perplexity: 515.46\n",
            "\n",
            "Word-Topic Table (Top 10 Words per Topic):\n",
            "Topic 1: said, company, firm, mr, share, bank, market, business, year, executive\n",
            "Topic 2: game, said, open, like, year, play, title, world, time, say\n",
            "Topic 3: minute, card, penalty, ball, home, try, goal, ireland, second, lead\n",
            "Topic 4: said, people, user, computer, software, net, site, service, use, information\n",
            "Topic 5: said, game, england, player, win, year, time, club, match, team\n",
            "Topic 6: said, year, china, eu, european, oil, euro, country, profit, price\n",
            "Topic 7: said, year, economy, rate, growth, economic, figure, rise, tax, spending\n",
            "Topic 8: mobile, technology, phone, said, people, digital, music, tv, service, video\n",
            "Topic 9: world, aid, country, blog, record, woman, tsunami, disaster, year, africa\n",
            "Topic 10: said, sale, court, music, yukos, legal, band, single, chart, law\n",
            "Topic 11: film, best, award, year, said, star, actor, director, new, oscar\n",
            "Topic 12: said, mr, labour, government, party, election, minister, people, blair, say\n",
            "\n",
            "Document-Topic Table:\n",
            "         0         1         2         3         4         5         6   \\\n",
            "0  0.338156  0.000636  0.000636  0.157052  0.000636  0.450513  0.000636   \n",
            "1  0.000563  0.000563  0.000563  0.013943  0.000563  0.451407  0.494183   \n",
            "2  0.239864  0.000926  0.000926  0.000926  0.000926  0.000926  0.000926   \n",
            "3  0.126674  0.000613  0.000613  0.000613  0.000613  0.642915  0.224896   \n",
            "4  0.707917  0.001462  0.001462  0.001462  0.043216  0.235708  0.001462   \n",
            "\n",
            "         7         8         9         10        11  \n",
            "0  0.000636  0.000636  0.000636  0.049190  0.000636  \n",
            "1  0.000563  0.000563  0.000563  0.000563  0.035962  \n",
            "2  0.000926  0.000926  0.750877  0.000926  0.000926  \n",
            "3  0.000613  0.000613  0.000613  0.000613  0.000613  \n",
            "4  0.001462  0.001462  0.001462  0.001462  0.001462  \n"
          ]
        },
        {
          "output_type": "stream",
          "name": "stderr",
          "text": [
            "/usr/local/lib/python3.10/dist-packages/ipykernel/ipkernel.py:283: DeprecationWarning: `should_run_async` will not call `transform_cell` automatically in the future. Please pass the result to `transformed_cell` argument and any exception that happen during thetransform in `preprocessing_exc_tuple` in IPython 7.17 and above.\n",
            "  and should_run_async(code)\n"
          ]
        }
      ]
    },
    {
      "cell_type": "markdown",
      "source": [
        "#### Select and Display the Best NMF Model"
      ],
      "metadata": {
        "id": "Y3d_bm4VrPBH"
      }
    },
    {
      "cell_type": "code",
      "source": [
        "# Find the best NMF model based on reconstruction error\n",
        "best_nmf_model = min(nmf_results, key=lambda x: x[\"reconstruction_err\"])\n",
        "\n",
        "# Extract relevant information\n",
        "best_nmf_hyperparams = best_nmf_model[\"hyperparams\"]\n",
        "best_nmf_reconstruction_err = best_nmf_model[\"reconstruction_err\"]\n",
        "nmf_word_topic_table = pd.DataFrame(best_nmf_model[\"word_topic_table\"], columns=nmf_feature_names)\n",
        "nmf_doc_topic_table = pd.DataFrame(best_nmf_model[\"doc_topic_table\"])\n",
        "\n",
        "# Display results\n",
        "print(\"Best NMF Model:\")\n",
        "print(f\"Hyperparameters: {best_nmf_hyperparams}\")\n",
        "print(f\"Reconstruction Error: {best_nmf_reconstruction_err:.2f}\")\n",
        "print(\"\\nWord-Topic Table (Top 10 Words per Topic):\")\n",
        "for topic_idx, topic in enumerate(best_nmf_model[\"word_topic_table\"]):\n",
        "    top_words = [nmf_feature_names[i] for i in topic.argsort()[:-11:-1]]\n",
        "    print(f\"Topic {topic_idx + 1}: {', '.join(top_words)}\")\n",
        "\n",
        "print(\"\\nDocument-Topic Table:\")\n",
        "print(nmf_doc_topic_table.head())"
      ],
      "metadata": {
        "colab": {
          "base_uri": "https://localhost:8080/"
        },
        "id": "PTyHc83Ap4bN",
        "outputId": "947240d3-4e9c-4184-863c-a0ed8e91dde2"
      },
      "execution_count": null,
      "outputs": [
        {
          "output_type": "stream",
          "name": "stdout",
          "text": [
            "Best NMF Model:\n",
            "Hyperparameters: {'n_components': 10, 'beta_loss': 'frobenius'}\n",
            "Reconstruction Error: 42.91\n",
            "\n",
            "Word-Topic Table (Top 10 Words per Topic):\n",
            "Topic 1: said, government, lord, law, mr, eu, police, minister, court, case\n",
            "Topic 2: game, win, open, champion, seed, world, match, final, title, second\n",
            "Topic 3: mr, labour, election, blair, party, brown, tory, tax, howard, chancellor\n",
            "Topic 4: film, award, best, actor, oscar, star, actress, festival, director, movie\n",
            "Topic 5: mobile, phone, technology, people, user, service, digital, software, computer, network\n",
            "Topic 6: economy, growth, rate, economic, bank, price, year, rise, figure, quarter\n",
            "Topic 7: band, music, album, chart, song, single, rock, number, singer, award\n",
            "Topic 8: club, chelsea, united, arsenal, league, player, cup, game, manager, goal\n",
            "Topic 9: england, wale, ireland, france, robinson, rugby, nation, coach, scotland, game\n",
            "Topic 10: company, firm, share, sale, profit, yukos, market, said, deal, oil\n",
            "\n",
            "Document-Topic Table:\n",
            "          0             1             2         3             4         5  \\\n",
            "0  0.000011  3.050875e-03  2.476231e-11  0.017616  1.942148e-02  0.031618   \n",
            "1  0.015019  1.477130e-03  4.967094e-03  0.005267  2.459043e-05  0.126298   \n",
            "2  0.014074  4.798189e-05  2.619654e-03  0.000004  3.766603e-11  0.000007   \n",
            "3  0.000840  3.238547e-03  2.115075e-05  0.000176  1.257596e-04  0.082014   \n",
            "4  0.000002  7.198416e-07  7.255002e-06  0.001044  1.313181e-04  0.000326   \n",
            "\n",
            "          6         7         8         9  \n",
            "0  0.000978  0.000007  0.000063  0.131041  \n",
            "1  0.000007  0.005579  0.000001  0.012857  \n",
            "2  0.002006  0.000006  0.000015  0.130990  \n",
            "3  0.000411  0.016540  0.000121  0.070330  \n",
            "4  0.000055  0.023608  0.012435  0.158591  \n"
          ]
        },
        {
          "output_type": "stream",
          "name": "stderr",
          "text": [
            "/usr/local/lib/python3.10/dist-packages/ipykernel/ipkernel.py:283: DeprecationWarning: `should_run_async` will not call `transform_cell` automatically in the future. Please pass the result to `transformed_cell` argument and any exception that happen during thetransform in `preprocessing_exc_tuple` in IPython 7.17 and above.\n",
            "  and should_run_async(code)\n"
          ]
        }
      ]
    },
    {
      "cell_type": "markdown",
      "source": [
        "#### Best LDA Model Visualization"
      ],
      "metadata": {
        "id": "eB7PxF9MsVaX"
      }
    },
    {
      "cell_type": "code",
      "source": [
        "!pip install pyldavis scikit-learn\n",
        "import pyLDAvis\n",
        "import pyLDAvis.lda_model # Import the lda_model submodule"
      ],
      "metadata": {
        "colab": {
          "base_uri": "https://localhost:8080/"
        },
        "id": "XQLKcxMKkHYF",
        "outputId": "d8616b42-c0ed-434e-8ae5-993761a24cf4"
      },
      "execution_count": null,
      "outputs": [
        {
          "output_type": "stream",
          "name": "stderr",
          "text": [
            "/usr/local/lib/python3.10/dist-packages/ipykernel/ipkernel.py:283: DeprecationWarning: `should_run_async` will not call `transform_cell` automatically in the future. Please pass the result to `transformed_cell` argument and any exception that happen during thetransform in `preprocessing_exc_tuple` in IPython 7.17 and above.\n",
            "  and should_run_async(code)\n"
          ]
        },
        {
          "output_type": "stream",
          "name": "stdout",
          "text": [
            "Requirement already satisfied: pyldavis in /usr/local/lib/python3.10/dist-packages (3.4.1)\n",
            "Requirement already satisfied: scikit-learn in /usr/local/lib/python3.10/dist-packages (1.5.2)\n",
            "Requirement already satisfied: numpy>=1.24.2 in /usr/local/lib/python3.10/dist-packages (from pyldavis) (1.26.4)\n",
            "Requirement already satisfied: scipy in /usr/local/lib/python3.10/dist-packages (from pyldavis) (1.13.1)\n",
            "Requirement already satisfied: pandas>=2.0.0 in /usr/local/lib/python3.10/dist-packages (from pyldavis) (2.2.2)\n",
            "Requirement already satisfied: joblib>=1.2.0 in /usr/local/lib/python3.10/dist-packages (from pyldavis) (1.4.2)\n",
            "Requirement already satisfied: jinja2 in /usr/local/lib/python3.10/dist-packages (from pyldavis) (3.1.4)\n",
            "Requirement already satisfied: numexpr in /usr/local/lib/python3.10/dist-packages (from pyldavis) (2.10.1)\n",
            "Requirement already satisfied: funcy in /usr/local/lib/python3.10/dist-packages (from pyldavis) (2.0)\n",
            "Requirement already satisfied: gensim in /usr/local/lib/python3.10/dist-packages (from pyldavis) (4.3.3)\n",
            "Requirement already satisfied: setuptools in /usr/local/lib/python3.10/dist-packages (from pyldavis) (75.1.0)\n",
            "Requirement already satisfied: threadpoolctl>=3.1.0 in /usr/local/lib/python3.10/dist-packages (from scikit-learn) (3.5.0)\n",
            "Requirement already satisfied: python-dateutil>=2.8.2 in /usr/local/lib/python3.10/dist-packages (from pandas>=2.0.0->pyldavis) (2.8.2)\n",
            "Requirement already satisfied: pytz>=2020.1 in /usr/local/lib/python3.10/dist-packages (from pandas>=2.0.0->pyldavis) (2024.2)\n",
            "Requirement already satisfied: tzdata>=2022.7 in /usr/local/lib/python3.10/dist-packages (from pandas>=2.0.0->pyldavis) (2024.2)\n",
            "Requirement already satisfied: smart-open>=1.8.1 in /usr/local/lib/python3.10/dist-packages (from gensim->pyldavis) (7.0.5)\n",
            "Requirement already satisfied: MarkupSafe>=2.0 in /usr/local/lib/python3.10/dist-packages (from jinja2->pyldavis) (3.0.2)\n",
            "Requirement already satisfied: six>=1.5 in /usr/local/lib/python3.10/dist-packages (from python-dateutil>=2.8.2->pandas>=2.0.0->pyldavis) (1.16.0)\n",
            "Requirement already satisfied: wrapt in /usr/local/lib/python3.10/dist-packages (from smart-open>=1.8.1->gensim->pyldavis) (1.16.0)\n"
          ]
        }
      ]
    },
    {
      "cell_type": "markdown",
      "source": [
        "#### Biplot Visualization"
      ],
      "metadata": {
        "id": "D-HtQ-xktAvC"
      }
    },
    {
      "cell_type": "code",
      "source": [
        "# Ensure the LDA DTM and CountVectorizer used for the best model\n",
        "lda_dtm = count_vectorizer.fit_transform(df['processed_text'])  # Reuse or load if needed\n",
        "best_lda_model = LatentDirichletAllocation(\n",
        "    n_components=best_lda_hyperparams['n_components'],\n",
        "    learning_decay=best_lda_hyperparams['learning_decay'],\n",
        "    random_state=42\n",
        ")\n",
        "best_lda_model.fit(lda_dtm)\n",
        "\n",
        "# Prepare the visualization\n",
        "pyLDAvis.enable_notebook()  # For Jupyter Notebook usage; comment this if running as a script\n",
        "lda_vis = pyLDAvis.lda_model.prepare(best_lda_model, lda_dtm, count_vectorizer)\n",
        "#lda_vis = pyLDAvis.sklearn.prepare(best_lda_model, lda_dtm, count_vectorizer)\n",
        "\n",
        "# Display the biplot in Jupyter Notebook\n",
        "pyLDAvis.display(lda_vis)"
      ],
      "metadata": {
        "colab": {
          "base_uri": "https://localhost:8080/",
          "height": 916
        },
        "id": "zRVMC3t7tc4y",
        "outputId": "39492414-5df2-4805-ca54-fcfe12621b15"
      },
      "execution_count": null,
      "outputs": [
        {
          "output_type": "stream",
          "name": "stderr",
          "text": [
            "/usr/local/lib/python3.10/dist-packages/ipykernel/ipkernel.py:283: DeprecationWarning: `should_run_async` will not call `transform_cell` automatically in the future. Please pass the result to `transformed_cell` argument and any exception that happen during thetransform in `preprocessing_exc_tuple` in IPython 7.17 and above.\n",
            "  and should_run_async(code)\n"
          ]
        },
        {
          "output_type": "execute_result",
          "data": {
            "text/plain": [
              "<IPython.core.display.HTML object>"
            ],
            "text/html": [
              "\n",
              "<link rel=\"stylesheet\" type=\"text/css\" href=\"https://cdn.jsdelivr.net/gh/bmabey/pyLDAvis@3.4.0/pyLDAvis/js/ldavis.v1.0.0.css\">\n",
              "\n",
              "\n",
              "<div id=\"ldavis_el4671401081400658727309667935\" style=\"background-color:white;\"></div>\n",
              "<script type=\"text/javascript\">\n",
              "\n",
              "var ldavis_el4671401081400658727309667935_data = {\"mdsDat\": {\"x\": [-0.03157378762442982, 0.14148670333733276, -0.07432170683977876, -0.13420553849849476, -0.09105638362911055, 0.08040572094290864, -0.12164948653692818, -0.1408715712559711, -0.06612965217590079, 0.050427002694400536, 0.06849374444199274, 0.3189949551439798], \"y\": [0.004729170908594195, -0.01272723379492713, -0.08319814305944376, 0.05995553124352405, -0.1348092791427024, -0.12109611006183447, 0.19378580504864498, 0.12545134898138974, -0.05476400607939271, -0.13579791060339375, 0.019177559237432976, 0.13929326732210823], \"topics\": [1, 2, 3, 4, 5, 6, 7, 8, 9, 10, 11, 12], \"cluster\": [1, 1, 1, 1, 1, 1, 1, 1, 1, 1, 1, 1], \"Freq\": [20.7175477959774, 14.1307041437729, 10.2112816998549, 9.340745789195914, 9.030886159735422, 8.772685884940241, 6.775086254237301, 6.235977085851245, 5.296572570568222, 4.308719720454962, 2.77712855811886, 2.402664337292636]}, \"tinfo\": {\"Term\": [\"game\", \"film\", \"world\", \"mobile\", \"award\", \"mr\", \"country\", \"year\", \"sale\", \"technology\", \"company\", \"phone\", \"people\", \"music\", \"economy\", \"labour\", \"best\", \"rate\", \"home\", \"firm\", \"party\", \"player\", \"minute\", \"government\", \"growth\", \"election\", \"court\", \"user\", \"china\", \"tv\", \"tory\", \"mp\", \"lib\", \"liberal\", \"immigration\", \"dems\", \"ukip\", \"asylum\", \"politics\", \"conservative\", \"poster\", \"parliament\", \"blair\", \"dem\", \"labour\", \"prime\", \"democrat\", \"party\", \"kennedy\", \"election\", \"secretary\", \"cabinet\", \"lord\", \"shadow\", \"clarke\", \"chancellor\", \"tony\", \"iraq\", \"politician\", \"debate\", \"howard\", \"minister\", \"leader\", \"voter\", \"mr\", \"brown\", \"government\", \"vote\", \"issue\", \"public\", \"plan\", \"said\", \"campaign\", \"say\", \"told\", \"people\", \"general\", \"law\", \"britain\", \"bbc\", \"new\", \"uk\", \"rugby\", \"championship\", \"arsenal\", \"athens\", \"seed\", \"coach\", \"captain\", \"cup\", \"robinson\", \"squad\", \"league\", \"injury\", \"champion\", \"premiership\", \"match\", \"madrid\", \"football\", \"season\", \"ferguson\", \"andy\", \"chelsea\", \"defeat\", \"welsh\", \"training\", \"manchester\", \"slam\", \"england\", \"club\", \"lion\", \"wale\", \"team\", \"victory\", \"win\", \"williams\", \"player\", \"final\", \"france\", \"ireland\", \"game\", \"play\", \"sport\", \"great\", \"said\", \"time\", \"good\", \"year\", \"nation\", \"world\", \"week\", \"second\", \"think\", \"want\", \"added\", \"new\", \"bt\", \"google\", \"program\", \"mac\", \"search\", \"virus\", \"software\", \"web\", \"computer\", \"tool\", \"traffic\", \"user\", \"site\", \"window\", \"internet\", \"spam\", \"information\", \"net\", \"engine\", \"microsoft\", \"machine\", \"connection\", \"online\", \"broadband\", \"code\", \"message\", \"pc\", \"website\", \"address\", \"security\", \"using\", \"use\", \"data\", \"people\", \"used\", \"attack\", \"service\", \"said\", \"network\", \"firm\", \"mr\", \"new\", \"make\", \"way\", \"shareholder\", \"takeover\", \"deutsche\", \"lse\", \"investor\", \"stake\", \"fraud\", \"stock\", \"india\", \"exchange\", \"financial\", \"bid\", \"property\", \"share\", \"payment\", \"indian\", \"telecom\", \"bank\", \"corporate\", \"investment\", \"board\", \"executive\", \"air\", \"bankruptcy\", \"asset\", \"earnings\", \"investigation\", \"management\", \"company\", \"business\", \"firm\", \"deal\", \"fund\", \"buy\", \"chief\", \"offer\", \"market\", \"pay\", \"mr\", \"said\", \"analyst\", \"group\", \"new\", \"year\", \"money\", \"government\", \"told\", \"handset\", \"ipod\", \"portable\", \"gadget\", \"mobile\", \"electronics\", \"camera\", \"digital\", \"format\", \"phone\", \"dvd\", \"device\", \"content\", \"operator\", \"technology\", \"sony\", \"generation\", \"broadcast\", \"entertainment\", \"tv\", \"video\", \"wireless\", \"watch\", \"download\", \"channel\", \"image\", \"design\", \"medium\", \"viewer\", \"music\", \"consumer\", \"network\", \"radio\", \"service\", \"people\", \"picture\", \"player\", \"million\", \"said\", \"market\", \"programme\", \"new\", \"year\", \"like\", \"uk\", \"mr\", \"use\", \"way\", \"award\", \"actor\", \"oscar\", \"actress\", \"festival\", \"nomination\", \"aviator\", \"theatre\", \"nominated\", \"starring\", \"comedy\", \"drama\", \"musical\", \"ray\", \"ceremony\", \"film\", \"category\", \"hollywood\", \"cinema\", \"baby\", \"prize\", \"star\", \"pop\", \"singer\", \"boy\", \"honour\", \"named\", \"died\", \"producer\", \"jackson\", \"best\", \"movie\", \"director\", \"winner\", \"role\", \"year\", \"book\", \"series\", \"tv\", \"including\", \"said\", \"british\", \"new\", \"bbc\", \"million\", \"uk\", \"london\", \"time\", \"number\", \"inflation\", \"unemployment\", \"economist\", \"rate\", \"housing\", \"spending\", \"economy\", \"deficit\", \"economic\", \"budget\", \"pension\", \"growth\", \"reserve\", \"rise\", \"forecast\", \"worker\", \"sector\", \"figure\", \"quarter\", \"recovery\", \"rose\", \"increase\", \"survey\", \"bush\", \"federal\", \"average\", \"output\", \"strike\", \"fall\", \"rising\", \"tax\", \"income\", \"price\", \"job\", \"december\", \"month\", \"year\", \"consumer\", \"bank\", \"said\", \"cut\", \"government\", \"market\", \"uk\", \"level\", \"expected\", \"gm\", \"china\", \"chinese\", \"fuel\", \"eu\", \"euro\", \"supply\", \"oil\", \"airline\", \"energy\", \"profit\", \"car\", \"japanese\", \"export\", \"dollar\", \"germany\", \"argentina\", \"japan\", \"trade\", \"straw\", \"asia\", \"production\", \"demand\", \"european\", \"europe\", \"arm\", \"trading\", \"maker\", \"impact\", \"output\", \"price\", \"state\", \"country\", \"cost\", \"market\", \"year\", \"france\", \"sale\", \"said\", \"new\", \"world\", \"company\", \"analyst\", \"yukos\", \"auction\", \"lawsuit\", \"ruling\", \"court\", \"chart\", \"lawyer\", \"band\", \"drug\", \"illegal\", \"album\", \"russian\", \"legal\", \"ban\", \"single\", \"copy\", \"sale\", \"christmas\", \"sold\", \"fine\", \"guilty\", \"appeal\", \"song\", \"retail\", \"ticket\", \"store\", \"artist\", \"bankruptcy\", \"judge\", \"bought\", \"case\", \"law\", \"music\", \"act\", \"action\", \"charge\", \"group\", \"record\", \"said\", \"number\", \"company\", \"claim\", \"year\", \"uk\", \"new\", \"day\", \"week\", \"nintendo\", \"gamers\", \"xbox\", \"console\", \"gaming\", \"game\", \"australian\", \"title\", \"open\", \"character\", \"davis\", \"bit\", \"tournament\", \"tour\", \"art\", \"really\", \"quite\", \"woman\", \"pretty\", \"grand\", \"playing\", \"play\", \"feel\", \"machine\", \"interview\", \"add\", \"released\", \"sound\", \"student\", \"video\", \"like\", \"fan\", \"look\", \"sport\", \"world\", \"player\", \"time\", \"say\", \"year\", \"said\", \"way\", \"set\", \"new\", \"make\", \"people\", \"thing\", \"number\", \"think\", \"aid\", \"tsunami\", \"disaster\", \"blog\", \"relief\", \"charity\", \"africa\", \"affected\", \"indoor\", \"cross\", \"victim\", \"asian\", \"woman\", \"gold\", \"list\", \"asia\", \"men\", \"region\", \"world\", \"olympic\", \"global\", \"developing\", \"record\", \"missing\", \"debt\", \"george\", \"country\", \"nation\", \"poor\", \"track\", \"international\", \"race\", \"event\", \"second\", \"help\", \"brown\", \"britain\", \"year\", \"people\", \"british\", \"said\", \"time\", \"day\", \"place\", \"penalty\", \"id\", \"ball\", \"minute\", \"blunkett\", \"card\", \"smith\", \"visitor\", \"shot\", \"score\", \"post\", \"goal\", \"try\", \"gave\", \"cross\", \"italy\", \"referee\", \"strike\", \"missed\", \"davis\", \"lead\", \"appeared\", \"left\", \"break\", \"defence\", \"johnson\", \"ireland\", \"half\", \"irish\", \"save\", \"scottish\", \"home\", \"chance\", \"point\", \"line\", \"second\", \"took\", \"united\", \"used\", \"away\"], \"Freq\": [1348.0, 1086.0, 1171.0, 593.0, 541.0, 2960.0, 793.0, 2716.0, 730.0, 661.0, 1068.0, 563.0, 1894.0, 707.0, 476.0, 779.0, 844.0, 413.0, 709.0, 986.0, 726.0, 778.0, 306.0, 1098.0, 466.0, 680.0, 385.0, 466.0, 319.0, 494.0, 504.9293490326453, 307.164660711667, 176.9778590298991, 174.99026672538815, 132.25474570858458, 101.44963737996872, 97.47446892925804, 94.4930918930764, 99.4091892554235, 245.14158151134214, 80.35516583708194, 151.855681337693, 575.010391472489, 77.9447042634121, 759.317365451707, 309.5717008525336, 162.13644676598773, 705.0501162728376, 130.62465497832122, 650.3767387723728, 271.11699233497285, 96.24488065614246, 370.184541140461, 89.97705275629461, 89.58445410038105, 249.3931993148648, 204.15240587313232, 157.84017838300173, 80.11608708959527, 101.10865948606852, 314.5805780975945, 618.398024552693, 308.1774639980895, 145.9210231746144, 1888.494041563705, 364.2669893371637, 705.1085112469862, 185.65986917816141, 300.4433498808252, 351.4424379012842, 422.18394832020954, 2157.827130889149, 241.00849746106806, 526.9414502552243, 397.9844650345011, 583.3013277429086, 228.3495217810674, 258.36070799160774, 248.25417173395516, 278.1647033436227, 349.79817127163795, 258.9511974524406, 199.74160013534242, 151.3094097289399, 147.3557548778784, 99.9119727518253, 92.00468142795559, 249.12990009824432, 102.6920084480844, 285.32899175945323, 127.8114531297179, 132.251929696251, 182.76121080890005, 250.98542311847498, 264.68044705606644, 96.85378056476385, 319.58893953226624, 95.26334903658935, 156.30707702214164, 245.5081068977052, 81.11204955666561, 103.17601798971586, 176.59660097076943, 94.88104533419126, 64.41994111822959, 97.64302840789226, 118.43016482674203, 80.10452466073531, 494.430537534553, 325.51783352311367, 67.41614312564066, 292.2455814974762, 312.32775689305646, 164.3570709411822, 436.9583132410913, 146.44122359929125, 441.34740596287696, 234.510343149362, 228.48539308701496, 211.1475133398978, 513.2963635464779, 280.4805604186227, 157.64378819332632, 187.5564369270439, 805.3145362936239, 334.3117180639279, 239.1416448696818, 354.5035434483224, 178.3246229968534, 243.5330661199807, 214.00419032291444, 203.00264765982493, 191.68818348829888, 196.5075997435048, 191.8092959481787, 191.54585390591228, 130.37870491373164, 119.52151792993251, 199.0640151903757, 81.9048622830733, 222.12826256354228, 176.52137386533045, 344.4204487663248, 171.42220305080295, 378.7752935646453, 91.98616153064872, 71.25144786025403, 409.6978037345629, 310.7835449487834, 123.77413055343729, 249.48611455312397, 82.50682857975066, 273.47107825232297, 341.9653602858896, 72.86245231312499, 200.8208073126567, 137.32280867288358, 81.25156897215744, 214.43994191854532, 167.41229623502656, 68.39160820648712, 153.36175821104317, 188.16060489454932, 227.02835887373848, 65.70290397485344, 223.09602032866823, 186.33074771619292, 275.7883526413763, 165.28769083340853, 550.0864159686624, 220.86101252172435, 146.673858941427, 276.00973124703694, 827.5075327451432, 176.73785621837106, 248.4804523126915, 241.97249569959465, 215.618650561614, 188.71576237068746, 172.84991798339897, 122.90563928400684, 89.49755337945068, 109.91101741316108, 77.70649866436639, 141.19445143951978, 88.01388147275749, 107.43615055673094, 174.82115401105818, 171.1388603045689, 131.5985731344697, 198.6010266220501, 179.48581578764689, 76.9154674119768, 369.1972413757036, 56.12422032786402, 77.79680097541562, 57.209859358496146, 316.8220834588063, 51.18570446297739, 143.48811843803227, 104.32291849122734, 223.02274433438114, 65.2922244068069, 63.30055499323453, 50.650471564378456, 46.556009260386155, 52.144464572292115, 58.34640040905252, 577.2287448929789, 239.89780348858145, 494.23407002745466, 213.51049819492326, 97.91356064962355, 94.8567151784095, 203.36068514432935, 171.27266252570524, 268.58419249670607, 116.41444222360698, 493.48270986982664, 834.8113504478459, 135.63970621091207, 160.3736673746332, 217.0555177299392, 232.0896353749899, 116.53816039161097, 132.50822697144127, 118.63904753159221, 110.98650559748603, 94.00129727330992, 90.00480591282546, 159.4769222046409, 581.8507389293055, 78.67734933126647, 159.90182207987448, 380.3417939499518, 86.34800673454384, 486.3351295699231, 171.82309281976094, 222.34289189325239, 179.89184701430935, 100.41812157404148, 492.36549455407845, 129.58465605645384, 83.775808305402, 67.20530459933865, 89.0179563417269, 333.71735590130737, 235.72466279959323, 62.5719315002469, 63.79607011390844, 70.42625191984277, 70.0267468923547, 95.17422674968746, 50.61256672131084, 181.04106281048524, 52.59877032798289, 375.28142802460627, 207.41181539864183, 196.40695722631088, 153.81181624947516, 282.15093176778737, 397.25339540833266, 87.13174323094218, 212.3291606428203, 175.72124597045257, 480.4931172881343, 157.68391013123093, 119.09118193657828, 194.60025735182012, 209.77361546566505, 147.22317232981194, 148.31835082716904, 172.25677284081812, 121.35151569257407, 121.1196683320193, 540.2102498718585, 247.31022147202304, 185.7515728995662, 159.93665405266336, 149.01495599251967, 136.10749800250784, 101.35664929356192, 95.31378486116003, 85.4705437497094, 78.52037261054952, 128.12168179446573, 88.23845509129707, 98.23274341207672, 71.37900124606993, 103.90082664103927, 1005.134401112168, 118.54787509602119, 97.94521126792685, 76.10295562914244, 67.82186282202862, 151.02388265668984, 343.31737894675314, 71.83513624855648, 117.59117173750346, 73.60411121423785, 68.4926222525721, 89.8572858631415, 63.54289321075558, 108.99888738299853, 52.53655239806124, 561.1792480088249, 150.60810096722, 234.56786231931252, 115.65016843636238, 137.63189020593802, 429.52275159519775, 117.49436779827344, 115.84477312840136, 157.50844718569553, 143.4956486082927, 382.28506591395285, 147.73030568210427, 190.77178909919715, 148.69665909492804, 125.316181494719, 129.870329200923, 113.00356747474186, 116.72613353647938, 114.31047700010781, 79.57881660493733, 76.45263758126855, 117.2473795989225, 385.0494424008566, 72.03422385548464, 243.3107513981368, 412.4207451072412, 115.07873413431366, 327.48549983285085, 206.19010615068728, 109.33767401124591, 350.15197198678044, 57.80765980798153, 263.3472516269214, 88.94638605222104, 92.25943497876959, 97.6077847882667, 268.96267498392143, 133.26014303782532, 52.45368910380549, 99.8427295768122, 161.26907373784485, 84.34362694758684, 65.31443270270579, 48.1186676379687, 67.32337504788877, 38.46978153311265, 40.9212922821672, 89.0988983935767, 44.283105241881515, 247.31506763022477, 56.67190970780186, 201.12457534450286, 157.6613181678048, 112.91857249055543, 233.00345448413944, 444.90899230819355, 131.0756911013404, 145.77627440759838, 483.68886480966444, 126.69764224108997, 168.203136234522, 142.65952471807827, 143.54905292282396, 105.78047440544483, 101.28561336033916, 79.98275133041786, 315.5513609899204, 88.26225654912426, 81.49807912642086, 242.5185919526835, 222.36003193092594, 67.68762064337957, 224.7351921692917, 121.0006301451823, 89.50405294400109, 187.07674263288317, 136.8883937670545, 64.01252065193681, 81.8989051406621, 170.96567037812827, 84.9297209179665, 45.0528832667889, 124.52581911916775, 125.39504219389116, 42.41844599131222, 46.3429899557752, 98.79228818174066, 113.16170883857617, 234.52311810880656, 169.94654714107156, 34.20087425808383, 45.05888755882164, 55.654171662854985, 46.3272479012862, 28.867187516172315, 183.74266680266012, 122.82274705546664, 207.8436508579237, 124.17002540590121, 178.92259758232166, 365.3453282898779, 97.3115009032634, 143.5766227315071, 434.72206967049567, 152.15237197224346, 133.34917152645025, 95.88228700762312, 87.96864032145733, 198.70235957587605, 76.72826251547694, 63.25853506025352, 74.58812351133749, 292.77392771238004, 143.01308466232206, 89.37401639372693, 174.26872811822858, 134.69007104311822, 67.35378301563819, 136.98587489678658, 109.43762480070635, 174.34973381916762, 90.18391682478372, 146.9641488942192, 61.72959249673765, 386.89513469279456, 86.97848642883565, 114.99322014203094, 44.09730958905066, 42.62991939327051, 74.85824035352518, 88.87394854040852, 37.026857826556366, 34.31086029092352, 50.27908718667338, 50.283101522786936, 39.821914725400624, 49.9097429668247, 45.2579502950777, 137.4120198799837, 142.95454456116514, 208.9757568137576, 79.63383336018195, 110.17470187218454, 81.6584876853569, 137.57857186982432, 114.42873086399153, 438.10912590873215, 142.93536283469652, 120.40985556720962, 89.84883798338535, 133.22508851038083, 109.57559343031515, 122.49989263488926, 95.07842316509756, 91.40429928207179, 86.1671344357479, 77.4744352852806, 65.79284930626916, 100.20839162330627, 98.64214789770567, 783.6374280667766, 71.24559731121853, 152.72136534086985, 173.05959633635257, 36.48989436387956, 43.92100052270213, 49.29404567041406, 28.111810373764456, 49.50922099041793, 26.64389168076336, 102.82033235677801, 39.03049761475336, 92.98982776188598, 22.489626244635232, 40.19112217783243, 69.76501608118542, 153.39965718553523, 47.39252836327435, 46.900474642897215, 20.923027308896042, 25.650473569581244, 50.05248054683187, 25.865633685021308, 27.494578221564453, 78.65126657400491, 164.2479053179325, 50.35562222901415, 76.46858192039664, 46.75222342859639, 137.19739828114047, 103.44398126337765, 125.66279587741504, 110.43040862030225, 156.22533736208538, 215.68207349660872, 83.54477389162753, 78.646061221046, 104.09217928017414, 83.23034372629608, 60.14096636665215, 51.807239373445846, 53.457335737602044, 51.720754610893934, 209.87604981598014, 121.99523181452754, 120.61798938449701, 138.3793294885152, 78.8955486645784, 57.42557299587249, 103.97928658932052, 57.76866432234313, 42.67683783331157, 42.379485389556606, 45.84115185164646, 39.580295210118855, 125.21641597142711, 39.17528479541811, 83.88165776918156, 35.17503447997614, 82.7998411985584, 29.253063900105207, 372.7611466851313, 46.15789156256303, 58.79984650411785, 25.299821155085095, 132.76127404832994, 21.676258861628494, 50.55439918166166, 22.181200143125253, 198.84389709786598, 84.34011849018017, 29.678291920888626, 30.833828443011406, 79.62169597014534, 38.42535394579166, 47.195240098201324, 77.72105063111356, 60.34825902530307, 59.33625132037017, 57.07569253595002, 119.20929952670913, 85.47075922341149, 53.37671533375696, 85.38831892483094, 56.588377803036906, 51.51440463495745, 47.75902123411747, 133.56591599113443, 80.64324145860593, 132.07421190475995, 218.43265998152623, 75.6865861261136, 181.651520584645, 81.39390760845421, 47.40131791694679, 69.61287001927334, 41.17382109787609, 43.71413689509981, 100.37339254169075, 128.2449619654293, 51.68859929380849, 32.490049006868624, 60.148829072209764, 29.891700181256564, 28.730958337746873, 34.796583225317235, 38.93395242615787, 83.49492881940532, 26.405694204135173, 79.63262018567615, 49.776774489875976, 36.39794054408495, 33.00674979111076, 92.04460596024393, 71.21034420796337, 39.340987805632466, 23.10834954166194, 34.08465443722694, 129.28596975072537, 65.66907971522382, 66.28220732330672, 55.78659643845581, 84.46560776061717, 59.33674301080067, 51.38329740875183, 50.16670640876251, 40.35205164915266], \"Total\": [1348.0, 1086.0, 1171.0, 593.0, 541.0, 2960.0, 793.0, 2716.0, 730.0, 661.0, 1068.0, 563.0, 1894.0, 707.0, 476.0, 779.0, 844.0, 413.0, 709.0, 986.0, 726.0, 778.0, 306.0, 1098.0, 466.0, 680.0, 385.0, 466.0, 319.0, 494.0, 505.8465262349515, 308.0818399665147, 177.89503643858376, 175.90745175417769, 133.17442128519437, 102.36681454158438, 98.39164495370291, 95.41026777636664, 100.37918136154725, 248.47630608809004, 81.49566065646758, 154.05990951354613, 583.4505790307559, 79.52081970719853, 779.3625058306903, 318.11550657526726, 167.01239025985993, 726.3275336863836, 135.20492426413003, 680.1174728161611, 287.2785814457886, 102.40329140872568, 395.57972974481015, 96.46782051527555, 96.42982318353225, 270.5961308166512, 222.6039883978711, 174.02277586917955, 88.45053214666197, 113.27431344001988, 358.0410234150855, 722.0330950263129, 371.7979679141175, 165.06300577966618, 2960.7206180254075, 464.3158599301361, 1098.0713871334692, 221.55310802386342, 431.21549105378995, 530.4485427605032, 682.5277249073715, 7149.336830530915, 345.7267052685297, 1213.0007556702878, 889.2912428285753, 1894.7030292802535, 342.3566793195676, 445.72210632221993, 430.72720198572523, 739.0816394162147, 1839.1297865934569, 1052.3385350103365, 200.65922897009446, 152.22703749227108, 148.27338932692865, 100.82960991444524, 92.92231322538649, 252.06574156999423, 104.78856501774428, 291.70777810559997, 131.51336487789638, 136.42710794744278, 188.83146287622898, 261.0808964508072, 276.0633412709941, 101.84004918774207, 342.2367289610298, 102.80239687056576, 169.0959325034878, 266.0685837279887, 89.12740211913074, 113.78387542325241, 200.17767433833927, 107.80164098548346, 77.34829357723389, 117.68276202866227, 143.50858239312328, 97.07744323749998, 602.461214003265, 397.0069759619938, 83.19500320498383, 361.5003237179577, 398.67991474481295, 216.43665492558418, 657.9500066491794, 191.44150504955837, 778.5167743475384, 355.37369860611506, 357.0840799325245, 326.52126680364233, 1348.006556041778, 603.2560629967521, 237.24181396459588, 344.81933801024485, 7149.336830530915, 1354.3632600469111, 632.3027710387079, 2716.522875440228, 346.60792877052626, 1171.054392633399, 761.8258992612464, 628.2876293356613, 553.1832163051755, 698.4691279953166, 722.8800659989307, 1839.1297865934569, 131.29737991414888, 120.43925377071757, 203.43766690816523, 83.9115044712562, 233.04672582946782, 185.64019021625896, 363.50966503834013, 182.787873014058, 405.05829880356913, 102.80482606739949, 81.09405382313479, 466.5986896361659, 354.3991557251174, 145.20728853163845, 295.66482120682724, 100.16249244132152, 350.18447547959374, 447.81676145372006, 96.02098767698112, 269.37911155160333, 193.23630155942826, 118.89571102178859, 319.4457831059279, 251.74068800452216, 102.89035870241769, 232.00253159414095, 286.572522714537, 349.8987784194884, 103.91018879686636, 373.09662291185145, 317.37687488286855, 550.4278070424352, 320.1916749617679, 1894.7030292802535, 498.1205077276413, 272.02626563772066, 856.0160101149885, 7149.336830530915, 406.3520234966895, 986.6258572293458, 2960.7206180254075, 1839.1297865934569, 1005.5598157367098, 785.4484345475194, 123.823750691598, 90.41568855468142, 111.05725955056887, 78.62460685657307, 148.49168047864205, 97.37137624754475, 123.0489910737801, 200.87228555254916, 206.32475131460072, 162.54992562268066, 255.53492551519628, 231.470727798321, 100.53079821106208, 495.43953293614493, 81.035098704338, 113.82811783966056, 84.82756641217253, 486.3966339868303, 78.9534069226259, 222.67706828120956, 170.68253317941787, 365.2192610104389, 107.80856184730517, 105.44672056790853, 89.38811152905511, 82.17935892133468, 94.29387654100707, 107.93263502630555, 1068.1613828031032, 445.73194829985243, 986.6258572293458, 450.3551763475341, 192.13514687988695, 185.31309409553836, 459.7806482810135, 386.95254694833324, 798.4329836907283, 246.8412148000114, 2960.7206180254075, 7149.336830530915, 400.8476579107794, 614.1024709519515, 1839.1297865934569, 2716.522875440228, 399.61050150538637, 1098.0713871334692, 889.2912428285753, 111.90323846102967, 94.91805601614837, 90.92154290301356, 161.84200954029308, 593.354118959801, 81.96167747224563, 168.80331752343744, 406.60329915280323, 97.02337451696042, 563.5613714920206, 204.62158616326244, 265.34912716835385, 223.42749685681184, 130.43925877880469, 661.4464378434669, 174.87864199310815, 114.1079145782774, 97.71821382261636, 131.8350253491488, 494.5510482864674, 353.6546684778061, 106.3849411541414, 110.57440940680726, 126.26870097723668, 126.52367820502937, 172.01961776172294, 91.58755417284173, 337.4742779347943, 98.6555180578868, 707.8172913098749, 395.97307940507585, 406.3520234966895, 333.0343121842189, 856.0160101149885, 1894.7030292802535, 177.50527182071247, 778.5167743475384, 671.7951929240128, 7149.336830530915, 798.4329836907283, 333.73807629617363, 1839.1297865934569, 2716.522875440228, 787.2145709619037, 1052.3385350103365, 2960.7206180254075, 550.4278070424352, 785.4484345475194, 541.1275074799737, 248.22747523534812, 186.66882437664867, 160.85390630637613, 149.93221022596578, 137.0247511381496, 102.27389983642065, 96.31714947111539, 86.38779641737645, 79.4376261956302, 130.081096833276, 90.35390482515356, 101.29442610655084, 76.50124830610565, 112.18009845834588, 1086.734389117892, 129.05291017218022, 110.28839043314794, 87.4458626898716, 79.44458973484899, 184.9218567361716, 426.9868978176654, 92.77013291433992, 155.703889751504, 98.32984112076237, 92.49260204473451, 123.10017402684443, 88.52224060554214, 160.0696703860301, 77.53659029348373, 844.2831653741861, 240.0927279602478, 476.769182157986, 197.47091035335816, 299.81388176697357, 2716.522875440228, 236.2864298945579, 234.34652141622308, 494.5510482864674, 399.28290308316804, 7149.336830530915, 484.0323245021777, 1839.1297865934569, 739.0816394162147, 671.7951929240128, 1052.3385350103365, 432.2325547123484, 1354.3632600469111, 858.6230238571344, 80.49495480611846, 77.47482765477757, 120.68482184309674, 413.2046266532445, 78.40026194437505, 278.3023109149506, 476.2114807723792, 135.6344522558588, 393.7281112225102, 258.9920086753408, 142.48027790044327, 466.6679564453529, 77.14632264293644, 353.58589643414973, 126.34912861124205, 140.24543666806505, 152.90398494019374, 425.10345181089184, 236.1091953279131, 92.99911070554373, 177.53893892416258, 292.09325909244575, 159.13744308061771, 125.63476724525015, 93.35639640910638, 131.01050953522332, 77.26125631384373, 84.49643900781504, 185.01075618275053, 92.23061225898896, 520.8182719679183, 120.07285757449992, 494.9148407699368, 422.88867351474875, 295.67489540335606, 813.3742376415597, 2716.522875440228, 395.97307940507585, 486.3966339868303, 7149.336830530915, 396.04065030453995, 1098.0713871334692, 798.4329836907283, 1052.3385350103365, 288.8191714364718, 488.60584862453146, 80.89951488968987, 319.56283733800535, 92.86196010062638, 90.85684888132562, 271.5196968691414, 264.1023551004583, 86.76161099335015, 305.42726123068974, 168.03087720338775, 124.46348842866652, 265.5061111678459, 200.05090367215806, 95.82769566852461, 132.2046187967615, 281.547454756798, 143.48186465967748, 76.74361334395643, 217.63281512398012, 249.6335768814201, 85.68222810045965, 93.72206883991852, 202.51525974091751, 251.47461959730822, 522.8756465599431, 388.97750664192745, 78.48876374326736, 104.35541781872864, 129.5244338417083, 123.29109095281706, 77.26125631384373, 494.9148407699368, 396.68620645284244, 793.6380157311615, 452.97937627109775, 798.4329836907283, 2716.522875440228, 357.0840799325245, 730.3767608386013, 7149.336830530915, 1839.1297865934569, 1171.054392633399, 1068.1613828031032, 400.8476579107794, 199.83877728895425, 81.09261060129556, 78.64851778928899, 95.9162617190502, 385.3207484911827, 188.91125000455253, 122.80481710715135, 251.06886617251084, 197.02154125172495, 101.7623233400729, 214.6287299932834, 172.905410644282, 279.65311034758525, 150.8703142997458, 248.67046502261428, 115.61245717619445, 730.3767608386013, 171.89351754485781, 230.0226603106192, 91.43022593795968, 90.14682892444263, 162.5292313520848, 205.79757612078333, 85.8204265447243, 83.5546649608707, 124.20483217528056, 128.31351020282946, 105.44672056790853, 136.17137577923907, 123.5486991869831, 383.3850374245857, 445.72210632221993, 707.8172913098749, 236.0299189803468, 362.9686441095342, 251.0847892300149, 614.1024709519515, 483.8772357629089, 7149.336830530915, 858.6230238571344, 1068.1613828031032, 382.57179240125214, 2716.522875440228, 1052.3385350103365, 1839.1297865934569, 633.8364503219773, 761.8258992612464, 87.0837144216029, 81.07292029686093, 80.05225835377573, 122.07909041769135, 145.05615551525725, 1348.006556041778, 146.11148108975644, 320.63542445645936, 387.1255886439284, 93.5414878415696, 119.1949122000875, 147.15360935960567, 89.32040011416525, 159.4089739046651, 86.63176636477634, 334.3708757671768, 134.33699457613977, 322.6538588815412, 79.77006746481173, 143.10997339150754, 258.16315218545566, 603.2560629967521, 190.84894902154625, 193.23630155942826, 86.8393306707855, 110.49977441735504, 217.24107023332874, 114.17012548704393, 123.24023652359222, 353.6546684778061, 787.2145709619037, 234.66498928949048, 374.7779644975828, 237.24181396459588, 1171.054392633399, 778.5167743475384, 1354.3632600469111, 1213.0007556702878, 2716.522875440228, 7149.336830530915, 785.4484345475194, 729.263103160594, 1839.1297865934569, 1005.5598157367098, 1894.7030292802535, 383.4974829374152, 858.6230238571344, 553.1832163051755, 211.00698802538219, 122.90985746789703, 123.86243033385774, 144.23634638507812, 82.8840983484857, 78.28092511826523, 153.0818318389357, 94.20695286283062, 90.46704714095415, 91.21605348699282, 98.82803593948184, 86.74305415508199, 322.6538588815412, 103.20154478741455, 221.82254553831126, 93.72206883991852, 224.1794752043079, 83.48164175462759, 1171.054392633399, 150.89437050278408, 196.7424969616946, 88.36299477558876, 483.8772357629089, 80.95549808572316, 194.71496057324768, 88.51915828771875, 793.6380157311615, 346.60792877052626, 124.46459340445487, 139.31130777686994, 407.8713875987941, 186.45403512488218, 250.7788004781091, 628.2876293356613, 452.72517314823983, 464.3158599301361, 430.72720198572523, 2716.522875440228, 1894.7030292802535, 484.0323245021777, 7149.336830530915, 1354.3632600469111, 633.8364503219773, 452.57425756402614, 139.39839343908994, 89.77101289670254, 162.09904354182126, 306.20340086916326, 107.63046531830489, 263.2532700440757, 125.51867711665412, 84.37751329891611, 127.6056101864393, 79.21959687783172, 89.99580136523429, 217.1327884743848, 291.413394118314, 131.03933163179377, 91.21605348699282, 171.57553012885825, 85.68164625915055, 84.49643900781504, 102.76364280814282, 119.1949122000875, 258.6769045242082, 82.95705296149117, 253.5009156319856, 159.1232220298287, 122.54626760059134, 114.5692288063635, 326.52126680364233, 256.30419157158656, 146.3689755215491, 87.72743934041357, 134.6738585697837, 709.5946377985215, 306.9066380977706, 354.5963273868093, 277.2191582624644, 628.2876293356613, 363.56860544179807, 329.6772563361418, 498.1205077276413, 299.44636629817194], \"Category\": [\"Default\", \"Default\", \"Default\", \"Default\", \"Default\", \"Default\", \"Default\", \"Default\", \"Default\", \"Default\", \"Default\", \"Default\", \"Default\", \"Default\", \"Default\", \"Default\", \"Default\", \"Default\", \"Default\", \"Default\", \"Default\", \"Default\", \"Default\", \"Default\", \"Default\", \"Default\", \"Default\", \"Default\", \"Default\", \"Default\", \"Topic1\", \"Topic1\", \"Topic1\", \"Topic1\", \"Topic1\", \"Topic1\", \"Topic1\", \"Topic1\", \"Topic1\", \"Topic1\", \"Topic1\", \"Topic1\", \"Topic1\", \"Topic1\", \"Topic1\", \"Topic1\", \"Topic1\", \"Topic1\", \"Topic1\", \"Topic1\", \"Topic1\", \"Topic1\", \"Topic1\", \"Topic1\", \"Topic1\", \"Topic1\", \"Topic1\", \"Topic1\", \"Topic1\", \"Topic1\", \"Topic1\", \"Topic1\", \"Topic1\", \"Topic1\", \"Topic1\", \"Topic1\", \"Topic1\", \"Topic1\", \"Topic1\", \"Topic1\", \"Topic1\", \"Topic1\", \"Topic1\", \"Topic1\", \"Topic1\", \"Topic1\", \"Topic1\", \"Topic1\", \"Topic1\", \"Topic1\", \"Topic1\", \"Topic1\", \"Topic2\", \"Topic2\", \"Topic2\", \"Topic2\", \"Topic2\", \"Topic2\", \"Topic2\", \"Topic2\", \"Topic2\", \"Topic2\", \"Topic2\", \"Topic2\", \"Topic2\", \"Topic2\", \"Topic2\", \"Topic2\", \"Topic2\", \"Topic2\", \"Topic2\", \"Topic2\", \"Topic2\", \"Topic2\", \"Topic2\", \"Topic2\", \"Topic2\", \"Topic2\", \"Topic2\", \"Topic2\", \"Topic2\", \"Topic2\", \"Topic2\", \"Topic2\", \"Topic2\", \"Topic2\", \"Topic2\", \"Topic2\", \"Topic2\", \"Topic2\", \"Topic2\", \"Topic2\", \"Topic2\", \"Topic2\", \"Topic2\", \"Topic2\", \"Topic2\", \"Topic2\", \"Topic2\", \"Topic2\", \"Topic2\", \"Topic2\", \"Topic2\", \"Topic2\", \"Topic2\", \"Topic2\", \"Topic3\", \"Topic3\", \"Topic3\", \"Topic3\", \"Topic3\", \"Topic3\", \"Topic3\", \"Topic3\", \"Topic3\", \"Topic3\", \"Topic3\", \"Topic3\", \"Topic3\", \"Topic3\", \"Topic3\", \"Topic3\", \"Topic3\", \"Topic3\", \"Topic3\", \"Topic3\", \"Topic3\", \"Topic3\", \"Topic3\", \"Topic3\", \"Topic3\", \"Topic3\", \"Topic3\", \"Topic3\", \"Topic3\", \"Topic3\", \"Topic3\", \"Topic3\", \"Topic3\", \"Topic3\", \"Topic3\", \"Topic3\", \"Topic3\", \"Topic3\", \"Topic3\", \"Topic3\", \"Topic3\", \"Topic3\", \"Topic3\", \"Topic3\", \"Topic4\", \"Topic4\", \"Topic4\", \"Topic4\", \"Topic4\", \"Topic4\", \"Topic4\", \"Topic4\", \"Topic4\", \"Topic4\", \"Topic4\", \"Topic4\", \"Topic4\", \"Topic4\", \"Topic4\", \"Topic4\", \"Topic4\", \"Topic4\", \"Topic4\", \"Topic4\", \"Topic4\", \"Topic4\", \"Topic4\", \"Topic4\", \"Topic4\", \"Topic4\", \"Topic4\", \"Topic4\", \"Topic4\", \"Topic4\", \"Topic4\", \"Topic4\", \"Topic4\", \"Topic4\", \"Topic4\", \"Topic4\", \"Topic4\", \"Topic4\", \"Topic4\", \"Topic4\", \"Topic4\", \"Topic4\", \"Topic4\", \"Topic4\", \"Topic4\", \"Topic4\", \"Topic4\", \"Topic5\", \"Topic5\", \"Topic5\", \"Topic5\", \"Topic5\", \"Topic5\", \"Topic5\", \"Topic5\", \"Topic5\", \"Topic5\", \"Topic5\", \"Topic5\", \"Topic5\", \"Topic5\", \"Topic5\", \"Topic5\", \"Topic5\", \"Topic5\", \"Topic5\", \"Topic5\", \"Topic5\", \"Topic5\", \"Topic5\", \"Topic5\", \"Topic5\", \"Topic5\", \"Topic5\", \"Topic5\", \"Topic5\", \"Topic5\", \"Topic5\", \"Topic5\", \"Topic5\", \"Topic5\", \"Topic5\", \"Topic5\", \"Topic5\", \"Topic5\", \"Topic5\", \"Topic5\", \"Topic5\", \"Topic5\", \"Topic5\", \"Topic5\", \"Topic5\", \"Topic5\", \"Topic5\", \"Topic5\", \"Topic6\", \"Topic6\", \"Topic6\", \"Topic6\", \"Topic6\", \"Topic6\", \"Topic6\", \"Topic6\", \"Topic6\", \"Topic6\", \"Topic6\", \"Topic6\", \"Topic6\", \"Topic6\", \"Topic6\", \"Topic6\", \"Topic6\", \"Topic6\", \"Topic6\", \"Topic6\", \"Topic6\", \"Topic6\", \"Topic6\", \"Topic6\", \"Topic6\", \"Topic6\", \"Topic6\", \"Topic6\", \"Topic6\", \"Topic6\", \"Topic6\", \"Topic6\", \"Topic6\", \"Topic6\", \"Topic6\", \"Topic6\", \"Topic6\", \"Topic6\", \"Topic6\", \"Topic6\", \"Topic6\", \"Topic6\", \"Topic6\", \"Topic6\", \"Topic6\", \"Topic6\", \"Topic6\", \"Topic6\", \"Topic6\", \"Topic7\", \"Topic7\", \"Topic7\", \"Topic7\", \"Topic7\", \"Topic7\", \"Topic7\", \"Topic7\", \"Topic7\", \"Topic7\", \"Topic7\", \"Topic7\", \"Topic7\", \"Topic7\", \"Topic7\", \"Topic7\", \"Topic7\", \"Topic7\", \"Topic7\", \"Topic7\", \"Topic7\", \"Topic7\", \"Topic7\", \"Topic7\", \"Topic7\", \"Topic7\", \"Topic7\", \"Topic7\", \"Topic7\", \"Topic7\", \"Topic7\", \"Topic7\", \"Topic7\", \"Topic7\", \"Topic7\", \"Topic7\", \"Topic7\", \"Topic7\", \"Topic7\", \"Topic7\", \"Topic7\", \"Topic7\", \"Topic7\", \"Topic7\", \"Topic7\", \"Topic7\", \"Topic8\", \"Topic8\", \"Topic8\", \"Topic8\", \"Topic8\", \"Topic8\", \"Topic8\", \"Topic8\", \"Topic8\", \"Topic8\", \"Topic8\", \"Topic8\", \"Topic8\", \"Topic8\", \"Topic8\", \"Topic8\", \"Topic8\", \"Topic8\", \"Topic8\", \"Topic8\", \"Topic8\", \"Topic8\", \"Topic8\", \"Topic8\", \"Topic8\", \"Topic8\", \"Topic8\", \"Topic8\", \"Topic8\", \"Topic8\", \"Topic8\", \"Topic8\", \"Topic8\", \"Topic8\", \"Topic8\", \"Topic8\", \"Topic8\", \"Topic8\", \"Topic8\", \"Topic8\", \"Topic8\", \"Topic8\", \"Topic8\", \"Topic9\", \"Topic9\", \"Topic9\", \"Topic9\", \"Topic9\", \"Topic9\", \"Topic9\", \"Topic9\", \"Topic9\", \"Topic9\", \"Topic9\", \"Topic9\", \"Topic9\", \"Topic9\", \"Topic9\", \"Topic9\", \"Topic9\", \"Topic9\", \"Topic9\", \"Topic9\", \"Topic9\", \"Topic9\", \"Topic9\", \"Topic9\", \"Topic9\", \"Topic9\", \"Topic9\", \"Topic9\", \"Topic9\", \"Topic9\", \"Topic9\", \"Topic9\", \"Topic9\", \"Topic9\", \"Topic9\", \"Topic9\", \"Topic9\", \"Topic9\", \"Topic9\", \"Topic9\", \"Topic9\", \"Topic9\", \"Topic9\", \"Topic9\", \"Topic9\", \"Topic9\", \"Topic9\", \"Topic10\", \"Topic10\", \"Topic10\", \"Topic10\", \"Topic10\", \"Topic10\", \"Topic10\", \"Topic10\", \"Topic10\", \"Topic10\", \"Topic10\", \"Topic10\", \"Topic10\", \"Topic10\", \"Topic10\", \"Topic10\", \"Topic10\", \"Topic10\", \"Topic10\", \"Topic10\", \"Topic10\", \"Topic10\", \"Topic10\", \"Topic10\", \"Topic10\", \"Topic10\", \"Topic10\", \"Topic10\", \"Topic10\", \"Topic10\", \"Topic10\", \"Topic10\", \"Topic10\", \"Topic10\", \"Topic10\", \"Topic10\", \"Topic10\", \"Topic10\", \"Topic10\", \"Topic10\", \"Topic10\", \"Topic10\", \"Topic10\", \"Topic10\", \"Topic10\", \"Topic10\", \"Topic10\", \"Topic10\", \"Topic11\", \"Topic11\", \"Topic11\", \"Topic11\", \"Topic11\", \"Topic11\", \"Topic11\", \"Topic11\", \"Topic11\", \"Topic11\", \"Topic11\", \"Topic11\", \"Topic11\", \"Topic11\", \"Topic11\", \"Topic11\", \"Topic11\", \"Topic11\", \"Topic11\", \"Topic11\", \"Topic11\", \"Topic11\", \"Topic11\", \"Topic11\", \"Topic11\", \"Topic11\", \"Topic11\", \"Topic11\", \"Topic11\", \"Topic11\", \"Topic11\", \"Topic11\", \"Topic11\", \"Topic11\", \"Topic11\", \"Topic11\", \"Topic11\", \"Topic11\", \"Topic11\", \"Topic11\", \"Topic11\", \"Topic11\", \"Topic11\", \"Topic11\", \"Topic12\", \"Topic12\", \"Topic12\", \"Topic12\", \"Topic12\", \"Topic12\", \"Topic12\", \"Topic12\", \"Topic12\", \"Topic12\", \"Topic12\", \"Topic12\", \"Topic12\", \"Topic12\", \"Topic12\", \"Topic12\", \"Topic12\", \"Topic12\", \"Topic12\", \"Topic12\", \"Topic12\", \"Topic12\", \"Topic12\", \"Topic12\", \"Topic12\", \"Topic12\", \"Topic12\", \"Topic12\", \"Topic12\", \"Topic12\", \"Topic12\", \"Topic12\", \"Topic12\", \"Topic12\", \"Topic12\", \"Topic12\", \"Topic12\", \"Topic12\", \"Topic12\", \"Topic12\"], \"logprob\": [30.0, 29.0, 28.0, 27.0, 26.0, 25.0, 24.0, 23.0, 22.0, 21.0, 20.0, 19.0, 18.0, 17.0, 16.0, 15.0, 14.0, 13.0, 12.0, 11.0, 10.0, 9.0, 8.0, 7.0, 6.0, 5.0, 4.0, 3.0, 2.0, 1.0, -4.5951, -5.0922, -5.6435, -5.6548, -5.9348, -6.2, -6.24, -6.271, -6.2203, -5.3177, -6.4331, -5.7966, -4.4652, -6.4635, -4.1871, -5.0844, -5.7311, -4.2613, -5.9472, -4.342, -5.217, -6.2527, -4.9055, -6.32, -6.3244, -5.3005, -5.5007, -5.758, -6.4361, -6.2034, -5.0683, -4.3924, -5.0889, -5.8365, -3.276, -4.9217, -4.2612, -5.5956, -5.1143, -4.9575, -4.7741, -3.1427, -5.3347, -4.5525, -4.8331, -4.4508, -5.3887, -5.2652, -5.3051, -5.1913, -4.9622, -5.2629, -5.1399, -5.4176, -5.4441, -5.8326, -5.9151, -4.9189, -5.8052, -4.7833, -5.5864, -5.5522, -5.2287, -4.9115, -4.8584, -5.8637, -4.6699, -5.8803, -5.3851, -4.9336, -6.0411, -5.8005, -5.2631, -5.8843, -6.2715, -5.8556, -5.6626, -6.0536, -4.2335, -4.6515, -6.226, -4.7593, -4.6929, -5.3349, -4.3571, -5.4503, -4.3471, -4.9794, -5.0054, -5.0844, -4.1961, -4.8004, -5.3766, -5.2028, -3.7457, -4.6248, -4.9599, -4.5662, -5.2533, -4.9417, -5.0709, -5.1237, -5.181, -5.1562, -5.1804, -5.1818, -5.2416, -5.3286, -4.8184, -5.7065, -4.7088, -4.9386, -4.2702, -4.9679, -4.1751, -5.5904, -5.8458, -4.0966, -4.373, -5.2936, -4.5927, -5.6992, -4.5009, -4.2774, -5.8235, -4.8096, -5.1897, -5.7145, -4.744, -4.9916, -5.8868, -5.0793, -4.8748, -4.687, -5.9269, -4.7045, -4.8845, -4.4924, -5.0044, -3.802, -4.7145, -5.1238, -4.4916, -3.3936, -4.9374, -4.5967, -4.6232, -4.7385, -4.8718, -4.9596, -5.2115, -5.5287, -5.3233, -5.67, -5.0728, -5.5455, -5.3461, -4.8592, -4.8805, -5.1432, -4.7317, -4.8329, -5.6802, -4.1116, -5.9954, -5.6689, -5.9762, -4.2646, -6.0875, -5.0567, -5.3755, -4.6157, -5.8441, -5.8751, -6.098, -6.1823, -6.0689, -5.9566, -3.6647, -4.5427, -3.8199, -4.6593, -5.4389, -5.4706, -4.708, -4.8797, -4.4298, -5.2658, -3.8215, -3.2957, -5.113, -4.9454, -4.6428, -4.5758, -5.2647, -5.1363, -5.2469, -5.2798, -5.4459, -5.4894, -4.9173, -3.623, -5.6239, -4.9147, -4.0481, -5.5308, -3.8023, -4.8428, -4.585, -4.7969, -5.3799, -3.79, -5.1249, -5.5611, -5.7815, -5.5004, -4.1789, -4.5266, -5.8529, -5.8335, -5.7347, -5.7403, -5.4335, -6.065, -4.7905, -6.0265, -4.0615, -4.6545, -4.709, -4.9535, -4.3468, -4.0046, -5.5218, -4.6311, -4.8203, -3.8144, -4.9286, -5.2093, -4.7183, -4.6432, -4.9973, -4.9899, -4.8402, -5.1905, -5.1924, -3.6683, -4.4496, -4.7358, -4.8854, -4.9562, -5.0468, -5.3416, -5.403, -5.512, -5.5969, -5.1072, -5.4802, -5.3729, -5.6922, -5.3168, -3.0473, -5.1849, -5.3758, -5.6281, -5.7433, -4.9428, -4.1216, -5.6858, -5.193, -5.6615, -5.7335, -5.462, -5.8085, -5.2689, -5.9987, -3.6302, -4.9455, -4.5025, -5.2096, -5.0356, -3.8975, -5.1938, -5.208, -4.9007, -4.9939, -4.014, -4.9648, -4.7091, -4.9583, -5.1294, -5.0937, -5.2328, -5.2004, -5.2213, -5.3251, -5.3651, -4.9375, -3.7484, -5.4247, -4.2075, -3.6798, -4.9562, -3.9104, -4.373, -5.0074, -3.8435, -5.6447, -4.1283, -5.2138, -5.1772, -5.1209, -4.1072, -4.8095, -5.7419, -5.0982, -4.6187, -5.2669, -5.5226, -5.8281, -5.4923, -6.0519, -5.9902, -5.2121, -5.9112, -4.1912, -5.6645, -4.3979, -4.6414, -4.9752, -4.2508, -3.604, -4.826, -4.7197, -3.5204, -4.86, -4.5766, -4.7414, -4.7351, -5.0405, -5.0839, -5.2371, -3.8646, -5.1386, -5.2183, -4.1278, -4.2146, -5.404, -4.204, -4.8231, -5.1246, -4.3874, -4.6997, -5.4598, -5.2134, -4.4774, -5.1771, -5.8111, -4.7944, -4.7874, -5.8713, -5.7828, -5.0259, -4.8901, -4.1613, -4.4834, -6.0867, -5.8109, -5.5997, -5.7832, -6.2562, -4.4054, -4.8082, -4.2821, -4.7973, -4.432, -3.7181, -5.041, -4.652, -3.5442, -4.594, -4.7259, -5.0558, -5.1419, -4.1638, -5.1154, -5.3084, -5.1436, -3.7762, -4.4927, -4.9628, -4.295, -4.5527, -5.2457, -4.5358, -4.7603, -4.2946, -4.9538, -4.4654, -5.3329, -3.4975, -4.99, -4.7108, -5.6692, -5.7031, -5.14, -4.9684, -5.844, -5.9202, -5.538, -5.538, -5.7712, -5.5454, -5.6432, -4.5326, -4.4931, -4.1134, -5.0782, -4.7536, -5.0531, -4.5314, -4.7157, -3.3732, -4.4932, -4.6647, -4.9575, -4.5636, -4.759, -4.6475, -4.9009, -4.9403, -4.7929, -4.8993, -5.0627, -4.642, -4.6577, -2.5853, -4.9831, -4.2206, -4.0956, -5.6522, -5.4668, -5.3514, -5.913, -5.347, -5.9666, -4.6162, -5.5849, -4.7167, -6.1362, -5.5556, -5.0041, -4.2162, -5.3907, -5.4012, -6.2084, -6.0046, -5.3361, -5.9963, -5.9352, -4.8842, -4.1478, -5.3301, -4.9123, -5.4043, -4.3278, -4.6102, -4.4156, -4.5448, -4.1979, -3.8754, -4.8238, -4.8843, -4.6039, -4.8276, -5.1525, -5.3017, -5.2703, -5.3033, -3.4635, -4.006, -4.0174, -3.88, -4.4419, -4.7595, -4.1658, -4.7535, -5.0563, -5.0633, -4.9848, -5.1317, -3.9799, -5.1419, -4.3806, -5.2496, -4.3936, -5.434, -2.889, -4.9779, -4.7358, -5.5792, -3.9214, -5.7338, -4.8869, -5.7107, -3.5175, -4.3751, -5.4196, -5.3814, -4.4327, -5.1613, -4.9557, -4.4569, -4.7099, -4.7268, -4.7656, -4.0291, -4.3618, -4.8326, -4.3628, -4.7742, -4.8681, -4.9438, -3.7706, -4.2751, -3.7818, -3.2787, -4.3385, -3.4631, -4.2658, -4.8065, -4.4222, -4.9473, -4.8875, -4.0562, -3.8112, -4.7199, -5.1842, -4.5683, -5.2676, -5.3072, -5.1156, -5.0033, -4.2404, -5.3916, -4.2877, -4.7576, -5.0706, -5.1684, -4.1429, -4.3995, -4.9929, -5.525, -5.1363, -3.8031, -4.4805, -4.4712, -4.6436, -4.2288, -4.5819, -4.7258, -4.7498, -4.9675], \"loglift\": [30.0, 29.0, 28.0, 27.0, 26.0, 25.0, 24.0, 23.0, 22.0, 21.0, 20.0, 19.0, 18.0, 17.0, 16.0, 15.0, 14.0, 13.0, 12.0, 11.0, 10.0, 9.0, 8.0, 7.0, 6.0, 5.0, 4.0, 3.0, 2.0, 1.0, 1.5724, 1.5712, 1.569, 1.569, 1.5673, 1.5652, 1.5648, 1.5645, 1.5645, 1.5607, 1.5601, 1.5598, 1.5596, 1.5542, 1.5481, 1.547, 1.5446, 1.5445, 1.5397, 1.5295, 1.5163, 1.5122, 1.5078, 1.5045, 1.5006, 1.4926, 1.4877, 1.4766, 1.4752, 1.4606, 1.4448, 1.4193, 1.3865, 1.4509, 1.1245, 1.3315, 1.1312, 1.3974, 1.2128, 1.1625, 1.0938, 0.3763, 1.2134, 0.7404, 0.7702, 0.3961, 1.1692, 1.0289, 1.0232, 0.597, -0.0855, 0.1721, 1.9522, 1.9508, 1.9506, 1.9477, 1.9469, 1.9451, 1.9366, 1.9347, 1.9283, 1.9257, 1.9241, 1.9174, 1.9147, 1.9066, 1.8884, 1.8807, 1.8782, 1.8764, 1.8626, 1.859, 1.8315, 1.8292, 1.7739, 1.7701, 1.7647, 1.7646, 1.7592, 1.7583, 1.7465, 1.7442, 1.7127, 1.6816, 1.5475, 1.6889, 1.3893, 1.5411, 1.5103, 1.5209, 0.9913, 1.191, 1.5481, 1.3479, -0.2267, 0.5578, 0.9845, -0.0796, 1.2922, 0.3864, 0.6871, 0.827, 0.897, 0.6886, 0.6301, -0.3051, 2.2747, 2.274, 2.2599, 2.2575, 2.2337, 2.2313, 2.2277, 2.2175, 2.2146, 2.1705, 2.1523, 2.1516, 2.1503, 2.122, 2.1119, 2.0878, 2.0344, 2.012, 2.0057, 1.988, 1.9401, 1.901, 1.8831, 1.8737, 1.8733, 1.8677, 1.861, 1.8491, 1.8233, 1.7674, 1.7491, 1.5906, 1.6204, 1.0449, 1.4684, 1.664, 1.1498, 0.1253, 1.4491, 0.9028, -0.2227, 0.1381, 0.6086, 0.7678, 2.3633, 2.3606, 2.3604, 2.359, 2.3204, 2.2697, 2.2351, 2.2319, 2.1838, 2.1596, 2.1187, 2.1164, 2.103, 2.0767, 2.0035, 1.9902, 1.9769, 1.9421, 1.9374, 1.9313, 1.8785, 1.8776, 1.8693, 1.8605, 1.8027, 1.8025, 1.7784, 1.7557, 1.7553, 1.7513, 1.6795, 1.6244, 1.6967, 1.7011, 1.555, 1.5557, 1.2813, 1.6192, 0.5791, 0.2232, 1.2872, 1.0281, 0.2339, -0.0892, 1.1385, 0.2561, 0.3564, 2.3963, 2.3948, 2.3944, 2.3898, 2.3849, 2.3636, 2.3503, 2.3378, 2.288, 2.2571, 2.2298, 2.2277, 2.1878, 2.143, 2.1093, 2.1048, 2.0955, 2.0302, 2.0118, 2.0112, 1.9989, 1.8738, 1.8545, 1.8207, 1.813, 1.8126, 1.8114, 1.7818, 1.7756, 1.77, 1.7579, 1.6775, 1.632, 1.2947, 0.8423, 1.6929, 1.1053, 1.0635, -0.2954, 0.7825, 1.3741, 0.1584, -0.1566, 0.728, 0.4451, -0.4397, 0.8925, 0.535, 2.4318, 2.4298, 2.4286, 2.4278, 2.4274, 2.4268, 2.4245, 2.4231, 2.4229, 2.4219, 2.4183, 2.4098, 2.4028, 2.3642, 2.3569, 2.3555, 2.3486, 2.3148, 2.2946, 2.2754, 2.231, 2.2154, 2.1778, 2.1528, 2.1439, 2.1331, 2.1188, 2.102, 2.0493, 2.0443, 2.0251, 1.9672, 1.7242, 1.8985, 1.6549, 0.5891, 1.7349, 1.729, 1.2894, 1.4102, -0.4951, 1.2468, 0.1676, 0.83, 0.7544, 0.3413, 1.092, -0.0177, 0.4171, 2.6805, 2.6786, 2.663, 2.6213, 2.6072, 2.5575, 2.5481, 2.5276, 2.5077, 2.4639, 2.4272, 2.4047, 2.4033, 2.3973, 2.3409, 2.2731, 2.2431, 2.2342, 2.1199, 2.1193, 2.1163, 2.0979, 2.057, 2.0378, 2.0292, 2.0261, 1.9946, 1.9669, 1.9613, 1.9582, 1.9472, 1.9411, 1.7915, 1.7053, 1.7293, 1.4418, 0.8827, 1.5863, 1.487, -0.0014, 1.5522, 0.8158, 0.9697, 0.6998, 1.6875, 1.1183, 2.7634, 2.7622, 2.724, 2.6661, 2.6619, 2.6028, 2.5266, 2.468, 2.4465, 2.4451, 2.4247, 2.3954, 2.3714, 2.296, 2.276, 2.2505, 2.2422, 2.2165, 2.0863, 2.0718, 2.0706, 2.057, 1.9763, 1.973, 1.9468, 1.9441, 1.935, 1.9301, 1.796, 1.7903, 1.784, 1.6024, 1.435, 1.4806, 1.2791, 0.7686, 1.4748, 1.1481, -0.0252, 0.2827, 0.6021, 0.3643, 1.2582, 2.9324, 2.8828, 2.7204, 2.6866, 2.6634, 2.6598, 2.6203, 2.573, 2.5578, 2.5254, 2.4891, 2.4807, 2.4656, 2.4235, 2.4122, 2.3106, 2.3027, 2.2569, 2.2448, 2.2089, 2.1892, 2.1628, 2.0984, 2.0975, 2.0481, 2.0338, 2.0013, 1.9643, 1.9344, 1.9339, 1.9121, 1.8009, 1.7181, 1.8516, 1.7459, 1.8149, 1.4421, 1.4962, 0.1458, 1.1452, 0.7553, 1.4893, -0.077, 0.676, 0.2292, 1.041, 0.8177, 3.1339, 3.0991, 2.9484, 2.9471, 2.7589, 2.6021, 2.4263, 2.4028, 2.3394, 2.2032, 2.1462, 2.0509, 1.9885, 1.9752, 1.9654, 1.9653, 1.9085, 1.9004, 1.8784, 1.8746, 1.8361, 1.7752, 1.7515, 1.7286, 1.7213, 1.6841, 1.6766, 1.6598, 1.6444, 1.6412, 1.5774, 1.6055, 1.5551, 1.5203, 1.0003, 1.1262, 0.767, 0.7481, 0.2887, -0.3564, 0.9037, 0.9175, 0.2728, 0.6528, -0.3056, 1.1427, 0.3681, 0.7747, 3.5784, 3.5763, 3.5572, 3.5423, 3.5344, 3.2739, 3.197, 3.0947, 2.8324, 2.8172, 2.8156, 2.7991, 2.6372, 2.6151, 2.6113, 2.6038, 2.5877, 2.5351, 2.439, 2.3992, 2.376, 2.3331, 2.2905, 2.2661, 2.2353, 2.1998, 2.1996, 2.1704, 2.1501, 2.0757, 1.9501, 2.0043, 1.9135, 1.4939, 1.5686, 1.5264, 1.5627, 0.4575, 0.4851, 1.379, -0.8438, 0.4085, 1.0738, 1.335, 3.6859, 3.6214, 3.5237, 3.3908, 3.3765, 3.3576, 3.2954, 3.1519, 3.1226, 3.0742, 3.0065, 2.957, 2.9078, 2.7983, 2.6963, 2.6804, 2.6755, 2.6499, 2.6457, 2.6097, 2.5978, 2.5838, 2.5706, 2.5665, 2.5146, 2.4841, 2.4624, 2.4479, 2.4147, 2.3946, 2.3546, 2.0259, 2.1867, 2.0515, 2.1253, 1.7219, 1.9159, 1.8698, 1.4331, 1.7243]}, \"token.table\": {\"Topic\": [1, 2, 3, 4, 6, 9, 10, 11, 1, 2, 3, 4, 6, 7, 8, 9, 10, 11, 12, 6, 6, 1, 2, 3, 4, 5, 6, 7, 10, 11, 1, 2, 3, 4, 5, 6, 7, 8, 9, 10, 11, 12, 1, 3, 4, 9, 1, 3, 4, 5, 8, 11, 1, 2, 4, 8, 10, 11, 12, 11, 1, 2, 4, 5, 6, 8, 10, 11, 4, 8, 6, 9, 11, 3, 4, 5, 7, 8, 9, 10, 2, 6, 12, 1, 2, 3, 5, 6, 9, 10, 11, 1, 3, 4, 6, 9, 10, 12, 2, 8, 12, 1, 2, 3, 4, 8, 9, 2, 5, 6, 10, 5, 6, 9, 10, 4, 5, 8, 11, 1, 4, 8, 11, 1, 4, 8, 9, 1, 2, 1, 2, 3, 4, 6, 9, 10, 11, 12, 8, 9, 2, 4, 6, 8, 10, 1, 3, 4, 5, 7, 8, 9, 10, 6, 6, 1, 2, 3, 4, 5, 6, 7, 8, 10, 11, 12, 1, 3, 6, 7, 8, 2, 12, 1, 2, 5, 8, 9, 5, 6, 7, 9, 10, 11, 3, 4, 6, 7, 8, 9, 11, 4, 8, 9, 1, 2, 3, 4, 5, 6, 8, 9, 10, 11, 12, 1, 2, 3, 4, 5, 6, 7, 8, 10, 11, 12, 1, 2, 4, 5, 8, 9, 1, 2, 3, 4, 5, 6, 7, 10, 1, 2, 12, 3, 11, 1, 12, 1, 2, 3, 4, 5, 6, 9, 10, 1, 2, 3, 4, 6, 8, 11, 2, 3, 4, 5, 9, 2, 6, 9, 10, 1, 2, 3, 4, 7, 8, 9, 10, 11, 12, 1, 2, 3, 5, 6, 7, 10, 11, 1, 2, 3, 4, 5, 6, 7, 8, 9, 10, 11, 3, 5, 1, 4, 5, 6, 1, 2, 6, 7, 11, 12, 3, 1, 3, 4, 6, 7, 8, 1, 7, 9, 11, 1, 3, 4, 5, 7, 8, 9, 10, 1, 3, 4, 5, 8, 9, 10, 1, 5, 7, 5, 6, 1, 2, 3, 9, 10, 11, 2, 6, 3, 5, 6, 8, 9, 10, 1, 3, 4, 5, 7, 12, 1, 2, 3, 4, 7, 9, 3, 4, 6, 12, 1, 2, 6, 2, 6, 10, 11, 2, 1, 2, 3, 5, 6, 7, 8, 9, 10, 11, 12, 1, 4, 7, 11, 1, 2, 3, 4, 5, 6, 1, 2, 3, 6, 8, 10, 1, 2, 3, 4, 5, 9, 12, 1, 6, 9, 11, 6, 9, 11, 2, 12, 1, 2, 3, 4, 5, 6, 7, 8, 9, 3, 8, 6, 8, 2, 3, 4, 5, 6, 7, 9, 11, 12, 5, 6, 1, 2, 3, 4, 7, 8, 9, 11, 12, 1, 6, 12, 1, 2, 4, 10, 2, 6, 1, 2, 3, 6, 8, 5, 6, 3, 4, 5, 6, 7, 8, 9, 10, 3, 5, 10, 1, 3, 4, 5, 9, 1, 7, 8, 5, 10, 3, 4, 5, 7, 8, 1, 2, 3, 5, 6, 8, 12, 3, 5, 6, 9, 10, 11, 12, 3, 4, 7, 1, 2, 3, 4, 5, 6, 7, 8, 9, 10, 11, 1, 2, 3, 4, 5, 6, 7, 8, 9, 10, 11, 1, 2, 4, 6, 9, 10, 2, 5, 6, 11, 12, 2, 10, 12, 1, 2, 3, 4, 5, 6, 7, 8, 9, 10, 12, 3, 5, 7, 1, 2, 6, 10, 12, 1, 2, 3, 4, 5, 6, 7, 8, 9, 10, 11, 12, 1, 2, 3, 4, 5, 6, 8, 9, 10, 12, 1, 3, 7, 1, 4, 7, 8, 11, 1, 2, 3, 4, 6, 7, 8, 9, 10, 11, 1, 2, 4, 1, 2, 3, 4, 7, 12, 2, 7, 8, 1, 12, 1, 2, 3, 4, 5, 7, 8, 9, 10, 1, 7, 1, 1, 3, 5, 6, 10, 4, 1, 3, 5, 6, 8, 11, 3, 5, 10, 1, 4, 6, 11, 3, 5, 9, 1, 2, 3, 4, 5, 6, 7, 9, 10, 11, 1, 11, 4, 6, 7, 8, 9, 3, 5, 9, 2, 6, 1, 2, 4, 6, 9, 10, 11, 12, 5, 6, 1, 4, 8, 11, 1, 4, 7, 8, 4, 7, 1, 4, 7, 8, 1, 7, 5, 9, 2, 4, 8, 10, 3, 8, 1, 2, 7, 12, 5, 6, 9, 10, 1, 8, 2, 4, 7, 8, 1, 2, 3, 4, 5, 6, 8, 9, 10, 1, 2, 3, 4, 5, 8, 9, 10, 11, 1, 2, 3, 4, 5, 6, 10, 11, 1, 3, 4, 8, 12, 1, 2, 3, 4, 5, 6, 8, 9, 1, 2, 3, 4, 5, 6, 7, 8, 9, 10, 7, 8, 1, 2, 3, 4, 6, 7, 8, 10, 2, 5, 6, 9, 10, 12, 3, 4, 7, 8, 9, 1, 2, 3, 4, 5, 6, 7, 8, 10, 2, 12, 6, 1, 2, 3, 4, 5, 6, 7, 8, 9, 10, 11, 5, 6, 10, 1, 2, 4, 6, 7, 8, 10, 11, 12, 1, 3, 4, 7, 8, 9, 1, 2, 4, 6, 7, 9, 12, 1, 3, 4, 5, 7, 8, 9, 12, 1, 2, 4, 6, 10, 4, 7, 8, 5, 9, 10, 2, 5, 6, 8, 9, 1, 3, 4, 9, 3, 7, 8, 1, 3, 4, 7, 8, 11, 3, 5, 2, 5, 10, 12, 5, 10, 5, 10, 1, 2, 4, 5, 6, 7, 9, 10, 12, 1, 2, 3, 4, 5, 7, 8, 9, 10, 1, 3, 5, 7, 10, 11, 1, 2, 6, 7, 9, 11, 2, 3, 4, 5, 6, 7, 8, 1, 3, 4, 5, 6, 7, 8, 9, 10, 11, 8, 2, 3, 5, 8, 10, 11, 12, 2, 4, 5, 6, 10, 11, 1, 2, 3, 4, 5, 6, 7, 8, 9, 10, 11, 12, 3, 1, 3, 4, 7, 8, 2, 6, 10, 11, 1, 2, 3, 4, 5, 6, 7, 9, 10, 11, 12, 1, 2, 3, 4, 5, 6, 7, 8, 9, 10, 11, 3, 4, 5, 7, 8, 2, 4, 9, 12, 1, 2, 3, 4, 5, 6, 7, 8, 9, 10, 11, 12, 5, 1, 2, 3, 4, 5, 6, 7, 8, 9, 10, 11, 12, 5, 6, 1, 2, 3, 4, 5, 6, 7, 8, 9, 12, 2, 6, 10, 11, 12, 1, 4, 7, 1, 6, 7, 12, 3, 12, 1, 3, 4, 5, 9, 12, 1, 2, 3, 5, 1, 1, 2, 3, 4, 5, 6, 7, 8, 10, 1, 2, 3, 4, 5, 6, 8, 9, 10, 11, 12, 1, 4, 5, 7, 8, 11, 1, 3, 4, 5, 7, 8, 2, 3, 4, 8, 10, 11, 1, 4, 6, 8, 10, 11, 2, 11, 7, 1, 3, 4, 5, 8, 9, 2, 3, 10, 12, 1, 2, 3, 4, 6, 8, 9, 10, 11, 12, 3, 4, 5, 9, 1, 2, 4, 5, 6, 9, 10, 11, 1, 3, 4, 9, 1, 4, 5, 7, 8, 4, 8, 5, 1, 7, 8, 9, 10, 1, 2, 6, 7, 12, 2, 4, 5, 6, 12, 1, 2, 3, 4, 5, 7, 8, 9, 11, 2, 4, 5, 6, 7, 8, 12, 1, 6, 11, 12, 4, 5, 6, 7, 8, 10, 11, 4, 5, 6, 7, 8, 10, 1, 2, 3, 4, 5, 6, 7, 8, 10, 11, 12, 1, 2, 11, 12, 1, 2, 3, 6, 9, 12, 1, 6, 12, 1, 6, 7, 1, 3, 4, 8, 9, 4, 9, 1, 4, 9, 1, 2, 3, 4, 5, 6, 7, 8, 9, 10, 11, 12, 1, 2, 4, 5, 6, 8, 10, 11, 12, 2, 3, 6, 10, 1, 2, 3, 4, 6, 7, 8, 9, 10, 11, 12, 1, 3, 4, 5, 8, 9, 1, 2, 3, 4, 7, 8, 10, 12, 1, 1, 1, 2, 3, 4, 5, 6, 7, 8, 9, 10, 11, 12, 1, 2, 3, 4, 5, 6, 7, 8, 10, 11, 12, 2, 6, 7, 10, 1, 2, 3, 4, 5, 6, 8, 9, 10, 11, 1, 2, 3, 4, 5, 6, 8, 9, 10, 11, 1, 2, 3, 4, 5, 6, 7, 8, 10, 11, 1, 6, 10, 4, 3, 4, 3, 5, 6, 10, 2, 4, 12, 1, 2, 3, 4, 5, 6, 7, 8, 9, 10, 11, 12, 3, 4, 5, 8, 9, 10, 1, 2, 3, 4, 5, 7, 8, 9, 1, 2, 4, 9, 12, 3, 4, 5, 7, 8, 9, 10, 1, 2, 8, 10, 12, 1, 2, 3, 4, 5, 6, 8, 9, 10, 11, 1, 2, 5, 6, 9, 10, 11, 12, 1, 2, 3, 5, 6, 9, 11, 3, 5, 9, 10, 1, 3, 4, 5, 6, 7, 8, 9, 10, 11, 1, 4, 7, 8, 11, 2, 3, 5, 7, 10, 11, 12, 2, 5, 6, 7, 10, 12, 1, 2, 4, 5, 9, 10, 11, 3, 5, 1, 2, 3, 4, 5, 6, 7, 8, 9, 10, 11, 1, 2, 3, 4, 5, 6, 7, 8, 9, 10, 11, 5, 6, 9, 10, 1, 1, 3, 4, 5, 6, 7, 8, 9, 10, 11, 3, 5, 6, 9, 10, 11, 5, 6, 1, 2, 4, 6, 9, 1, 2, 3, 4, 5, 7, 8, 11, 3, 4, 5, 7, 8, 9, 12, 3, 4, 5, 6, 9, 1, 2, 3, 4, 5, 6, 7, 8, 9, 10, 11, 12, 10, 6, 6, 1, 2, 3, 4, 5, 6, 7, 8, 9, 10, 11, 12, 1, 2, 3, 4, 5, 7, 8, 9, 10, 4, 7, 8, 9, 2, 6, 11, 3, 5, 6, 9, 10, 1, 2, 3, 4, 5, 6, 7, 8, 10, 12, 3, 4, 5, 6, 3, 5, 7, 8, 9, 1, 7, 1, 3, 4, 5, 6, 1, 2, 3, 4, 5, 6, 7, 8, 9, 10, 1, 3, 4, 5, 8, 9, 11, 3, 5, 7, 10, 2, 12, 1, 4, 7, 12, 1, 2, 3, 4, 5, 6, 7, 8, 9, 10, 11, 3, 4, 5, 1, 3, 5, 6, 7, 11, 1, 2, 3, 4, 5, 6, 7, 8, 9, 10, 11, 12, 1, 2, 3, 4, 5, 7, 8, 9, 11, 1, 2, 3, 5, 6, 9, 10, 11, 2, 3, 4, 5, 10, 12, 1, 2, 4, 5, 6, 9, 10, 1, 2, 3, 4, 5, 6, 7, 8, 9, 10, 11, 12, 1, 4, 7, 1, 1, 2, 3, 4, 5, 7, 8, 9, 10, 11, 12, 6, 9, 5, 1, 3, 4, 11, 12, 1, 1, 2, 1, 2, 3, 4, 6, 7, 8, 9, 10, 11, 2, 3, 4, 5, 7, 8, 10, 12, 1, 7, 4, 5, 6, 10, 4, 6, 8, 9, 4, 6, 8, 9, 10, 4, 5, 8, 9, 3, 5, 9, 1, 2, 3, 4, 5, 6, 7, 8, 9, 10, 11, 1, 3, 4, 9, 1, 2, 3, 4, 5, 6, 7, 8, 9, 1, 2, 3, 4, 5, 7, 8, 9, 10, 1, 2, 3, 4, 5, 6, 7, 8, 10, 1, 2, 3, 5, 6, 8, 10, 11, 1, 2, 3, 4, 5, 6, 9, 10, 11, 3, 5, 7, 6, 8, 9, 1, 2, 3, 5, 6, 9, 10, 11, 1, 2, 4, 5, 6, 7, 8, 9, 10, 11, 2, 3, 4, 7, 8, 11, 2, 12, 1, 2, 3, 4, 5, 7, 8, 11, 1, 3, 5, 6, 8, 9, 10, 12, 10, 11, 2, 4, 7, 8, 3, 4, 5, 9, 1, 4, 5, 6, 7, 8, 9, 11, 1, 4, 6, 7, 8, 9, 10, 12, 2, 6, 12, 1, 2, 3, 4, 5, 6, 8, 9, 10, 1, 4, 5, 6, 7, 8, 9, 2, 1, 2, 4, 9, 2, 3, 4, 6, 9, 10, 1, 2, 3, 4, 5, 6, 7, 8, 9, 10, 11, 12, 2, 4, 5, 6, 7, 8, 9, 10, 1, 2, 3, 4, 5, 6, 7, 8, 10, 12, 1, 2, 3, 4, 5, 6, 7, 8, 9, 10, 11, 1, 2, 6, 9, 10, 12, 1, 2, 6, 11, 12, 2, 3, 6, 11, 12, 2, 6, 7, 1, 2, 3, 4, 5, 6, 7, 8, 9, 10, 11, 12, 1, 4, 8, 12, 1, 3, 4, 7, 8, 1, 3, 4, 6, 7, 8, 9, 2, 1, 2, 3, 4, 5, 6, 7, 8, 9, 10, 12, 1, 2, 3, 4, 5, 6, 7, 8, 9, 11, 1, 2, 3, 4, 5, 6, 7, 8, 9, 10, 11, 12, 1, 10, 12, 1, 3, 4, 5, 7, 8, 9, 11, 12, 4, 2, 6, 7, 9, 10, 11, 12, 6, 9, 11, 1, 2, 3, 4, 5, 6, 7, 8, 9, 10, 11, 3, 5, 9, 11, 2, 10, 1, 2, 3, 4, 6, 9, 12, 3, 5, 9, 4, 5, 6, 8, 9, 10, 11, 5, 6, 9, 11, 5, 6, 9, 10, 1, 5, 6, 7, 9, 10, 3, 9, 1, 3, 5, 7, 1, 2, 5, 8, 9, 10, 11, 2, 6, 1, 2, 4, 2, 5, 6, 9, 10, 6, 1, 2, 3, 4, 6, 7, 8, 9, 10, 11, 4, 8, 2, 3, 4, 5, 9, 1, 8, 1, 2, 3, 4, 7, 8, 10, 11, 12, 1, 3, 10, 2, 3, 4, 5, 8, 1, 3, 5, 7, 9, 4, 1, 4, 7, 8, 9, 1, 2, 3, 4, 6, 10, 12, 3, 4, 5, 8, 3, 4, 5, 6, 1, 2, 3, 4, 5, 6, 7, 8, 10, 11, 1, 2, 3, 4, 5, 6, 7, 8, 9, 10, 11, 5, 6, 9, 10, 11, 12, 1, 2, 3, 4, 5, 6, 7, 8, 9, 10, 11, 12, 2, 6, 10, 11, 1, 2, 3, 4, 5, 6, 7, 8, 9, 10, 11, 12, 1, 2, 3, 6, 12, 1, 2, 3, 4, 5, 6, 7, 8, 9, 10, 11, 12, 3, 5, 8, 10, 1, 1, 2, 6, 9, 10, 11, 2, 10, 2, 5, 7, 9, 10, 11, 1, 3, 4, 5, 6, 7, 8, 9, 10, 4, 8, 9, 3, 4, 6, 9, 10, 12, 2, 3, 5, 7, 8, 1, 2, 3, 5, 7, 8, 9, 10, 11, 12, 11, 2, 5, 6, 1, 3, 4, 5, 6, 7, 8, 9, 10, 11, 1, 7, 1, 2, 4, 6, 8, 11, 12, 1, 2, 3, 4, 5, 8, 9, 10, 11, 1, 2, 3, 4, 5, 6, 8, 9, 10, 11, 12, 3, 5, 1, 3, 4, 5, 7, 9, 10, 1, 2, 3, 4, 6, 9, 10, 11, 12, 1, 2, 6, 7, 10, 11, 12, 2, 3, 5, 6, 9, 10, 5, 6, 9, 2, 3, 8, 3, 5, 7, 9, 11, 12, 1, 2, 4, 5, 6, 1, 6, 11, 1, 2, 7, 11, 12, 1, 2, 3, 4, 5, 6, 7, 8, 9, 10, 11, 1, 2, 3, 5, 6, 8, 10, 1, 2, 3, 4, 5, 6, 7, 8, 9, 10, 11, 12, 3, 5, 9, 11, 1, 2, 3, 5, 6, 8, 9, 10, 1, 2, 3, 4, 5, 6, 7, 8, 9, 10, 11, 2, 7, 11, 2, 5, 6, 10, 11, 12, 1, 2, 3, 5, 6, 9, 10, 12, 2, 3, 5, 9, 2, 3, 4, 5, 6, 9, 10, 3, 5, 1, 2, 3, 5, 6, 9, 10, 11, 1, 3, 4, 7, 8, 11, 1, 2, 3, 4, 5, 6, 7, 8, 9, 10, 11, 5, 10, 1, 2, 3, 4, 5, 6, 7, 8, 9, 10, 11, 12, 9], \"Freq\": [0.2838623183426962, 0.01694700408016097, 0.046604261220442665, 0.11439227754108654, 0.1525230367214487, 0.33894008160321937, 0.0042367510200402424, 0.04236751020040242, 0.23142494913321235, 0.14326306374913145, 0.0495910605285455, 0.06336635511980813, 0.03857082485553539, 0.04683600161029297, 0.008265176754757584, 0.30305648100777804, 0.09367200322058594, 0.011020235673010111, 0.008265176754757584, 0.9950550387938146, 0.9946914170380811, 0.24434439022492152, 0.15384646791939502, 0.09954771453607913, 0.036199168922210596, 0.13574688345828972, 0.018099584461105298, 0.05429875338331589, 0.23529459799436886, 0.018099584461105298, 0.22548692053743963, 0.2656042254183338, 0.062250990332421985, 0.07608454373962686, 0.07470118839890638, 0.06501770101386296, 0.0719344777174654, 0.06640105635458345, 0.03735059419945319, 0.02905046215513026, 0.020750330110807326, 0.005533421362881954, 0.33682933700006423, 0.6351638926286926, 0.009623695342858979, 0.009623695342858979, 0.15922391653873622, 0.01061492776924908, 0.02122985553849816, 0.01061492776924908, 0.1698388443079853, 0.6156658106164468, 0.0718569922234377, 0.15677889212386406, 0.026129815353977345, 0.039194723030966015, 0.006532453838494336, 0.6793751992034109, 0.019597361515483008, 0.9952277029552166, 0.01855140227946555, 0.027827103419198328, 0.6029205740826304, 0.04637850569866388, 0.09275701139732775, 0.08348131025759498, 0.09275701139732775, 0.0371028045589311, 0.2737592088168458, 0.7201057449312683, 0.3261445939795226, 0.63831156250278, 0.03261445939795226, 0.0349259867775406, 0.33928101441039443, 0.1920929272764733, 0.17961936057020883, 0.21953477403025523, 0.027441846753781904, 0.0099788533650116, 0.9052249241543353, 0.05273154897986419, 0.035154365986576126, 0.2214986172057487, 0.036916436200958115, 0.11074930860287435, 0.104596569236048, 0.012305478733652706, 0.46145545251197645, 0.043069175567784466, 0.006152739366826353, 0.10848987130940896, 0.08438101101842918, 0.03616329043646965, 0.3736873345101864, 0.06027215072744942, 0.012054430145489884, 0.313415183782737, 0.31272960646815834, 0.5863680121277969, 0.0912128018865462, 0.11466609449269108, 0.1401474488244002, 0.1401474488244002, 0.12740677165854564, 0.4331830236390552, 0.038222031497563695, 0.9914118822486687, 0.0577155495011695, 0.6233279346126306, 0.3116639673063153, 0.07793411608951127, 0.4520178733191654, 0.38967058044755637, 0.07014070448056015, 0.03200953667725938, 0.09602861003177812, 0.4908128957179771, 0.37344459456802603, 0.2997358146223025, 0.01152830056239625, 0.23056601124792497, 0.46113202249584995, 0.044748680015460694, 0.5705456701971239, 0.12305887004251691, 0.257304910088899, 0.9852189097752856, 0.9917721598333151, 0.22424305188690355, 0.025732809232923357, 0.5403889938913905, 0.03308504044233003, 0.02205669362822002, 0.05146561846584671, 0.0036761156047033366, 0.03308504044233003, 0.06617008088466006, 0.049326319258195084, 0.9495316457202554, 0.3079840110056543, 0.15741405006955667, 0.013688178266917969, 0.027376356533835938, 0.4859303284755879, 0.038164877136484275, 0.18319141025512453, 0.022898926281890566, 0.1526595085459371, 0.5114093536288893, 0.04579785256378113, 0.007632975427296855, 0.022898926281890566, 0.987544233294534, 0.9979163737485376, 0.24378322202551186, 0.26715969537042394, 0.11020337434029988, 0.023376473344912097, 0.07012942003473628, 0.07346891622686659, 0.013357984768521198, 0.010018488576390898, 0.04341345049769389, 0.010018488576390898, 0.13357984768521197, 0.06293694783606782, 0.037762168701640696, 0.8559424905705224, 0.012587389567213565, 0.012587389567213565, 0.17890296800251046, 0.8143169578045304, 0.10605134664339305, 0.1723334382955137, 0.006628209165212066, 0.11930776497381718, 0.5965388248690859, 0.015931883793395465, 0.26287608259102513, 0.011948912845046598, 0.6930369450127026, 0.003982970948348866, 0.003982970948348866, 0.010279676401163952, 0.6517314838337946, 0.004111870560465581, 0.3001665509139874, 0.012335611681396743, 0.014391546961629535, 0.006167805840698371, 0.5974581253992389, 0.018966924615848854, 0.3793384923169771, 0.37614247895481, 0.1434212329827693, 0.05953334199284763, 0.04465000649463572, 0.14206820248293184, 0.20160154447577947, 0.0040590914995123385, 0.006765152499187231, 0.0040590914995123385, 0.016236365998049354, 0.001353030499837446, 0.03316422871891613, 0.1859565681739226, 0.007106620439767742, 0.017766551099419357, 0.004737746959845162, 0.6644690111182839, 0.02368873479922581, 0.009475493919690324, 0.02605760827914839, 0.0248731715391871, 0.003553310219883871, 0.0691232111817642, 0.11232521817036682, 0.773315925095987, 0.012960602096580787, 0.008640401397720526, 0.01728080279544105, 0.020386859779081393, 0.4213284354343488, 0.08154743911632557, 0.006795619926360464, 0.027182479705441857, 0.03397809963180232, 0.06795619926360465, 0.33298537639166276, 0.9855162042262531, 0.0034278824494826192, 0.010283647348447857, 0.03466532621847715, 0.9567630036299692, 0.28802253997807237, 0.7061197754301128, 0.041011812220069103, 0.1816237398317346, 0.052729472854374564, 0.6093183529838838, 0.017576490951458187, 0.017576490951458187, 0.029294151585763643, 0.046870642537221834, 0.2877863110054386, 0.021160758162164603, 0.11426809407568884, 0.042321516324329206, 0.49516174099465166, 0.00846430326486584, 0.02539290979459752, 0.02428192299669372, 0.19425538397354977, 0.3399469219537121, 0.07284576899008118, 0.36422884495040586, 0.16271764316541334, 0.7525690996400368, 0.020339705395676668, 0.06101911618703001, 0.08798212995822575, 0.3330752062704261, 0.006284437854158983, 0.05027550283327186, 0.03142218927079491, 0.006284437854158983, 0.09426656781238474, 0.018853313562476947, 0.05027550283327186, 0.31422189270794915, 0.5757704618066333, 0.12072606457235857, 0.04178979158273951, 0.01857324070343978, 0.08822289334133897, 0.011608275439649863, 0.00928662035171989, 0.13233434001200844, 0.3160945917348783, 0.10536486391162611, 0.010329888618786873, 0.014461844066301624, 0.010329888618786873, 0.30576470311609144, 0.03512162130387537, 0.016527821790059, 0.066111287160236, 0.010329888618786873, 0.10949681935914087, 0.6633810423089019, 0.329704350369095, 0.020467013484615194, 0.010233506742307597, 0.685644951734609, 0.2660711752999975, 0.7839490989060114, 0.0021537063156758553, 0.017229650525406842, 0.038766713682165395, 0.12706867262487548, 0.025844475788110263, 0.9901187676784016, 0.06563909090071708, 0.011583368982479483, 0.023166737964958967, 0.011583368982479483, 0.7953913367969245, 0.09266695185983587, 0.2865448855389275, 0.5173727100008413, 0.08755538169245007, 0.10347454200016826, 0.040383015102814786, 0.10095753775703696, 0.5384402013708638, 0.060574522654222175, 0.14134055285985175, 0.04487001678090532, 0.04935701845899585, 0.024678509229497925, 0.032377636503693005, 0.08634036400984801, 0.5126459113084726, 0.11332172776292553, 0.08634036400984801, 0.10252918226169452, 0.06475527300738601, 0.9374698672216696, 0.03906124446756957, 0.009765311116892392, 0.9478486699634019, 0.0473924334981701, 0.6970823957981859, 0.06941899377243345, 0.06074161955087927, 0.1504078198402725, 0.017354748443108362, 0.005784916147702788, 0.9829316775409472, 0.009543025995543178, 0.004998727732011612, 0.06498346051615095, 0.06498346051615095, 0.6848256992855908, 0.11497073783626706, 0.059984732784139336, 0.007597246559046146, 0.1823339174171075, 0.026590362956661513, 0.06077797247236917, 0.030388986236184586, 0.6913494368731993, 0.32082629209074154, 0.05999190827713053, 0.0782503151440833, 0.17215069331698327, 0.00782503151440833, 0.35734310582464707, 0.054241318468996304, 0.007748759781285187, 0.9221024139729371, 0.007748759781285187, 0.017828474279175548, 0.044571185697938866, 0.9270806625171285, 0.9599246273697242, 0.0036223570844140535, 0.007244714168828107, 0.025356499590898373, 0.9919394247402773, 0.1303327951715964, 0.43009822406626813, 0.02932487891360919, 0.02280823915502937, 0.05864975782721838, 0.01629159939644955, 0.01303327951715964, 0.03584151867218901, 0.04561647831005874, 0.00651663975857982, 0.21504911203313407, 0.9201905409679187, 0.0036955443412366217, 0.05912870945978595, 0.011086633023709864, 0.03951829468550218, 0.007903658937100436, 0.015807317874200873, 0.007903658937100436, 0.5532561255970305, 0.37147197004372046, 0.10690443599675165, 0.09621399239707648, 0.11759487959642681, 0.2672610899918791, 0.010690443599675165, 0.3848559695883059, 0.1274469875221525, 0.15930873440269064, 0.02787902852047086, 0.30268659536511217, 0.04779262032080719, 0.3265829055255158, 0.011948155080201797, 0.19161756171555594, 0.05109801645748158, 0.02554900822874079, 0.7281467345191125, 0.20644614864948566, 0.7569692117147807, 0.03176094594607472, 0.8842144888786924, 0.1148979279333894, 0.18922066495244586, 0.04132405326547668, 0.04349900343734387, 0.4415148848890403, 0.08482305670282055, 0.01739960137493755, 0.08917295704655494, 0.05002385395294545, 0.04132405326547668, 0.009387825020551013, 0.9888509021647066, 0.04307468844794521, 0.9476431458547946, 0.023270220175441746, 0.011635110087720873, 0.05235799539474393, 0.06981066052632523, 0.21524953662283614, 0.11053354583334829, 0.506127288815858, 0.005817555043860436, 0.011635110087720873, 0.1257921148197909, 0.8691091569367373, 0.4966388107378356, 0.09932776214756713, 0.01306944238783778, 0.08103054280459424, 0.002613888477567556, 0.010455553910270223, 0.23524996298108003, 0.054891658028918676, 0.010455553910270223, 0.9333212177388883, 0.041480943010617256, 0.020740471505308628, 0.005037694854489064, 0.8211442612817176, 0.16624393019813913, 0.007556542281733597, 0.9878375317847669, 0.007934438006303349, 0.0971908362077177, 0.08747175258694594, 0.6608976862124805, 0.04859541810385885, 0.0971908362077177, 0.007687512054742994, 0.9840015430071032, 0.1460453471839806, 0.5401805469561334, 0.09268262417444922, 0.014042821844613518, 0.001872376245948469, 0.08987405980552653, 0.11234257475690815, 0.002808564368922704, 0.935667781945122, 0.029625365127550037, 0.032094145554845875, 0.0336429293001744, 0.6812693183285317, 0.05046439395026161, 0.168214646500872, 0.05887512627530521, 0.9860095067299591, 0.004024528598897792, 0.004024528598897792, 0.17201963029171408, 0.8191410966272099, 0.09849154406808412, 0.022728817861865567, 0.522762810822908, 0.3308305711004877, 0.022728817861865567, 0.013427174551942514, 0.01790289940259002, 0.13427174551942514, 0.8056304731165509, 0.004475724850647505, 0.004475724850647505, 0.01790289940259002, 0.16434215191053178, 0.06919669554127654, 0.06054710859861698, 0.5362743904448932, 0.14704297802521266, 0.008649586942659567, 0.008649586942659567, 0.202651166347767, 0.6459505927335073, 0.1393226768640898, 0.0640205747085584, 0.008830424097732194, 0.10154987712392022, 0.20972257232113958, 0.1280411494171168, 0.017660848195464388, 0.15232481568588033, 0.273743147029698, 0.004415212048866097, 0.01324563614659829, 0.02649127229319658, 0.23814383415829493, 0.04914079117552118, 0.03780060859655475, 0.07686123747966132, 0.0100801622924146, 0.018900304298277375, 0.039060628883106574, 0.2620842196027796, 0.016380263725173726, 0.001260020286551825, 0.2507440370238132, 0.11159534016368695, 0.051904809378459045, 0.0493095689095361, 0.012976202344614761, 0.760405457394425, 0.012976202344614761, 0.12059280772949219, 0.02192596504172585, 0.02192596504172585, 0.46044526587624285, 0.3508154406676136, 0.9770051448433723, 0.0034280882275206045, 0.017140441137603022, 0.24744934623413478, 0.012624966644598713, 0.012624966644598713, 0.15654958639302405, 0.015149959973518456, 0.012624966644598713, 0.3206741527728073, 0.15907457972194378, 0.01009997331567897, 0.022724939960277683, 0.03282491327595665, 0.5153163336295412, 0.2685891193463063, 0.21237279204126547, 0.159402776924786, 0.06711695870517305, 0.07550657854331969, 0.3691432728784518, 0.3271951736877186, 0.1735463461341203, 0.20036714508212067, 0.05679698600753027, 0.04575312761717716, 0.04890851572870662, 0.14041477096306096, 0.014199246501882567, 0.039442351394118245, 0.14988093529764934, 0.04575312761717716, 0.08204009089976595, 0.0015776940557647298, 0.1643147539685322, 0.06439361979847884, 0.002220469648223408, 0.4751805047198093, 0.04885033226091498, 0.02442516613045749, 0.17763757185787266, 0.017763757185787266, 0.02442516613045749, 0.002220469648223408, 0.8916408048103573, 0.07062501424240454, 0.0264843803409017, 0.020542848830022407, 0.48789265971303214, 0.18488563947020165, 0.04622140986755041, 0.26192132258278567, 0.010146279060680606, 0.04734930228317616, 0.05073139530340303, 0.12851953476862102, 0.043967209262949294, 0.3821765112856362, 0.04734930228317616, 0.25703906953724204, 0.02705674416181495, 0.003382093020226869, 0.10203926303386474, 0.8812481807470136, 0.009276296639442249, 0.22848513094873638, 0.1876842147078906, 0.08160183248169156, 0.14688329846704481, 0.048961099489014934, 0.29376659693408963, 0.0442365483120888, 0.847867175981702, 0.1032186127282072, 0.9808752008241578, 0.012575323087489203, 0.039765444385652986, 0.02385926663139179, 0.011929633315695895, 0.12327287759552424, 0.13520251091122015, 0.17099141085830782, 0.4493495215578787, 0.027835811069957087, 0.019882722192826493, 0.969987913758608, 0.023950318858237236, 0.9866478746290466, 0.0764295985761316, 0.18561473939917672, 0.5568442181975302, 0.1637777112345677, 0.021837028164609026, 0.9904800500674388, 0.011316954597788947, 0.13580345517346737, 0.22633909195577895, 0.04526781839115579, 0.29424081954251263, 0.2829238649447237, 0.13567031625153747, 0.8366336168844811, 0.026380339271132286, 0.14685574959549888, 0.05648298061365342, 0.7229821518547638, 0.0677795767363841, 0.03935039394254185, 0.934571856135369, 0.024593996214088656, 0.06292353013299204, 0.0713133341507243, 0.09228784419505498, 0.18457568839010996, 0.03565666707536215, 0.49290098604177096, 0.027266863057629882, 0.008389804017732271, 0.01887705903989761, 0.004194902008866136, 0.016146946209671626, 0.9768902456851333, 0.031966192014679165, 0.19534895120081713, 0.15272736184791158, 0.6073576482789041, 0.010655397338226388, 0.13463352254700636, 0.5543733281347322, 0.300945520987426, 0.01106759029324885, 0.9739479458058988, 0.0406046970761374, 0.04568028421065457, 0.04568028421065457, 0.025377935672585873, 0.6852042631598186, 0.060907045614206096, 0.09136056842130914, 0.005075587134517175, 0.8405760273149555, 0.1563862376399917, 0.07301103438569576, 0.5719197693546167, 0.3163811490046816, 0.03650551719284788, 0.04571682713766795, 0.020318589838963532, 0.8305223596676344, 0.09905312546494723, 0.02485813836557113, 0.9694673962572741, 0.035698425355951684, 0.02519888848655413, 0.8651618380383584, 0.07139685071190337, 0.9557172488284211, 0.04263969264003725, 0.9638650944735907, 0.024401647961356725, 0.08837933227546009, 0.1365862407893474, 0.7231036277083098, 0.04820690851388732, 0.760250459468041, 0.22911657682598496, 0.06141474196179454, 0.8199697980845001, 0.0979316155606994, 0.01825843679945243, 0.675086152289913, 0.23514236765154273, 0.06826713899560918, 0.015170475332357596, 0.10312327364410166, 0.8949626962684537, 0.034077696870884064, 0.1135923229029469, 0.0075728215268631265, 0.840583189481807, 0.07455443953651515, 0.07969612502179206, 0.033420955654299894, 0.05141685485276907, 0.221092475866907, 0.02056674194110763, 0.43704326624853707, 0.06684191130859979, 0.01542505645583072, 0.12813754176695824, 0.23523757667665465, 0.019125006233874364, 0.0210375068572618, 0.11283753677985874, 0.4494376464960475, 0.0038250012467748724, 0.0019125006233874362, 0.028687509350811543, 0.14355280403034903, 0.2272919397147193, 0.007975155779463837, 0.007975155779463837, 0.03987577889731918, 0.23127951760445123, 0.15152795980981287, 0.18741616081740015, 0.006151956060079978, 0.06151956060079978, 0.8120581999305571, 0.09843129696127965, 0.018455868180239934, 0.14785638591623057, 0.03285697464805124, 0.04107121831006405, 0.6105921122096188, 0.04654738075140592, 0.06845203051677341, 0.04380929953073499, 0.010952324882683747, 0.2026173044770007, 0.06549246205317194, 0.010233197195808116, 0.16577779457209146, 0.0716323803706568, 0.038886149344070836, 0.20671058335532394, 0.09005213532311142, 0.09414541420143466, 0.05525926485736382, 0.37063758018415244, 0.6202506443898061, 0.01621527343543556, 0.03783563801601631, 0.027025455725725935, 0.06486109374174225, 0.07026618488688743, 0.4810531119179216, 0.28106473954754974, 0.010810182290290373, 0.3153431631367522, 0.08096648783240934, 0.1576715815683761, 0.22585388711145765, 0.21306970482212986, 0.004261394096442597, 0.03213491646414243, 0.13925130467795055, 0.5141586634262789, 0.05355819410690405, 0.24636769289175864, 0.167671869109362, 0.3248642463993888, 0.05239745909667562, 0.02619872954833781, 0.02619872954833781, 0.083835934554681, 0.05239745909667562, 0.015719237729002685, 0.2462680577543754, 0.9088114101175374, 0.07853925766447854, 0.9937824552538722, 0.10350421717952432, 0.009409474289047665, 0.04234263430071449, 0.011761842861309582, 0.08468526860142898, 0.04234263430071449, 0.6327871459384555, 0.011761842861309582, 0.014114211433571498, 0.03293316001166683, 0.014114211433571498, 0.06901410386108964, 0.9247889917386011, 0.00552112830888717, 0.0562787850604762, 0.6612757244605953, 0.01406969626511905, 0.07879029908466668, 0.04220908879535715, 0.02532545327721429, 0.03376727103628572, 0.02532545327721429, 0.06472060281954763, 0.023480156334415386, 0.03913359389069231, 0.7787585184247771, 0.09000726594859232, 0.04696031266883077, 0.023480156334415386, 0.032811906229299505, 0.14218492699363117, 0.13124762491719802, 0.010937302076433167, 0.054686510382165834, 0.4812412913630594, 0.15312222907006434, 0.005067777175474661, 0.25136174790354315, 0.5006963849368965, 0.10338265437968308, 0.00912199891585439, 0.07297599132683512, 0.053718438060031404, 0.002027110870189864, 0.005913802805276667, 0.92255323762316, 0.01774140841583, 0.01774140841583, 0.02956901402638333, 0.07914577733866729, 0.7043974183141388, 0.21369359881440167, 0.8863843422078311, 0.07214756273784671, 0.030920384030505736, 0.6385050827331296, 0.03360553067016471, 0.04760783511606668, 0.2716447062504981, 0.002800460889180393, 0.016253688734439123, 0.06501475493775649, 0.8695723472924931, 0.040634221836097814, 0.055031624600263694, 0.044025299680210954, 0.8915123185242719, 0.12491207563915191, 0.010409339636595993, 0.5100576421932036, 0.16134476436723788, 0.0052046698182979965, 0.18736811345872786, 0.012357730886318913, 0.9824396054623536, 0.38056194734419446, 0.017804067712009097, 0.5815995452589638, 0.01928774002134319, 0.037003724412726716, 0.9497622599266524, 0.3171185658175095, 0.6824943046942052, 0.17551982075601158, 0.09920685520991958, 0.06868166899148279, 0.022893889663827598, 0.12210074487374718, 0.007631296554609199, 0.015262593109218398, 0.09157555865531039, 0.3968274208396783, 0.6659721097106941, 0.005841860611497317, 0.0029209303057486586, 0.08178604856096243, 0.02336744244598927, 0.08762790917245976, 0.06426046672647048, 0.03213023336323524, 0.0350511636689839, 0.03505453600465217, 0.008763634001163043, 0.7361452560976957, 0.04381817000581522, 0.11392724201511957, 0.06134543800814131, 0.2259397896102094, 0.01129698948051047, 0.20334581064918847, 0.18075183168816752, 0.12426688428561518, 0.24853376857123036, 0.17423804784874472, 0.006969521913949789, 0.020908565741849367, 0.09060378488134725, 0.06969521913949789, 0.041817131483698734, 0.5924093626857321, 0.025413929767159, 0.015248357860295401, 0.14740079264952222, 0.0711590033480452, 0.0711590033480452, 0.060993431441181606, 0.2846360133921808, 0.010165571906863602, 0.020331143813727203, 0.29988437125247625, 0.9888810842572245, 0.4144929037772539, 0.013816430125908464, 0.013816430125908464, 0.03223833696045308, 0.03223833696045308, 0.027632860251816927, 0.4605476708636154, 0.4360399846019336, 0.10658755179158377, 0.01937955487119705, 0.009689777435598524, 0.0387591097423941, 0.3779013199883425, 0.11703254103795462, 0.37798347713609665, 0.09172820784055902, 0.026885854022232817, 0.07591299959218678, 0.041119541445767835, 0.08856516619088457, 0.04902714556995396, 0.011070645773860572, 0.06326083299348897, 0.003163041649674449, 0.053771708044465634, 0.9963529019238713, 0.6420347604543384, 0.00910687603481331, 0.12112145126301703, 0.1529955173848636, 0.07467638348546915, 0.6288869871688537, 0.034938165953825207, 0.27950532763060165, 0.04891343233535529, 0.09860235854576646, 0.5452130413707087, 0.02610062432093818, 0.017400416213958787, 0.008700208106979393, 0.11310270539073211, 0.008700208106979393, 0.0464011099038901, 0.07540180359382141, 0.055101318010869496, 0.008700208106979393, 0.14167016762713375, 0.07002088744789368, 0.11235909846289917, 0.26054283701541836, 0.04396660374635185, 0.04396660374635185, 0.016283927313463648, 0.06187892379116186, 0.22471819692579834, 0.013027141850770918, 0.008141963656731824, 0.0021428512204203602, 0.047142726849247925, 0.04499987562882757, 0.7499979271471261, 0.15214243664984559, 0.05546506804128179, 0.33279040824769074, 0.4769995851550234, 0.1331161632990763, 0.0039016139137962435, 0.18337585394842346, 0.07413066436212863, 0.031212911310369948, 0.03511452522416619, 0.03901613913796244, 0.15996617046564598, 0.10534357567249858, 0.02340968348277746, 0.02340968348277746, 0.04291775305175868, 0.2770145878795333, 0.9919283974847232, 0.19437841149421875, 0.0861449778213015, 0.2915676172413281, 0.03313268377742365, 0.06184767638452415, 0.004417691170323154, 0.044176911703231535, 0.0861449778213015, 0.03534152936258523, 0.0287149926071005, 0.1325307351096946, 0.002208845585161577, 0.10880564992263517, 0.8885794743681872, 0.31144542000153835, 0.0901923388239749, 0.12119595529471627, 0.023957340000118333, 0.16770138000082835, 0.06341648823560736, 0.021138829411869117, 0.009864787058872256, 0.008455531764747648, 0.1817939329420744, 0.15136345708199267, 0.7351939343982501, 0.01081167550585662, 0.0540583775292831, 0.02162335101171324, 0.051020237698159714, 0.012755059424539928, 0.9183642785668749, 0.8797874528327806, 0.06982440101847465, 0.005585952081477972, 0.044687616651823775, 0.08911562587809294, 0.902295712015691, 0.17688275394270403, 0.03930727865393423, 0.03930727865393423, 0.04913409831741778, 0.6583969174533982, 0.02948045899045067, 0.0813860662066604, 0.0058132904433328865, 0.35461071704330605, 0.5522625921166242, 0.9911813299141031, 0.12977417813687064, 0.07299797520198974, 0.03244354453421766, 0.1784394949381971, 0.07299797520198974, 0.03244354453421766, 0.024332658400663242, 0.3731007621435031, 0.08110886133554414, 0.1252244952486366, 0.05008979809945464, 0.07763918705415468, 0.09266612648399107, 0.02504489904972732, 0.35814205641110064, 0.08014367695912741, 0.09016163657901835, 0.05008979809945464, 0.04257632838453644, 0.007513469714918195, 0.35811590453171643, 0.008328276849574802, 0.016656553699149604, 0.4747117804257637, 0.13325242959319683, 0.008328276849574802, 0.10955405167317536, 0.07531841052530806, 0.07189484641052132, 0.05820058995137441, 0.5511938224806635, 0.13351900047668247, 0.009693456491559909, 0.014540184737339862, 0.8287905300283721, 0.04846728245779954, 0.004846728245779954, 0.08724110842403918, 0.008785175569788566, 0.6852436944435081, 0.0263555267093657, 0.008785175569788566, 0.18448868696555987, 0.07906658012809709, 0.5195261864441163, 0.47531119185312765, 0.9938511077208427, 0.05425711683528696, 0.7795890997912285, 0.05425711683528696, 0.06567966774797895, 0.002855637728172998, 0.045690203650767966, 0.9613878434314835, 0.011490691355754784, 0.007660460903836523, 0.019151152259591308, 0.056390324742818514, 0.37266649395253976, 0.009807012998751046, 0.14710519498126567, 0.10052188323719823, 0.04167980524469195, 0.05148681824344299, 0.01961402599750209, 0.1961402599750209, 0.0024517532496877614, 0.8421698563381551, 0.016911041291930825, 0.1251417055602881, 0.010146624775158495, 0.391527660765795, 0.10363967490859279, 0.04606207773715235, 0.05757759717144044, 0.011515519434288088, 0.0921241554743047, 0.24182590812004984, 0.05757759717144044, 0.1272617103060915, 0.04242057010203051, 0.5514674113263965, 0.2651285631376907, 0.004490808181187036, 0.6421855699097461, 0.017963232724748143, 0.18861394360985548, 0.1392150536167981, 0.9495481467076561, 0.04040630411521941, 0.9903279096235159, 0.9079271331631639, 0.005746374260526353, 0.06321011686578988, 0.005746374260526353, 0.011492748521052707, 0.033688464177786585, 0.6462059946829972, 0.003062587652526053, 0.033688464177786585, 0.2817580640323969, 0.47141137494565244, 0.04782434238579083, 0.09564868477158166, 0.11614483150834914, 0.2664499075779775, 0.6957078449729857, 0.027828313798919427, 0.09276104599639809, 0.055656627597838855, 0.060294679897658764, 0.009276104599639809, 0.030147339948829382, 0.013914156899459714, 0.011595130749549761, 0.4604386181448409, 0.04662669550833831, 0.04079835856979602, 0.017485010815626867, 0.017485010815626867, 0.06994004326250747, 0.34970021631253734, 0.2708398695443391, 0.683548242183332, 0.012897136644968528, 0.012897136644968528, 0.06432853424252469, 0.17460602151542415, 0.02297447651518739, 0.05973363893948721, 0.5743619128796847, 0.1010876966668245, 0.004594895303037478, 0.052176982500919, 0.1252247580022056, 0.0313061895005514, 0.0313061895005514, 0.6678653760117632, 0.0834831720014704, 0.17025757488746956, 0.11114036138487596, 0.07803472182342355, 0.09458754160414976, 0.026011573941141182, 0.009458754160414976, 0.37362078933639153, 0.10404629576456473, 0.004729377080207488, 0.007094065620311231, 0.018917508320829952, 0.06109842994431678, 0.6197126465780702, 0.02618504140470719, 0.2880354554517791, 0.4553086112643405, 0.007343687278457105, 0.007343687278457105, 0.13953005829068502, 0.3671843639228553, 0.007343687278457105, 0.9688996219108449, 0.007396180319930113, 0.02218854095979034, 0.973872869584627, 0.0012830999599270448, 0.023095799278686806, 0.5788359974532821, 0.011217751888629496, 0.08076781359813237, 0.004487100755451799, 0.3208277040148036, 0.1780071690290219, 0.8010322606305985, 0.07328702743107542, 0.19543207314953442, 0.7247272712628569, 0.11210896486232709, 0.08504818024038607, 0.08118235386582306, 0.05798739561844505, 0.06185322199300805, 0.17009636048077215, 0.02319495824737802, 0.05798739561844505, 0.01159747912368901, 0.015463305498252013, 0.003865826374563003, 0.32086358908872925, 0.8284068945507137, 0.04572375716676017, 0.032275593294183655, 0.010758531098061217, 0.0053792655490306086, 0.03496522606869896, 0.013448163872576522, 0.013448163872576522, 0.010758531098061217, 0.9691181607799583, 0.0052957276545352915, 0.010591455309070583, 0.010591455309070583, 0.15779035708915987, 0.22090649992482383, 0.06311614283566395, 0.04339234819951897, 0.09861897318072492, 0.04733710712674796, 0.02366855356337398, 0.003944758927228997, 0.019723794636144983, 0.003944758927228997, 0.31558071417831973, 0.26461354178404894, 0.025031010709301926, 0.05721373876411869, 0.01787929336378709, 0.0071517173455148365, 0.6221994090597908, 0.08309697684067695, 0.16273157964632567, 0.031161366315253854, 0.02769899228022565, 0.36701164771298983, 0.14541970947118465, 0.12810783929604364, 0.04847323649039489, 0.9949687385522262, 0.9948413114673175, 0.15116590112730377, 0.2070591754937018, 0.12194896225395935, 0.013973318591599507, 0.18673434845137524, 0.05081206760581639, 0.0038109050704362296, 0.008892111831017869, 0.019054525352181148, 0.2083294771838472, 0.015243620281744918, 0.008892111831017869, 0.1118248832234385, 0.1118248832234385, 0.13346840900862014, 0.11543213752096877, 0.17314820628145317, 0.01803627148765137, 0.07575234024813576, 0.02525078008271192, 0.014429017190121097, 0.02525078008271192, 0.20200624066169537, 0.8053368281616502, 0.04807981063651643, 0.012019952659129108, 0.12019952659129107, 0.09917837678136442, 0.054097296426198774, 0.10819459285239755, 0.09016216071033128, 0.03606486428413251, 0.16679999731411288, 0.013524324106549693, 0.009016216071033128, 0.04057297231964908, 0.3786810749833914, 0.25217906150669217, 0.09022920549322014, 0.039330679317557495, 0.24755192276345012, 0.02544926308783132, 0.2614333389931763, 0.05089852617566264, 0.006940708114863087, 0.0023135693716210292, 0.02776283245945235, 0.14141706562457684, 0.21345972169747449, 0.12540758649726627, 0.06136966998802392, 0.10406161432751881, 0.05603317694558706, 0.06937440955167921, 0.02134597216974745, 0.20278673561260077, 0.0026682465212184312, 0.9353360958072555, 0.04044696630517862, 0.02022348315258931, 0.9920558349154931, 0.977219995240212, 0.011917317015124535, 0.7089765168056001, 0.03622507750101606, 0.005175011071573724, 0.243225520363965, 0.9241029673618463, 0.048636998282202436, 0.009727399656440488, 0.20187759775511196, 0.1650821735337369, 0.18795500480648356, 0.08254108676686844, 0.1183420400633415, 0.04674013347039538, 0.013922592948628411, 0.03182306959686494, 0.052706959019807556, 0.08254108676686844, 0.006961296474314206, 0.008950238324118264, 0.162131571450558, 0.06948495919309629, 0.20073432655783371, 0.432350857201488, 0.015441102042910286, 0.12352881634328229, 0.0463251916232879, 0.07412030659726064, 0.027795114973972742, 0.5373722228301396, 0.1853007664931516, 0.03706015329863032, 0.00926503832465758, 0.08338534492191822, 0.0975551410691857, 0.8222504747259938, 0.03484112181042346, 0.02090467308625408, 0.02090467308625408, 0.036321144782807596, 0.33690992919224977, 0.19788761640288277, 0.17910081737729264, 0.22418913503870896, 0.0025049065367453516, 0.02379661209908084, 0.023375632487741993, 0.9350252995096797, 0.014609770304838746, 0.017531724365806495, 0.008765862182903247, 0.16593857268973886, 0.04444783197046576, 0.09778523033502469, 0.07407971995077628, 0.5363371724436202, 0.008889566394093154, 0.008889566394093154, 0.002963188798031051, 0.05333739836455892, 0.002963188798031051, 0.2765641232030531, 0.04014640498108835, 0.017842846658261493, 0.004460711664565373, 0.20073202490544179, 0.062449963303915224, 0.37023906815892593, 0.022303558322826864, 0.155170720563418, 0.008620595586856555, 0.6594755623945265, 0.09482655145542211, 0.012930893380284834, 0.025861786760569667, 0.03448238234742622, 0.7461603048664582, 0.1484896129087479, 0.0037122403227186976, 0.10023048871340484, 0.022328233601541504, 0.15778618411755996, 0.03423662485569697, 0.26198460759142034, 0.18606861334617922, 0.11164116800770753, 0.11015261910093808, 0.031259527042158106, 0.02083968469477207, 0.06400760299108564, 0.8559164451838296, 0.02908453939945052, 0.03046951746609102, 0.07063388139866555, 0.011079824533124007, 0.12410051584057, 0.04245543962966868, 0.029392227435924474, 0.019594818290616316, 0.013063212193744211, 0.055518651823412896, 0.7119450645590595, 0.48655340190059987, 0.03892427215204799, 0.05838640822807198, 0.019462136076023994, 0.04865534019005999, 0.3405873813304199, 0.012352465535337791, 0.5805658801608763, 0.012352465535337791, 0.03705739660601338, 0.012352465535337791, 0.08646725874736455, 0.2717542417774314, 0.01853867639662452, 0.9808645148032246, 0.21270712276027182, 0.005004873476712278, 0.0575560449821912, 0.29278509838766825, 0.08007797562739645, 0.012512183691780695, 0.05004873476712278, 0.015014620430136833, 0.060058481720547334, 0.10009746953424556, 0.1151120899643824, 0.06761955008493589, 0.13155076107432984, 0.08852013829300699, 0.12048574378770396, 0.10942072650107809, 0.03196560549469697, 0.28646100308709205, 0.05778397916349068, 0.06270176462421329, 0.003688339095541958, 0.04057173005096154, 0.23740827339609177, 0.6289236716282431, 0.062475861420024155, 0.07080597627602737, 0.9964884656407134, 0.6376825927125684, 0.08173685775235252, 0.16651351599962727, 0.058093965014068744, 0.014861246864064096, 0.011145935148048073, 0.007768379042578959, 0.013510224421876452, 0.006417356600391315, 0.0016887780527345565, 0.011302351748422722, 0.5297977382073151, 0.1511689546351539, 0.2952739394275436, 0.009889557779869882, 0.0014127939685528402, 0.01974442303366441, 0.967476728649556, 0.032493861455693156, 0.17059277264238906, 0.02437039609176987, 0.731111882753096, 0.032493861455693156, 0.09232333522637268, 0.513548552196698, 0.025965938032417316, 0.002885104225824146, 0.014425521129120732, 0.02308083380659317, 0.08366802254890024, 0.24234875496922828, 0.7637052237388042, 0.0022330562097625855, 0.07369085492216532, 0.037961955565963955, 0.06922474250264014, 0.006699168629287757, 0.04466112419525171, 0.4355829176803447, 0.03691380658308006, 0.48234040601891276, 0.01968736351097603, 0.024609204388720038, 0.19030739567776256, 0.10439719991465832, 0.11744684990399061, 0.11799058532021278, 0.10602840616332485, 0.10385346449843613, 0.03751774371933033, 0.08264778326577117, 0.06633572077910581, 0.056548483287106585, 0.013593385405554468, 0.003806147913555251, 0.9875554869380483, 0.9839352724003815, 0.9925214158052624, 0.10947761402638626, 0.12811210152023925, 0.1758629757232375, 0.032610353114242714, 0.0733732945070461, 0.1327707233937025, 0.0722086390386803, 0.02795173124077947, 0.166545731976311, 0.061726739823388, 0.01863448749385298, 0.0011646554683658113, 0.07494459005039743, 0.051685924172687886, 0.11112473697127895, 0.4419146516764814, 0.25326102844617066, 0.0025842962086343943, 0.0025842962086343943, 0.005168592417268789, 0.051685924172687886, 0.02619281582058121, 0.06548203955145303, 0.7366729449538465, 0.1669792008562052, 0.6759695518138501, 0.013254304937526473, 0.30484901356310884, 0.6699102361574697, 0.14712981822150037, 0.009391264992861725, 0.05947801162145759, 0.11269517991434069, 0.10849192415082357, 0.19631871989196645, 0.10332564204840339, 0.04649653892178152, 0.030997692614521018, 0.03874711576815127, 0.005166282102420169, 0.010332564204840338, 0.44688340185934466, 0.012915705256050423, 0.06899763218726927, 0.15332807152726505, 0.7666403576363252, 0.9964170536838055, 0.012943097843735415, 0.038829293531206246, 0.49183771806194576, 0.375349837468327, 0.06471548921867708, 0.9866291657573315, 0.006490981353666655, 0.9706364791402876, 0.01376789332113883, 0.011014314656911064, 0.002753578664227766, 0.002753578664227766, 0.22686649004450377, 0.02025593661111641, 0.008102374644446563, 0.4699377293779007, 0.06887018447779579, 0.016204749288893126, 0.03240949857778625, 0.04861424786667938, 0.09722849573335876, 0.008102374644446563, 0.16042431252451944, 0.024680663465310684, 0.6910585770286992, 0.012340331732655342, 0.024680663465310684, 0.06170165866327671, 0.037020995197966027, 0.6560293995362289, 0.2058815668757314, 0.031405662743755634, 0.10468554247918545, 0.03586841911621275, 0.9612736323145018, 0.21055545681179968, 0.014037030454119978, 0.7650181597495389, 0.007018515227059989, 0.30769993555215136, 0.029028295806806735, 0.29028295806806736, 0.015833615894621855, 0.20953151700549588, 0.03377838057519329, 0.021111487859495806, 0.007916807947310927, 0.007389020750823532, 0.03166723178924371, 0.044861911701428586, 0.12953336352123204, 0.007097718549108605, 0.8623728037166954, 0.03943544846978001, 0.07323726144387716, 0.49012628812440867, 0.27604813928846006, 0.1070390744179743, 0.005633635495682858, 0.19886239328861433, 0.2518923648322448, 0.06849704657718937, 0.01325749288590762, 0.07070662872484065, 0.1789761539597529, 0.004419164295302541, 0.00662874644295381, 0.06186830013423557, 0.02651498577181524, 0.10605994308726097, 0.00662874644295381, 0.618289901787171, 0.03369826478934818, 0.04395425842088893, 0.1362582011047557, 0.04102397452616301, 0.019046845315718538, 0.06446624568397044, 0.035163406736711145, 0.007325709736814822, 0.02983807557703222, 0.4641478423093901, 0.004973012596172037, 0.08288354326953394, 0.14090202355820772, 0.01491903778851611, 0.25362364240477386, 0.006630683461562716, 0.5664617828814216, 0.014129432226067206, 0.008991456871133676, 0.27231269381147705, 0.13230286538953837, 0.0038534815162001466, 0.05810279225760502, 0.5113045718669242, 0.011620558451521004, 0.02324111690304201, 0.12007910399905038, 0.0038735194838403347, 0.27114636386882346, 0.11280432680952794, 0.23124886995953228, 0.08742335327738415, 0.025380973532143785, 0.022560865361905588, 0.0028201081702381985, 0.12972497583095713, 0.045121730723811176, 0.011280432680952794, 0.10998421863928974, 0.03384129804285838, 0.1861271392357211, 0.9044603583317063, 0.04522301791658532, 0.04522301791658532, 0.9862602848236061, 0.07230972081155627, 0.1526538550466188, 0.016068826847012503, 0.09641296108207503, 0.032137653694025006, 0.2169291624346688, 0.06427530738805001, 0.016068826847012503, 0.016068826847012503, 0.24103240270518758, 0.06427530738805001, 0.7761118555956129, 0.2155866265543369, 0.989864416357336, 0.188897701249507, 0.10000466536738606, 0.188897701249507, 0.022223258970530235, 0.4889116973516652, 0.9816473583449761, 0.03927727875136826, 0.9524740097206803, 0.1755044272236036, 0.21311251877151866, 0.02507206103194337, 0.05014412206388674, 0.07521618309583011, 0.02507206103194337, 0.03760809154791506, 0.06268015257985843, 0.2757926713513771, 0.05014412206388674, 0.0020205496332344865, 0.006061648899703459, 0.12325352762730367, 0.06061648899703459, 0.40613047628013177, 0.3717811325151455, 0.02222604596557935, 0.008082198532937946, 0.9744888054573753, 0.022004585929682668, 0.005407689591970202, 0.02703844795985101, 0.8165611283875005, 0.14600761898319545, 0.062472796850793905, 0.6809534856736535, 0.21865478897777865, 0.031236398425396952, 0.03456529650632383, 0.34565296506323834, 0.4888520505894371, 0.08888219101626128, 0.03950319600722724, 0.27871298206472983, 0.003766391649523376, 0.7043152384608713, 0.011299174948570127, 0.9781866014509081, 0.004915510560054814, 0.014746531680164442, 0.3985161102264221, 0.02097453211718011, 0.023970893848205842, 0.01498180865512865, 0.3565670459920619, 0.0988799371238491, 0.02097453211718011, 0.03895270250333449, 0.005992723462051461, 0.0029963617310257303, 0.01498180865512865, 0.1193664052562905, 0.06963040306616945, 0.7659344337278641, 0.039788801752096835, 0.6617041460296292, 0.02262236396682493, 0.0697522888977102, 0.0886042588700643, 0.011311181983412464, 0.05090031892535609, 0.08671906187282889, 0.007540787988941643, 0.0018851969972354108, 0.004235328482701321, 0.06352992724051981, 0.06352992724051981, 0.07200058420592245, 0.042353284827013206, 0.5632986881992756, 0.1821191247561568, 0.004235328482701321, 0.004235328482701321, 0.23076294134621095, 0.19354311209682207, 0.02977586339951109, 0.052107760949144405, 0.11165948774816659, 0.03721982924938886, 0.02977586339951109, 0.022331897549633318, 0.2903146681452331, 0.07508552974261541, 0.5899577336919782, 0.005363252124472529, 0.037542764871307706, 0.0536325212447253, 0.010726504248945059, 0.021453008497890117, 0.2038035807299561, 0.26123434378099664, 0.07506734016695306, 0.018016161640068733, 0.006005387213356245, 0.4624148154284309, 0.10209158262705616, 0.02402154885342498, 0.015013468033390612, 0.03302962967345935, 0.033881518010563334, 0.03146140958123738, 0.9317417452904916, 0.9280894308535539, 0.03921504637409383, 0.013071682124697942, 0.10766487935709712, 0.32000394697803863, 0.056823130771801254, 0.10467418826384442, 0.07476727733131744, 0.011962764373010791, 0.3080411826050279, 0.017944146559516188, 0.07233239634598013, 0.10746527457117049, 0.01859975906039489, 0.03926615801638921, 0.05579927718118467, 0.10333199477997161, 0.08473223571957672, 0.23559694809833528, 0.008266559582397729, 0.2748631061147245, 0.18279744688985097, 0.05376395496760322, 0.08602232794816517, 0.5591451316630736, 0.06451674596112388, 0.043011163974082584, 0.6419111023339629, 0.35013332854579793, 0.023957363055682062, 0.05989340763920516, 0.03593604458352309, 0.08385077069488722, 0.05989340763920516, 0.08385077069488722, 0.3114457197238668, 0.3473817643073899, 0.04603181152283707, 0.16571452148221347, 0.07825407958882302, 0.1288890722639438, 0.04142863037055337, 0.299206774898441, 0.23015905761418537, 0.009206362304567416, 0.03619512137764373, 0.9531381962779516, 0.051849522608013024, 0.1166614258680293, 0.7518180778161888, 0.07777428391201954, 0.023304475175938724, 0.44278502834283573, 0.0932179007037549, 0.4311327907548664, 0.01696900261155471, 0.01131266840770314, 0.03676617232503521, 0.019797169713480493, 0.7438079478064814, 0.13858018799436347, 0.01696900261155471, 0.014140835509628925, 0.043369548374760494, 0.032527161281070374, 0.043369548374760494, 0.47706503212236545, 0.28190206443594323, 0.021684774187380247, 0.010842387093690124, 0.07589670965583087, 0.973285111508185, 0.007603789933657695, 0.01520757986731539, 0.31019244156374, 0.0767142597415701, 0.020012415584757418, 0.06003724675427226, 0.03001862337713613, 0.46028555844942065, 0.01334161038983828, 0.010006207792378709, 0.023347818182216987, 0.011265134353733627, 0.03379540306120088, 0.022530268707467254, 0.04506053741493451, 0.5632567176866813, 0.2590980901358734, 0.06195823894553495, 0.9967146840268547, 0.18766369411606218, 0.020851521568451353, 0.010425760784225677, 0.7819320588169257, 0.2139898332974671, 0.011567018016079303, 0.05205158107235686, 0.04048456305627756, 0.630402481876322, 0.04626807206431721, 0.301846178345432, 0.11259785614831916, 0.11581493775255684, 0.11679404954515094, 0.06713909434930831, 0.0534315292529912, 0.06769858680221923, 0.060844804254060664, 0.061264423593743844, 0.030212592457188745, 0.011889214624356681, 0.0005594924529109027, 0.03422890943476295, 0.12185491758775609, 0.09447179003994573, 0.013691563773905178, 0.0027383127547810355, 0.19715851834423456, 0.5298635180501304, 0.006845781886952589, 0.22797884163007323, 0.011398942081503662, 0.03419682624451098, 0.19378201538556225, 0.022797884163007324, 0.07979259457052562, 0.022797884163007324, 0.0911915366520293, 0.04559576832601465, 0.2621756678745842, 0.4344597458299083, 0.08326458126910957, 0.1046990279324447, 0.06347893819526175, 0.08326458126910957, 0.00824401794743659, 0.03297607178974636, 0.03709808076346466, 0.036273678968721, 0.0906841974218025, 0.025556455637053433, 0.025246278431387305, 0.2145933666667921, 0.10098511372554922, 0.025246278431387305, 0.10098511372554922, 0.5175487078434398, 0.5569009516508164, 0.1485069204402177, 0.029701384088043542, 0.0074253460220108855, 0.2524617647483701, 0.021454924896300645, 0.9525986653957487, 0.012872954937780387, 0.004290984979260129, 0.004290984979260129, 0.9245736439575086, 0.04885958281076265, 0.022550576681890453, 0.047748831266535355, 0.3231004249035559, 0.04456557584876633, 0.030240926468805725, 0.0811730131531101, 0.11141393962191583, 0.047748831266535355, 0.028649298759921213, 0.019099532506614142, 0.00795813854442256, 0.12414696129299192, 0.133696727546299, 0.9433352066699047, 0.0034809417220291686, 0.04525224238637919, 0.0034809417220291686, 0.026160207672576645, 0.019620155754432485, 0.22890181713504565, 0.6409250879781277, 0.07848062301772994, 0.1527754380491054, 0.5977003979815878, 0.13669381299130484, 0.010721083371867045, 0.05628568770230199, 0.013401354214833808, 0.03216325011560114, 0.9900743621916795, 0.07680933299637156, 0.098145258828697, 0.09387807366223191, 0.07254214782990648, 0.021335925832325436, 0.4949934793099501, 0.004267185166465087, 0.012801555499395262, 0.004267185166465087, 0.07680933299637156, 0.04267185166465087, 0.15887553315939867, 0.021027644094626294, 0.3224238761176032, 0.047896300437759894, 0.32943309081581196, 0.0023364048994029218, 0.10280181557372856, 0.0046728097988058435, 0.008177417147910225, 0.0011682024497014609, 0.11381351893477357, 0.23174077951779196, 0.04662240534677472, 0.0589636302915092, 0.10558603563828392, 0.05759238307542759, 0.09872979955787586, 0.030167438753795406, 0.05484988864326437, 0.10832853007044713, 0.05622113585934598, 0.03702367483420345, 0.9329535955023326, 0.031098453183411083, 0.020732302122274057, 0.02018409782670463, 0.02623932717471602, 0.7447932098054009, 0.07871798152414806, 0.008073639130681853, 0.09082844022017084, 0.016147278261363706, 0.010092048913352315, 0.0040368195653409265, 0.9933473934766387, 0.08620310646160739, 0.1959161510491077, 0.007836646041964308, 0.03918323020982154, 0.10187639854553601, 0.023509938125892926, 0.5485652229375015, 0.757848761442777, 0.2312080967113557, 0.012844894261741983, 0.03619247665452161, 0.05227802183430899, 0.048256635539362144, 0.04021386294946846, 0.06836356701409638, 0.02010693147473423, 0.016085545179787383, 0.008042772589893691, 0.5911437853571863, 0.09651327107872429, 0.02010693147473423, 0.8775415939230423, 0.031038448659657443, 0.08747199167721643, 0.0028216771508779493, 0.8240843323848156, 0.16481686647696311, 0.02390082550991093, 0.15137189489610256, 0.015933883673273953, 0.007966941836636977, 0.1354380112228286, 0.015933883673273953, 0.6453222887675951, 0.9463297212846256, 0.04676629436580998, 0.005501916984212939, 0.1347693308047914, 0.24345427500220382, 0.047821375446861464, 0.01304219330368949, 0.49995074330809713, 0.05216877321475796, 0.008694795535792993, 0.20408403632193436, 0.3449992042585081, 0.43246379125362283, 0.014577431165852455, 0.743372652705773, 0.05718251174659793, 0.011436502349319585, 0.18298403758911336, 0.043794293635662174, 0.2890423379953704, 0.1751771745426487, 0.07007086981705948, 0.18393603326978114, 0.22773032690544331, 0.8286535006966218, 0.16972421098605509, 0.11498287561751229, 0.003593214863047259, 0.007186429726094518, 0.8731512117204839, 0.008430217112985253, 0.665987151925835, 0.0632266283473894, 0.04215108556492626, 0.016860434225970507, 0.19811010215515346, 0.004215108556492627, 0.9675496460047495, 0.021989764681926125, 0.05134979285173734, 0.030809875711042402, 0.9037563541905772, 0.14520351869549783, 0.014051953422144952, 0.8033033372992864, 0.028103906844289903, 0.009367968948096633, 0.994490945706856, 0.1487321692568452, 0.0302506106963075, 0.04033414759507666, 0.1840245484025373, 0.05545945294323041, 0.09327271631361479, 0.31006875963715186, 0.12352332700992229, 0.0025208842246922914, 0.010083536898769166, 0.8712003227255517, 0.1244571889607931, 0.008051216546782803, 0.20128041366957009, 0.06440973237426242, 0.31399744532452933, 0.40256082733914017, 0.4901833312592706, 0.4901833312592706, 0.011834818268584199, 0.059174091342920995, 0.011834818268584199, 0.011834818268584199, 0.48522754901195214, 0.047339273074336795, 0.011834818268584199, 0.011834818268584199, 0.34320972978894176, 0.535539381144935, 0.2353127583818654, 0.21908429228656434, 0.03457750456281794, 0.03457750456281794, 0.04610333941709059, 0.09220667883418118, 0.78375677009054, 0.01256775251181343, 0.26392280274808205, 0.11310977260632087, 0.5278456054961641, 0.08169039132678729, 0.9843424456826954, 0.41473199314578824, 0.00960027761911547, 0.4742537143843042, 0.0019200555238230938, 0.09600277619115469, 0.027591056366711827, 0.7825826896740082, 0.07775661339709697, 0.030099334218231084, 0.015049667109115542, 0.057690390584942915, 0.010033111406077029, 0.24340595215073346, 0.0015118382121163568, 0.7438244003612475, 0.009071029272698141, 0.12967482700790448, 0.6719513763136867, 0.18861793019331557, 0.9863248707177491, 0.22685937684289298, 0.3050867481680285, 0.10691074081101853, 0.015645474265027104, 0.09908800367850498, 0.04954400183925249, 0.03911368566256775, 0.010430316176684735, 0.13559411029690155, 0.010430316176684735, 0.2530807079345046, 0.34708211373874914, 0.08134737040751933, 0.009038596711946593, 0.06507789632601546, 0.07050105435318342, 0.041577544874954325, 0.02530807079345046, 0.007230877369557274, 0.09400140580424456, 0.005423158027167955, 0.09574570137701423, 0.26330067878678914, 0.40691923085231047, 0.03590463801638034, 0.047872850688507114, 0.15558676473764813, 0.1535777041033995, 0.24661035178142032, 0.08786416725146412, 0.06719024554523727, 0.08417239551820933, 0.08638745855816221, 0.05168480426556713, 0.03839442602584987, 0.022150630399528772, 0.09303264767802084, 0.04208619775910467, 0.027319110826085485, 0.39608848652730805, 0.0998018233769595, 0.4771774680210876, 0.02806926282476986, 0.44754741847460283, 0.18554101519675745, 0.03710820303935149, 0.13381442914190386, 0.059598023063200875, 0.042730658045313834, 0.005622455005962347, 0.03485922103696655, 0.026987784028619264, 0.014618383015502102, 0.010120419010732224, 0.0011244910011924693, 0.9164256286162346, 0.008984564986433671, 0.02246141246608418, 0.035938259945734685, 0.008984564986433671, 0.08801640053907989, 0.14302665087600483, 0.027505125168462465, 0.04675871278638619, 0.03575666271900121, 0.2750512516846247, 0.024754612651616218, 0.03300615020215496, 0.0412576877526937, 0.052259737820078686, 0.07151332543800241, 0.16228023849392856, 0.8948996221216718, 0.009727169805670345, 0.009727169805670345, 0.07781735844536276, 0.9983265156701732, 0.10664393342226072, 0.21956103939877206, 0.037639035325503785, 0.19446834918176956, 0.3136586277125315, 0.1254634510850126, 0.6717390419580604, 0.3134782195804282, 0.09331618665745099, 0.21534504613257924, 0.1004943548618703, 0.33737390560770747, 0.02871267281767723, 0.22252321433699854, 0.09213504163714868, 0.03204697100422563, 0.08812917026162048, 0.05207632788186665, 0.02002935687764102, 0.15222311227007174, 0.5007339219410255, 0.060088070632923055, 0.004005871375528203, 0.4312186270785441, 0.4312186270785441, 0.1341569062022137, 0.8755265849065851, 0.012331360350796973, 0.012331360350796973, 0.03699408105239092, 0.03699408105239092, 0.012331360350796973, 0.83274728015078, 0.11896389716439715, 0.016994842452056735, 0.016994842452056735, 0.008497421226028368, 0.054904820172761146, 0.19902997312625914, 0.13726205043190287, 0.030883961347178145, 0.006863102521595143, 0.027452410086380573, 0.06863102521595144, 0.030883961347178145, 0.0034315512607975716, 0.43923856138208917, 0.9925973596695882, 0.0060661078576104, 0.6753600081472911, 0.3194816805008144, 0.2461185173623391, 0.08742433821364941, 0.09027513185105102, 0.1406391527784795, 0.12353439095406982, 0.13683809459527735, 0.020905820007611816, 0.10452910003805908, 0.03420952364881934, 0.01710476182440967, 0.9858560657832509, 0.9809637826966289, 0.06673193123631377, 0.4034248570195332, 0.24266156813205006, 0.012133078406602502, 0.07886500964291626, 0.03639923521980751, 0.1546967496841819, 0.12717380754458024, 0.047235985659415516, 0.5014281554614878, 0.047235985659415516, 0.21982901018420298, 0.003633537358416578, 0.027251530188124335, 0.014534149433666313, 0.009083843396041446, 0.13651315082409846, 0.028105648699079094, 0.44366774017832, 0.034128287706024614, 0.14052824349539547, 0.01204527801389104, 0.014052824349539547, 0.04416601938426715, 0.034128287706024614, 0.01204527801389104, 0.10037731678242534, 0.8786994243805117, 0.12001748235441136, 0.10082650165299521, 0.5860540408580347, 0.028357453589904904, 0.22055797236592703, 0.006301656353312201, 0.047262422649841505, 0.0094524845299683, 0.0303557585808654, 0.0303557585808654, 0.2124903100660578, 0.0809486895489744, 0.0101185861936218, 0.10118586193621801, 0.0101185861936218, 0.4654549649066028, 0.0607115171617308, 0.02310144740371779, 0.7577274748419436, 0.027721736884461348, 0.004620289480743558, 0.009240578961487117, 0.009240578961487117, 0.1663304213067681, 0.014138085668488154, 0.025448554203278677, 0.6673176435526409, 0.050897108406557354, 0.016965702802185786, 0.22338175356211282, 0.5372228644007717, 0.44599634025724444, 0.010136280460391918, 0.021547058292389464, 0.9534573294382338, 0.021547058292389464, 0.24888147539505362, 0.05925749414167943, 0.047405995313343545, 0.023702997656671772, 0.047405995313343545, 0.5570204449317867, 0.8395278299592439, 0.004513590483651849, 0.018054361934607396, 0.009027180967303698, 0.12186694305859992, 0.8845107315862625, 0.09087439023146532, 0.018174878046293065, 0.1300137148332663, 0.8077447815173139, 0.04149373877657434, 0.011064997007086491, 0.008298747755314868, 0.27631858340529847, 0.28204539342406115, 0.08303874527205861, 0.041519372636029304, 0.17180430056287987, 0.022907240075050652, 0.004295107514071997, 0.028634050093813316, 0.022907240075050652, 0.05154129016886397, 0.012885322542215992, 0.12661157382711846, 0.1446989415167068, 0.054262103068765055, 0.5787957660668273, 0.0361747353791767, 0.01808736768958835, 0.04521841922397088, 0.19861265633544534, 0.1706031791599338, 0.22025634324379517, 0.029282635228943865, 0.15405212446531338, 0.02546316106864684, 0.030555793282376207, 0.01909737080148513, 0.010185264427458736, 0.10694527648831673, 0.02546316106864684, 0.011458422480891078, 0.9355106396300623, 0.049237402085792754, 0.0054708224539769725, 0.0054708224539769725, 0.03143766334277471, 0.05715938789595401, 0.6487590526190781, 0.15433034731907583, 0.03143766334277471, 0.0028579693947977007, 0.05715938789595401, 0.017147816368786203, 0.21002173876623823, 0.2809040755998436, 0.04069171188595865, 0.10501086938311911, 0.024940081478490788, 0.09057187484294023, 0.03675380428409169, 0.053818070558848546, 0.11944986392329798, 0.026252717345779778, 0.011813722805600899, 0.8274261401267329, 0.14221386783428222, 0.025857066878960402, 0.7626350407253905, 0.010447055352402609, 0.09402349817162349, 0.010447055352402609, 0.015670583028603913, 0.1044705535240261, 0.10487118976015297, 0.6641842018143022, 0.012158978522916286, 0.01063910620755175, 0.14590774227499545, 0.01063910620755175, 0.0212782124151035, 0.02887757399192618, 0.11707401310159414, 0.8539516249763337, 0.013773413306069899, 0.013773413306069899, 0.32409836914954815, 0.00506403701796169, 0.01012807403592338, 0.00506403701796169, 0.587428294083556, 0.030384222107770135, 0.035448259125731824, 0.40419254392120396, 0.592189075977578, 0.15806412536576567, 0.006198593151598654, 0.006198593151598654, 0.034092262333792596, 0.08678030412238116, 0.03099296575799327, 0.2882345815493374, 0.3874120719749159, 0.04278214067100727, 0.035651783892506055, 0.11408570845601938, 0.6559928236221114, 0.1212160652345206, 0.028521427114004846, 0.02903366420371199, 0.208359237226639, 0.04184263370534963, 0.03842690850491293, 0.054651603206987275, 0.05550553450709645, 0.016224694702074348, 0.11357286291452043, 0.0059775191007642335, 0.11698858811495713, 0.3185163749407227, 0.16239391951378776, 0.8244614375315379, 0.06883799937436404, 0.13068176351817773, 0.029449411497054132, 0.08540329334145699, 0.0773047051797671, 0.15829058679666597, 0.1638123514523636, 0.13436293995530948, 0.0489596466138525, 0.05742635241925556, 0.043805999601868026, 0.0018405882185658833, 0.9958027300790505], \"Term\": [\"act\", \"act\", \"act\", \"act\", \"act\", \"act\", \"act\", \"act\", \"action\", \"action\", \"action\", \"action\", \"action\", \"action\", \"action\", \"action\", \"action\", \"action\", \"action\", \"actor\", \"actress\", \"add\", \"add\", \"add\", \"add\", \"add\", \"add\", \"add\", \"add\", \"add\", \"added\", \"added\", \"added\", \"added\", \"added\", \"added\", \"added\", \"added\", \"added\", \"added\", \"added\", \"added\", \"address\", \"address\", \"address\", \"address\", \"affected\", \"affected\", \"affected\", \"affected\", \"affected\", \"affected\", \"africa\", \"africa\", \"africa\", \"africa\", \"africa\", \"africa\", \"africa\", \"aid\", \"air\", \"air\", \"air\", \"air\", \"air\", \"air\", \"air\", \"air\", \"airline\", \"airline\", \"album\", \"album\", \"album\", \"analyst\", \"analyst\", \"analyst\", \"analyst\", \"analyst\", \"analyst\", \"analyst\", \"andy\", \"andy\", \"andy\", \"appeal\", \"appeal\", \"appeal\", \"appeal\", \"appeal\", \"appeal\", \"appeal\", \"appeal\", \"appeared\", \"appeared\", \"appeared\", \"appeared\", \"appeared\", \"appeared\", \"appeared\", \"argentina\", \"argentina\", \"argentina\", \"arm\", \"arm\", \"arm\", \"arm\", \"arm\", \"arm\", \"arsenal\", \"art\", \"art\", \"art\", \"artist\", \"artist\", \"artist\", \"artist\", \"asia\", \"asia\", \"asia\", \"asia\", \"asian\", \"asian\", \"asian\", \"asian\", \"asset\", \"asset\", \"asset\", \"asset\", \"asylum\", \"athens\", \"attack\", \"attack\", \"attack\", \"attack\", \"attack\", \"attack\", \"attack\", \"attack\", \"attack\", \"auction\", \"auction\", \"australian\", \"australian\", \"australian\", \"australian\", \"australian\", \"average\", \"average\", \"average\", \"average\", \"average\", \"average\", \"average\", \"average\", \"aviator\", \"award\", \"away\", \"away\", \"away\", \"away\", \"away\", \"away\", \"away\", \"away\", \"away\", \"away\", \"away\", \"baby\", \"baby\", \"baby\", \"baby\", \"baby\", \"ball\", \"ball\", \"ban\", \"ban\", \"ban\", \"ban\", \"ban\", \"band\", \"band\", \"band\", \"band\", \"band\", \"band\", \"bank\", \"bank\", \"bank\", \"bank\", \"bank\", \"bank\", \"bank\", \"bankruptcy\", \"bankruptcy\", \"bankruptcy\", \"bbc\", \"bbc\", \"bbc\", \"bbc\", \"bbc\", \"bbc\", \"bbc\", \"bbc\", \"bbc\", \"bbc\", \"bbc\", \"best\", \"best\", \"best\", \"best\", \"best\", \"best\", \"best\", \"best\", \"best\", \"best\", \"best\", \"bid\", \"bid\", \"bid\", \"bid\", \"bid\", \"bid\", \"bit\", \"bit\", \"bit\", \"bit\", \"bit\", \"bit\", \"bit\", \"bit\", \"blair\", \"blair\", \"blair\", \"blog\", \"blog\", \"blunkett\", \"blunkett\", \"board\", \"board\", \"board\", \"board\", \"board\", \"board\", \"board\", \"board\", \"book\", \"book\", \"book\", \"book\", \"book\", \"book\", \"book\", \"bought\", \"bought\", \"bought\", \"bought\", \"bought\", \"boy\", \"boy\", \"boy\", \"boy\", \"break\", \"break\", \"break\", \"break\", \"break\", \"break\", \"break\", \"break\", \"break\", \"break\", \"britain\", \"britain\", \"britain\", \"britain\", \"britain\", \"britain\", \"britain\", \"britain\", \"british\", \"british\", \"british\", \"british\", \"british\", \"british\", \"british\", \"british\", \"british\", \"british\", \"british\", \"broadband\", \"broadband\", \"broadcast\", \"broadcast\", \"broadcast\", \"broadcast\", \"brown\", \"brown\", \"brown\", \"brown\", \"brown\", \"brown\", \"bt\", \"budget\", \"budget\", \"budget\", \"budget\", \"budget\", \"budget\", \"bush\", \"bush\", \"bush\", \"bush\", \"business\", \"business\", \"business\", \"business\", \"business\", \"business\", \"business\", \"business\", \"buy\", \"buy\", \"buy\", \"buy\", \"buy\", \"buy\", \"buy\", \"cabinet\", \"cabinet\", \"cabinet\", \"camera\", \"camera\", \"campaign\", \"campaign\", \"campaign\", \"campaign\", \"campaign\", \"campaign\", \"captain\", \"captain\", \"car\", \"car\", \"car\", \"car\", \"car\", \"car\", \"card\", \"card\", \"card\", \"card\", \"card\", \"card\", \"case\", \"case\", \"case\", \"case\", \"case\", \"case\", \"category\", \"category\", \"category\", \"category\", \"ceremony\", \"ceremony\", \"ceremony\", \"champion\", \"champion\", \"champion\", \"champion\", \"championship\", \"chance\", \"chance\", \"chance\", \"chance\", \"chance\", \"chance\", \"chance\", \"chance\", \"chance\", \"chance\", \"chance\", \"chancellor\", \"chancellor\", \"chancellor\", \"chancellor\", \"channel\", \"channel\", \"channel\", \"channel\", \"channel\", \"channel\", \"character\", \"character\", \"character\", \"character\", \"character\", \"character\", \"charge\", \"charge\", \"charge\", \"charge\", \"charge\", \"charge\", \"charge\", \"charity\", \"charity\", \"charity\", \"charity\", \"chart\", \"chart\", \"chart\", \"chelsea\", \"chelsea\", \"chief\", \"chief\", \"chief\", \"chief\", \"chief\", \"chief\", \"chief\", \"chief\", \"chief\", \"china\", \"china\", \"chinese\", \"chinese\", \"christmas\", \"christmas\", \"christmas\", \"christmas\", \"christmas\", \"christmas\", \"christmas\", \"christmas\", \"christmas\", \"cinema\", \"cinema\", \"claim\", \"claim\", \"claim\", \"claim\", \"claim\", \"claim\", \"claim\", \"claim\", \"claim\", \"clarke\", \"clarke\", \"clarke\", \"club\", \"club\", \"club\", \"club\", \"coach\", \"coach\", \"code\", \"code\", \"code\", \"code\", \"code\", \"comedy\", \"comedy\", \"company\", \"company\", \"company\", \"company\", \"company\", \"company\", \"company\", \"company\", \"computer\", \"computer\", \"computer\", \"connection\", \"connection\", \"connection\", \"connection\", \"connection\", \"conservative\", \"conservative\", \"conservative\", \"console\", \"console\", \"consumer\", \"consumer\", \"consumer\", \"consumer\", \"consumer\", \"content\", \"content\", \"content\", \"content\", \"content\", \"content\", \"content\", \"copy\", \"copy\", \"copy\", \"copy\", \"copy\", \"copy\", \"copy\", \"corporate\", \"corporate\", \"corporate\", \"cost\", \"cost\", \"cost\", \"cost\", \"cost\", \"cost\", \"cost\", \"cost\", \"cost\", \"cost\", \"cost\", \"country\", \"country\", \"country\", \"country\", \"country\", \"country\", \"country\", \"country\", \"country\", \"country\", \"country\", \"court\", \"court\", \"court\", \"court\", \"court\", \"court\", \"cross\", \"cross\", \"cross\", \"cross\", \"cross\", \"cup\", \"cup\", \"cup\", \"cut\", \"cut\", \"cut\", \"cut\", \"cut\", \"cut\", \"cut\", \"cut\", \"cut\", \"cut\", \"cut\", \"data\", \"data\", \"data\", \"davis\", \"davis\", \"davis\", \"davis\", \"davis\", \"day\", \"day\", \"day\", \"day\", \"day\", \"day\", \"day\", \"day\", \"day\", \"day\", \"day\", \"day\", \"deal\", \"deal\", \"deal\", \"deal\", \"deal\", \"deal\", \"deal\", \"deal\", \"deal\", \"deal\", \"debate\", \"debate\", \"debate\", \"debt\", \"debt\", \"debt\", \"debt\", \"debt\", \"december\", \"december\", \"december\", \"december\", \"december\", \"december\", \"december\", \"december\", \"december\", \"december\", \"defeat\", \"defeat\", \"defeat\", \"defence\", \"defence\", \"defence\", \"defence\", \"defence\", \"defence\", \"deficit\", \"deficit\", \"deficit\", \"dem\", \"dem\", \"demand\", \"demand\", \"demand\", \"demand\", \"demand\", \"demand\", \"demand\", \"demand\", \"demand\", \"democrat\", \"democrat\", \"dems\", \"design\", \"design\", \"design\", \"design\", \"design\", \"deutsche\", \"developing\", \"developing\", \"developing\", \"developing\", \"developing\", \"developing\", \"device\", \"device\", \"device\", \"died\", \"died\", \"died\", \"died\", \"digital\", \"digital\", \"digital\", \"director\", \"director\", \"director\", \"director\", \"director\", \"director\", \"director\", \"director\", \"director\", \"director\", \"disaster\", \"disaster\", \"dollar\", \"dollar\", \"dollar\", \"dollar\", \"dollar\", \"download\", \"download\", \"download\", \"drama\", \"drama\", \"drug\", \"drug\", \"drug\", \"drug\", \"drug\", \"drug\", \"drug\", \"drug\", \"dvd\", \"dvd\", \"earnings\", \"earnings\", \"earnings\", \"earnings\", \"economic\", \"economic\", \"economic\", \"economic\", \"economist\", \"economist\", \"economy\", \"economy\", \"economy\", \"economy\", \"election\", \"election\", \"electronics\", \"electronics\", \"energy\", \"energy\", \"energy\", \"energy\", \"engine\", \"engine\", \"england\", \"england\", \"england\", \"england\", \"entertainment\", \"entertainment\", \"entertainment\", \"entertainment\", \"eu\", \"eu\", \"euro\", \"euro\", \"euro\", \"euro\", \"europe\", \"europe\", \"europe\", \"europe\", \"europe\", \"europe\", \"europe\", \"europe\", \"europe\", \"european\", \"european\", \"european\", \"european\", \"european\", \"european\", \"european\", \"european\", \"european\", \"event\", \"event\", \"event\", \"event\", \"event\", \"event\", \"event\", \"event\", \"exchange\", \"exchange\", \"exchange\", \"exchange\", \"exchange\", \"executive\", \"executive\", \"executive\", \"executive\", \"executive\", \"executive\", \"executive\", \"executive\", \"expected\", \"expected\", \"expected\", \"expected\", \"expected\", \"expected\", \"expected\", \"expected\", \"expected\", \"expected\", \"export\", \"export\", \"fall\", \"fall\", \"fall\", \"fall\", \"fall\", \"fall\", \"fall\", \"fall\", \"fan\", \"fan\", \"fan\", \"fan\", \"fan\", \"fan\", \"federal\", \"federal\", \"federal\", \"federal\", \"federal\", \"feel\", \"feel\", \"feel\", \"feel\", \"feel\", \"feel\", \"feel\", \"feel\", \"feel\", \"ferguson\", \"ferguson\", \"festival\", \"figure\", \"figure\", \"figure\", \"figure\", \"figure\", \"figure\", \"figure\", \"figure\", \"figure\", \"figure\", \"figure\", \"film\", \"film\", \"film\", \"final\", \"final\", \"final\", \"final\", \"final\", \"final\", \"final\", \"final\", \"final\", \"financial\", \"financial\", \"financial\", \"financial\", \"financial\", \"financial\", \"fine\", \"fine\", \"fine\", \"fine\", \"fine\", \"fine\", \"fine\", \"firm\", \"firm\", \"firm\", \"firm\", \"firm\", \"firm\", \"firm\", \"firm\", \"football\", \"football\", \"football\", \"football\", \"football\", \"forecast\", \"forecast\", \"forecast\", \"format\", \"format\", \"format\", \"france\", \"france\", \"france\", \"france\", \"france\", \"fraud\", \"fraud\", \"fraud\", \"fraud\", \"fuel\", \"fuel\", \"fuel\", \"fund\", \"fund\", \"fund\", \"fund\", \"fund\", \"fund\", \"gadget\", \"gadget\", \"game\", \"game\", \"game\", \"game\", \"gamers\", \"gamers\", \"gaming\", \"gaming\", \"gave\", \"gave\", \"gave\", \"gave\", \"gave\", \"gave\", \"gave\", \"gave\", \"gave\", \"general\", \"general\", \"general\", \"general\", \"general\", \"general\", \"general\", \"general\", \"general\", \"generation\", \"generation\", \"generation\", \"generation\", \"generation\", \"generation\", \"george\", \"george\", \"george\", \"george\", \"george\", \"george\", \"germany\", \"germany\", \"germany\", \"germany\", \"germany\", \"germany\", \"germany\", \"global\", \"global\", \"global\", \"global\", \"global\", \"global\", \"global\", \"global\", \"global\", \"global\", \"gm\", \"goal\", \"goal\", \"goal\", \"goal\", \"goal\", \"goal\", \"goal\", \"gold\", \"gold\", \"gold\", \"gold\", \"gold\", \"gold\", \"good\", \"good\", \"good\", \"good\", \"good\", \"good\", \"good\", \"good\", \"good\", \"good\", \"good\", \"good\", \"google\", \"government\", \"government\", \"government\", \"government\", \"government\", \"grand\", \"grand\", \"grand\", \"grand\", \"great\", \"great\", \"great\", \"great\", \"great\", \"great\", \"great\", \"great\", \"great\", \"great\", \"great\", \"group\", \"group\", \"group\", \"group\", \"group\", \"group\", \"group\", \"group\", \"group\", \"group\", \"group\", \"growth\", \"growth\", \"growth\", \"growth\", \"growth\", \"guilty\", \"guilty\", \"guilty\", \"guilty\", \"half\", \"half\", \"half\", \"half\", \"half\", \"half\", \"half\", \"half\", \"half\", \"half\", \"half\", \"half\", \"handset\", \"help\", \"help\", \"help\", \"help\", \"help\", \"help\", \"help\", \"help\", \"help\", \"help\", \"help\", \"help\", \"hollywood\", \"hollywood\", \"home\", \"home\", \"home\", \"home\", \"home\", \"home\", \"home\", \"home\", \"home\", \"home\", \"honour\", \"honour\", \"honour\", \"honour\", \"honour\", \"housing\", \"housing\", \"housing\", \"howard\", \"howard\", \"howard\", \"howard\", \"id\", \"id\", \"illegal\", \"illegal\", \"illegal\", \"illegal\", \"illegal\", \"illegal\", \"image\", \"image\", \"image\", \"image\", \"immigration\", \"impact\", \"impact\", \"impact\", \"impact\", \"impact\", \"impact\", \"impact\", \"impact\", \"impact\", \"including\", \"including\", \"including\", \"including\", \"including\", \"including\", \"including\", \"including\", \"including\", \"including\", \"including\", \"income\", \"income\", \"income\", \"income\", \"income\", \"income\", \"increase\", \"increase\", \"increase\", \"increase\", \"increase\", \"increase\", \"india\", \"india\", \"india\", \"india\", \"india\", \"india\", \"indian\", \"indian\", \"indian\", \"indian\", \"indian\", \"indian\", \"indoor\", \"indoor\", \"inflation\", \"information\", \"information\", \"information\", \"information\", \"information\", \"information\", \"injury\", \"injury\", \"injury\", \"injury\", \"international\", \"international\", \"international\", \"international\", \"international\", \"international\", \"international\", \"international\", \"international\", \"international\", \"internet\", \"internet\", \"internet\", \"internet\", \"interview\", \"interview\", \"interview\", \"interview\", \"interview\", \"interview\", \"interview\", \"interview\", \"investigation\", \"investigation\", \"investigation\", \"investigation\", \"investment\", \"investment\", \"investment\", \"investment\", \"investment\", \"investor\", \"investor\", \"ipod\", \"iraq\", \"iraq\", \"iraq\", \"iraq\", \"iraq\", \"ireland\", \"ireland\", \"ireland\", \"ireland\", \"ireland\", \"irish\", \"irish\", \"irish\", \"irish\", \"irish\", \"issue\", \"issue\", \"issue\", \"issue\", \"issue\", \"issue\", \"issue\", \"issue\", \"issue\", \"italy\", \"italy\", \"italy\", \"italy\", \"italy\", \"italy\", \"italy\", \"jackson\", \"jackson\", \"jackson\", \"jackson\", \"japan\", \"japan\", \"japan\", \"japan\", \"japan\", \"japan\", \"japan\", \"japanese\", \"japanese\", \"japanese\", \"japanese\", \"japanese\", \"japanese\", \"job\", \"job\", \"job\", \"job\", \"job\", \"job\", \"job\", \"job\", \"job\", \"job\", \"job\", \"johnson\", \"johnson\", \"johnson\", \"johnson\", \"judge\", \"judge\", \"judge\", \"judge\", \"judge\", \"judge\", \"kennedy\", \"kennedy\", \"kennedy\", \"labour\", \"labour\", \"labour\", \"law\", \"law\", \"law\", \"law\", \"law\", \"lawsuit\", \"lawsuit\", \"lawyer\", \"lawyer\", \"lawyer\", \"lead\", \"lead\", \"lead\", \"lead\", \"lead\", \"lead\", \"lead\", \"lead\", \"lead\", \"lead\", \"lead\", \"lead\", \"leader\", \"leader\", \"leader\", \"leader\", \"leader\", \"leader\", \"leader\", \"leader\", \"leader\", \"league\", \"league\", \"league\", \"league\", \"left\", \"left\", \"left\", \"left\", \"left\", \"left\", \"left\", \"left\", \"left\", \"left\", \"left\", \"legal\", \"legal\", \"legal\", \"legal\", \"legal\", \"legal\", \"level\", \"level\", \"level\", \"level\", \"level\", \"level\", \"level\", \"level\", \"lib\", \"liberal\", \"like\", \"like\", \"like\", \"like\", \"like\", \"like\", \"like\", \"like\", \"like\", \"like\", \"like\", \"like\", \"line\", \"line\", \"line\", \"line\", \"line\", \"line\", \"line\", \"line\", \"line\", \"line\", \"line\", \"lion\", \"lion\", \"lion\", \"lion\", \"list\", \"list\", \"list\", \"list\", \"list\", \"list\", \"list\", \"list\", \"list\", \"list\", \"london\", \"london\", \"london\", \"london\", \"london\", \"london\", \"london\", \"london\", \"london\", \"london\", \"look\", \"look\", \"look\", \"look\", \"look\", \"look\", \"look\", \"look\", \"look\", \"look\", \"lord\", \"lord\", \"lord\", \"lse\", \"mac\", \"mac\", \"machine\", \"machine\", \"machine\", \"machine\", \"madrid\", \"madrid\", \"madrid\", \"make\", \"make\", \"make\", \"make\", \"make\", \"make\", \"make\", \"make\", \"make\", \"make\", \"make\", \"make\", \"maker\", \"maker\", \"maker\", \"maker\", \"maker\", \"maker\", \"management\", \"management\", \"management\", \"management\", \"management\", \"management\", \"management\", \"management\", \"manchester\", \"manchester\", \"manchester\", \"manchester\", \"manchester\", \"market\", \"market\", \"market\", \"market\", \"market\", \"market\", \"market\", \"match\", \"match\", \"match\", \"match\", \"match\", \"medium\", \"medium\", \"medium\", \"medium\", \"medium\", \"medium\", \"medium\", \"medium\", \"medium\", \"medium\", \"men\", \"men\", \"men\", \"men\", \"men\", \"men\", \"men\", \"men\", \"message\", \"message\", \"message\", \"message\", \"message\", \"message\", \"message\", \"microsoft\", \"microsoft\", \"microsoft\", \"microsoft\", \"million\", \"million\", \"million\", \"million\", \"million\", \"million\", \"million\", \"million\", \"million\", \"million\", \"minister\", \"minister\", \"minister\", \"minister\", \"minister\", \"minute\", \"minute\", \"minute\", \"minute\", \"minute\", \"minute\", \"minute\", \"missed\", \"missed\", \"missed\", \"missed\", \"missed\", \"missed\", \"missing\", \"missing\", \"missing\", \"missing\", \"missing\", \"missing\", \"missing\", \"mobile\", \"mobile\", \"money\", \"money\", \"money\", \"money\", \"money\", \"money\", \"money\", \"money\", \"money\", \"money\", \"money\", \"month\", \"month\", \"month\", \"month\", \"month\", \"month\", \"month\", \"month\", \"month\", \"month\", \"month\", \"movie\", \"movie\", \"movie\", \"movie\", \"mp\", \"mr\", \"mr\", \"mr\", \"mr\", \"mr\", \"mr\", \"mr\", \"mr\", \"mr\", \"mr\", \"music\", \"music\", \"music\", \"music\", \"music\", \"music\", \"musical\", \"musical\", \"named\", \"named\", \"named\", \"named\", \"named\", \"nation\", \"nation\", \"nation\", \"nation\", \"nation\", \"nation\", \"nation\", \"nation\", \"net\", \"net\", \"net\", \"net\", \"net\", \"net\", \"net\", \"network\", \"network\", \"network\", \"network\", \"network\", \"new\", \"new\", \"new\", \"new\", \"new\", \"new\", \"new\", \"new\", \"new\", \"new\", \"new\", \"new\", \"nintendo\", \"nominated\", \"nomination\", \"number\", \"number\", \"number\", \"number\", \"number\", \"number\", \"number\", \"number\", \"number\", \"number\", \"number\", \"number\", \"offer\", \"offer\", \"offer\", \"offer\", \"offer\", \"offer\", \"offer\", \"offer\", \"offer\", \"oil\", \"oil\", \"oil\", \"oil\", \"olympic\", \"olympic\", \"olympic\", \"online\", \"online\", \"online\", \"online\", \"online\", \"open\", \"open\", \"open\", \"open\", \"open\", \"open\", \"open\", \"open\", \"open\", \"open\", \"operator\", \"operator\", \"operator\", \"oscar\", \"output\", \"output\", \"output\", \"output\", \"output\", \"parliament\", \"parliament\", \"party\", \"party\", \"party\", \"party\", \"party\", \"pay\", \"pay\", \"pay\", \"pay\", \"pay\", \"pay\", \"pay\", \"pay\", \"pay\", \"pay\", \"payment\", \"payment\", \"payment\", \"payment\", \"payment\", \"payment\", \"payment\", \"pc\", \"pc\", \"pc\", \"pc\", \"penalty\", \"penalty\", \"pension\", \"pension\", \"pension\", \"pension\", \"people\", \"people\", \"people\", \"people\", \"people\", \"people\", \"people\", \"people\", \"people\", \"people\", \"people\", \"phone\", \"phone\", \"phone\", \"picture\", \"picture\", \"picture\", \"picture\", \"picture\", \"picture\", \"place\", \"place\", \"place\", \"place\", \"place\", \"place\", \"place\", \"place\", \"place\", \"place\", \"place\", \"place\", \"plan\", \"plan\", \"plan\", \"plan\", \"plan\", \"plan\", \"plan\", \"plan\", \"plan\", \"play\", \"play\", \"play\", \"play\", \"play\", \"play\", \"play\", \"play\", \"player\", \"player\", \"player\", \"player\", \"player\", \"player\", \"playing\", \"playing\", \"playing\", \"playing\", \"playing\", \"playing\", \"playing\", \"point\", \"point\", \"point\", \"point\", \"point\", \"point\", \"point\", \"point\", \"point\", \"point\", \"point\", \"point\", \"politician\", \"politician\", \"politician\", \"politics\", \"poor\", \"poor\", \"poor\", \"poor\", \"poor\", \"poor\", \"poor\", \"poor\", \"poor\", \"poor\", \"poor\", \"pop\", \"pop\", \"portable\", \"post\", \"post\", \"post\", \"post\", \"post\", \"poster\", \"premiership\", \"premiership\", \"pretty\", \"pretty\", \"pretty\", \"pretty\", \"pretty\", \"pretty\", \"pretty\", \"pretty\", \"pretty\", \"pretty\", \"price\", \"price\", \"price\", \"price\", \"price\", \"price\", \"price\", \"price\", \"prime\", \"prime\", \"prize\", \"prize\", \"prize\", \"prize\", \"producer\", \"producer\", \"producer\", \"producer\", \"production\", \"production\", \"production\", \"production\", \"production\", \"profit\", \"profit\", \"profit\", \"profit\", \"program\", \"program\", \"program\", \"programme\", \"programme\", \"programme\", \"programme\", \"programme\", \"programme\", \"programme\", \"programme\", \"programme\", \"programme\", \"programme\", \"property\", \"property\", \"property\", \"property\", \"public\", \"public\", \"public\", \"public\", \"public\", \"public\", \"public\", \"public\", \"public\", \"quarter\", \"quarter\", \"quarter\", \"quarter\", \"quarter\", \"quarter\", \"quarter\", \"quarter\", \"quarter\", \"quite\", \"quite\", \"quite\", \"quite\", \"quite\", \"quite\", \"quite\", \"quite\", \"quite\", \"race\", \"race\", \"race\", \"race\", \"race\", \"race\", \"race\", \"race\", \"radio\", \"radio\", \"radio\", \"radio\", \"radio\", \"radio\", \"radio\", \"radio\", \"radio\", \"rate\", \"rate\", \"rate\", \"ray\", \"ray\", \"ray\", \"really\", \"really\", \"really\", \"really\", \"really\", \"really\", \"really\", \"really\", \"record\", \"record\", \"record\", \"record\", \"record\", \"record\", \"record\", \"record\", \"record\", \"record\", \"recovery\", \"recovery\", \"recovery\", \"recovery\", \"recovery\", \"recovery\", \"referee\", \"referee\", \"region\", \"region\", \"region\", \"region\", \"region\", \"region\", \"region\", \"region\", \"released\", \"released\", \"released\", \"released\", \"released\", \"released\", \"released\", \"released\", \"relief\", \"relief\", \"reserve\", \"reserve\", \"reserve\", \"reserve\", \"retail\", \"retail\", \"retail\", \"retail\", \"rise\", \"rise\", \"rise\", \"rise\", \"rise\", \"rise\", \"rise\", \"rise\", \"rising\", \"rising\", \"rising\", \"rising\", \"rising\", \"rising\", \"rising\", \"rising\", \"robinson\", \"robinson\", \"robinson\", \"role\", \"role\", \"role\", \"role\", \"role\", \"role\", \"role\", \"role\", \"role\", \"rose\", \"rose\", \"rose\", \"rose\", \"rose\", \"rose\", \"rose\", \"rugby\", \"ruling\", \"ruling\", \"ruling\", \"ruling\", \"russian\", \"russian\", \"russian\", \"russian\", \"russian\", \"russian\", \"said\", \"said\", \"said\", \"said\", \"said\", \"said\", \"said\", \"said\", \"said\", \"said\", \"said\", \"said\", \"sale\", \"sale\", \"sale\", \"sale\", \"sale\", \"sale\", \"sale\", \"sale\", \"save\", \"save\", \"save\", \"save\", \"save\", \"save\", \"save\", \"save\", \"save\", \"save\", \"say\", \"say\", \"say\", \"say\", \"say\", \"say\", \"say\", \"say\", \"say\", \"say\", \"say\", \"score\", \"score\", \"score\", \"score\", \"score\", \"score\", \"scottish\", \"scottish\", \"scottish\", \"scottish\", \"scottish\", \"search\", \"search\", \"search\", \"search\", \"search\", \"season\", \"season\", \"season\", \"second\", \"second\", \"second\", \"second\", \"second\", \"second\", \"second\", \"second\", \"second\", \"second\", \"second\", \"second\", \"secretary\", \"secretary\", \"secretary\", \"secretary\", \"sector\", \"sector\", \"sector\", \"sector\", \"sector\", \"security\", \"security\", \"security\", \"security\", \"security\", \"security\", \"security\", \"seed\", \"series\", \"series\", \"series\", \"series\", \"series\", \"series\", \"series\", \"series\", \"series\", \"series\", \"series\", \"service\", \"service\", \"service\", \"service\", \"service\", \"service\", \"service\", \"service\", \"service\", \"service\", \"set\", \"set\", \"set\", \"set\", \"set\", \"set\", \"set\", \"set\", \"set\", \"set\", \"set\", \"set\", \"shadow\", \"shadow\", \"shadow\", \"share\", \"share\", \"share\", \"share\", \"share\", \"share\", \"share\", \"share\", \"share\", \"shareholder\", \"shot\", \"shot\", \"shot\", \"shot\", \"shot\", \"shot\", \"shot\", \"singer\", \"singer\", \"singer\", \"single\", \"single\", \"single\", \"single\", \"single\", \"single\", \"single\", \"single\", \"single\", \"single\", \"single\", \"site\", \"site\", \"site\", \"site\", \"slam\", \"slam\", \"smith\", \"smith\", \"smith\", \"smith\", \"smith\", \"smith\", \"smith\", \"software\", \"software\", \"software\", \"sold\", \"sold\", \"sold\", \"sold\", \"sold\", \"sold\", \"sold\", \"song\", \"song\", \"song\", \"song\", \"sony\", \"sony\", \"sony\", \"sony\", \"sound\", \"sound\", \"sound\", \"sound\", \"sound\", \"sound\", \"spam\", \"spam\", \"spending\", \"spending\", \"spending\", \"spending\", \"sport\", \"sport\", \"sport\", \"sport\", \"sport\", \"sport\", \"sport\", \"squad\", \"squad\", \"stake\", \"stake\", \"stake\", \"star\", \"star\", \"star\", \"star\", \"star\", \"starring\", \"state\", \"state\", \"state\", \"state\", \"state\", \"state\", \"state\", \"state\", \"state\", \"state\", \"stock\", \"stock\", \"store\", \"store\", \"store\", \"store\", \"store\", \"straw\", \"straw\", \"strike\", \"strike\", \"strike\", \"strike\", \"strike\", \"strike\", \"strike\", \"strike\", \"strike\", \"student\", \"student\", \"student\", \"supply\", \"supply\", \"supply\", \"supply\", \"supply\", \"survey\", \"survey\", \"survey\", \"survey\", \"survey\", \"takeover\", \"tax\", \"tax\", \"tax\", \"tax\", \"tax\", \"team\", \"team\", \"team\", \"team\", \"team\", \"team\", \"team\", \"technology\", \"technology\", \"technology\", \"technology\", \"telecom\", \"telecom\", \"telecom\", \"theatre\", \"thing\", \"thing\", \"thing\", \"thing\", \"thing\", \"thing\", \"thing\", \"thing\", \"thing\", \"thing\", \"think\", \"think\", \"think\", \"think\", \"think\", \"think\", \"think\", \"think\", \"think\", \"think\", \"think\", \"ticket\", \"ticket\", \"ticket\", \"ticket\", \"ticket\", \"ticket\", \"time\", \"time\", \"time\", \"time\", \"time\", \"time\", \"time\", \"time\", \"time\", \"time\", \"time\", \"time\", \"title\", \"title\", \"title\", \"title\", \"told\", \"told\", \"told\", \"told\", \"told\", \"told\", \"told\", \"told\", \"told\", \"told\", \"told\", \"told\", \"tony\", \"tony\", \"tony\", \"tony\", \"tony\", \"took\", \"took\", \"took\", \"took\", \"took\", \"took\", \"took\", \"took\", \"took\", \"took\", \"took\", \"took\", \"tool\", \"tool\", \"tool\", \"tool\", \"tory\", \"tour\", \"tour\", \"tour\", \"tour\", \"tour\", \"tour\", \"tournament\", \"tournament\", \"track\", \"track\", \"track\", \"track\", \"track\", \"track\", \"trade\", \"trade\", \"trade\", \"trade\", \"trade\", \"trade\", \"trade\", \"trade\", \"trade\", \"trading\", \"trading\", \"trading\", \"traffic\", \"traffic\", \"traffic\", \"traffic\", \"traffic\", \"traffic\", \"training\", \"training\", \"training\", \"training\", \"training\", \"try\", \"try\", \"try\", \"try\", \"try\", \"try\", \"try\", \"try\", \"try\", \"try\", \"tsunami\", \"tv\", \"tv\", \"tv\", \"uk\", \"uk\", \"uk\", \"uk\", \"uk\", \"uk\", \"uk\", \"uk\", \"uk\", \"uk\", \"ukip\", \"unemployment\", \"united\", \"united\", \"united\", \"united\", \"united\", \"united\", \"united\", \"use\", \"use\", \"use\", \"use\", \"use\", \"use\", \"use\", \"use\", \"use\", \"used\", \"used\", \"used\", \"used\", \"used\", \"used\", \"used\", \"used\", \"used\", \"used\", \"used\", \"user\", \"user\", \"using\", \"using\", \"using\", \"using\", \"using\", \"using\", \"using\", \"victim\", \"victim\", \"victim\", \"victim\", \"victim\", \"victim\", \"victim\", \"victim\", \"victim\", \"victory\", \"victory\", \"victory\", \"victory\", \"victory\", \"victory\", \"victory\", \"video\", \"video\", \"video\", \"video\", \"video\", \"video\", \"viewer\", \"viewer\", \"viewer\", \"virus\", \"virus\", \"virus\", \"visitor\", \"visitor\", \"visitor\", \"visitor\", \"visitor\", \"visitor\", \"vote\", \"vote\", \"vote\", \"vote\", \"vote\", \"voter\", \"voter\", \"voter\", \"wale\", \"wale\", \"wale\", \"wale\", \"wale\", \"want\", \"want\", \"want\", \"want\", \"want\", \"want\", \"want\", \"want\", \"want\", \"want\", \"want\", \"watch\", \"watch\", \"watch\", \"watch\", \"watch\", \"watch\", \"watch\", \"way\", \"way\", \"way\", \"way\", \"way\", \"way\", \"way\", \"way\", \"way\", \"way\", \"way\", \"way\", \"web\", \"web\", \"web\", \"web\", \"website\", \"website\", \"website\", \"website\", \"website\", \"website\", \"website\", \"website\", \"week\", \"week\", \"week\", \"week\", \"week\", \"week\", \"week\", \"week\", \"week\", \"week\", \"week\", \"welsh\", \"welsh\", \"welsh\", \"williams\", \"williams\", \"williams\", \"williams\", \"williams\", \"williams\", \"win\", \"win\", \"win\", \"win\", \"win\", \"win\", \"win\", \"win\", \"window\", \"window\", \"window\", \"window\", \"winner\", \"winner\", \"winner\", \"winner\", \"winner\", \"winner\", \"winner\", \"wireless\", \"wireless\", \"woman\", \"woman\", \"woman\", \"woman\", \"woman\", \"woman\", \"woman\", \"woman\", \"worker\", \"worker\", \"worker\", \"worker\", \"worker\", \"worker\", \"world\", \"world\", \"world\", \"world\", \"world\", \"world\", \"world\", \"world\", \"world\", \"world\", \"world\", \"xbox\", \"xbox\", \"year\", \"year\", \"year\", \"year\", \"year\", \"year\", \"year\", \"year\", \"year\", \"year\", \"year\", \"year\", \"yukos\"]}, \"R\": 30, \"lambda.step\": 0.01, \"plot.opts\": {\"xlab\": \"PC1\", \"ylab\": \"PC2\"}, \"topic.order\": [12, 5, 4, 1, 8, 11, 7, 6, 10, 2, 9, 3]};\n",
              "\n",
              "function LDAvis_load_lib(url, callback){\n",
              "  var s = document.createElement('script');\n",
              "  s.src = url;\n",
              "  s.async = true;\n",
              "  s.onreadystatechange = s.onload = callback;\n",
              "  s.onerror = function(){console.warn(\"failed to load library \" + url);};\n",
              "  document.getElementsByTagName(\"head\")[0].appendChild(s);\n",
              "}\n",
              "\n",
              "if(typeof(LDAvis) !== \"undefined\"){\n",
              "   // already loaded: just create the visualization\n",
              "   !function(LDAvis){\n",
              "       new LDAvis(\"#\" + \"ldavis_el4671401081400658727309667935\", ldavis_el4671401081400658727309667935_data);\n",
              "   }(LDAvis);\n",
              "}else if(typeof define === \"function\" && define.amd){\n",
              "   // require.js is available: use it to load d3/LDAvis\n",
              "   require.config({paths: {d3: \"https://d3js.org/d3.v5\"}});\n",
              "   require([\"d3\"], function(d3){\n",
              "      window.d3 = d3;\n",
              "      LDAvis_load_lib(\"https://cdn.jsdelivr.net/gh/bmabey/pyLDAvis@3.4.0/pyLDAvis/js/ldavis.v3.0.0.js\", function(){\n",
              "        new LDAvis(\"#\" + \"ldavis_el4671401081400658727309667935\", ldavis_el4671401081400658727309667935_data);\n",
              "      });\n",
              "    });\n",
              "}else{\n",
              "    // require.js not available: dynamically load d3 & LDAvis\n",
              "    LDAvis_load_lib(\"https://d3js.org/d3.v5.js\", function(){\n",
              "         LDAvis_load_lib(\"https://cdn.jsdelivr.net/gh/bmabey/pyLDAvis@3.4.0/pyLDAvis/js/ldavis.v3.0.0.js\", function(){\n",
              "                 new LDAvis(\"#\" + \"ldavis_el4671401081400658727309667935\", ldavis_el4671401081400658727309667935_data);\n",
              "            })\n",
              "         });\n",
              "}\n",
              "</script>"
            ]
          },
          "metadata": {},
          "execution_count": 68
        }
      ]
    },
    {
      "cell_type": "markdown",
      "source": [
        "#### Clear Description of the abstract topics found by each Model\n",
        "\n",
        "**Abstract Topics Identified by each Model**\n",
        "\n",
        "*_Below is a decription of the abstract topics found by the Best LDA and Best NMF Models. Each topic is summarized based on the top keywords associated with it._*"
      ],
      "metadata": {
        "id": "lTXXWqSsxHTk"
      }
    },
    {
      "cell_type": "markdown",
      "source": [
        "**LDA Topic Descriptions**\n",
        "\n",
        "**Best LDA Model:**\n",
        "\n",
        "\n",
        "**Hyperparameters:** `{'n_components': 12, 'learning_decay': 0.5}`\n",
        "**Perplexity:** `515.46`\n",
        "\n",
        "Word-Topic Table (Top 10 Words per Topic):\n",
        "\n",
        "**Topic 1:** said, company, firm, mr, share, bank, market, business, year, executive (Business and Finance)\n",
        "\n",
        "**Topic 2:** game, said, open, like, year, play, title, world, time, say (Video Games)\n",
        "\n",
        "**Topic 3:** minute, card, penalty, ball, home, try, goal, ireland, second, lead (Sports (Rugby/Soccer))\n",
        "\n",
        "**Topic 4:** said, people, user, computer, software, net, site, service, use, information (Technology and Computing)\n",
        "\n",
        "**Topic 5:** said, game, england, player, win, year, time, club, match, team (Sports (Soccer))\n",
        "\n",
        "**Topic 6:** said, year, china, eu, european, oil, euro, country, profit, price (Economy and Trade (Europe/China))\n",
        "\n",
        "**Topic 7:** said, year, economy, rate, growth, economic, figure, rise, tax, spending (Economics)\n",
        "\n",
        "**Topic 8:** mobile, technology, phone, said, people, digital, music, tv, service, video (Mobile Technology)\n",
        "\n",
        "**Topic 9:** world, aid, country, blog, record, woman, tsunami, disaster, year, africa (World Events and Humanitarian Issues)\n",
        "\n",
        "**Topic 10:** said, sale, court, music, yukos, legal, band, single, chart, law (Music Industry and Legal Issues)\n",
        "\n",
        "**Topic 11:** film, best, award, year, said, star, actor, director, new, oscar (Film and Awards)\n",
        "\n",
        "**Topic 12:** said, mr, labour, government, party, election, minister, people, blair, say (UK Politics)"
      ],
      "metadata": {
        "id": "S5e41ta1aWUb"
      }
    },
    {
      "cell_type": "markdown",
      "source": [
        "**NMF Topic Descriptions**\n",
        "\n",
        "**Best NMF Model**\n",
        "\n",
        "\n",
        "**Hyperparameters:** `{'n_components': 10, 'beta_loss': 'frobenius'}`\n",
        "**Reconstruction Error:** `42.91`\n",
        "\n",
        "\n",
        "**Topic 1:** said, government, lord, law, mr, eu, police, minister, court, case (Law)\n",
        "\n",
        "**Topic 2:** game, win, open, champion, seed, world, match, final, title, second (Sports)\n",
        "\n",
        "**Topic 3:** mr, labour, election, blair, party, brown, tory, tax, howard, chancellor (UK Politics)\n",
        "\n",
        "**Topic 4:** film, award, best, actor, oscar, star, actress, festival, director, movie (Film and Entertainment)\n",
        "\n",
        "**Topic 5:** mobile, phone, technology, people, user, service, digital, software, computer, network (Technology and Communication)\n",
        "\n",
        "**Topic 6:** economy, growth, rate, economic, bank, price, year, rise, figure, quarter (Economics and Financial Growth)\n",
        "\n",
        "**Topic 7:** band, music, album, chart, song, single, rock, number, singer, award (Music)\n",
        "\n",
        "**Topic 8:** club, chelsea, united, arsenal, league, player, cup, game, manager, goal (Sports/Soccer)\n",
        "\n",
        "**Topic 9:** england, wale, ireland, france, robinson, rugby, nation, coach, scotland, game (Sport/Rugby)\n",
        "\n",
        "**Topic 10:** company, firm, share, sale, profit, yukos, market, said, deal, oil (Business)"
      ],
      "metadata": {
        "id": "bB9se8GhxQ4U"
      }
    },
    {
      "cell_type": "markdown",
      "source": [
        "### The analysis and visualizations on the best Model\n",
        "\n",
        "_While both LDA and NMF models produce coherent topics, the justification leans on the following points derived from the output:_\n",
        "\n",
        "\n",
        "\n",
        "_1.  Topic Coherence (Subjectivity): Both LDA and NMF topics seem to make more sense and group keywords better. This is a subjective observation here._\n",
        "\n",
        "\n",
        "\n",
        "\n",
        "_2.  Perplexity Score: The LDA model's perplexity score of 515.46 suggests it predicts data fairly well, as lower scores are better. However, perplexity is just one way to judge a model and doesn’t always match how humans see the clarity or coherence of the topics._\n",
        "\n",
        "\n",
        "\n",
        "\n",
        "_3. Visualization (pyLDAvis): The pyLDAvis tool helps make the LDA model easier to understand. It shows how topics and keywords are related, which helps you interpret the topics better. You can see how keywords are spread across topics, how topics are connected, and whether topics are clearly distinct. This visualization gives extra insights that weren’t available with the NMF results._\n",
        "\n",
        "\n",
        "\n",
        "**_In the nutshell, while both LDA and NMF produced workable results, the LDA model's slightly better coherence of discovered topics, lower perplexity, and the visual support from pyLDAvis lead me to favor it._**"
      ],
      "metadata": {
        "id": "stU2APhC24e1"
      }
    },
    {
      "cell_type": "markdown",
      "source": [
        "# Conclusion"
      ],
      "metadata": {
        "id": "vaA55X3BYjLl"
      }
    },
    {
      "cell_type": "markdown",
      "source": [
        "### Summary of how LDA addresses the use case to the benefit of stakeholders.\n",
        "\n",
        "_The Latent Dirichlet Allocation (LDA) model was selected for its superior performance in topic modeling the BBC Full text data._\n",
        "\n",
        "_LDA achieved a lower perplexity score of `515.46` compared to NMF's reconstruction error of `42.91`, indicating a better fit to the data and improved generalization capability._\n",
        "\n",
        "_More importantly, the LDA model generated more distinct and interpretable topics, facilitating the identification of high-level themes relevant to strategic decision-making._\n",
        "\n",
        "_The interactive visualization provided by pyLDAvis further enhanced the analysis, allowing stakeholders to explore topic relationships and distributions._\n",
        "\n",
        "_While NMF offered specific insights, LDA's ability to uncover broader patterns aligns better with the need for high-level understanding and strategic direction._\n",
        "\n",
        "_This provides stakeholders with a clearer overview of key themes within the data, enabling informed decisions and actions on the choice of topics._"
      ],
      "metadata": {
        "id": "zncBImLJzQfj"
      }
    },
    {
      "cell_type": "markdown",
      "source": [
        "### Reasons for the choice.\n",
        "\n",
        "_The best model for topic analysis was LDA, chosen due to a lower perplexity score `515.46` compared to NMF's reconstruction error `42.91`._\n",
        "\n",
        "_LDA's topics were judged as more distinct and interpretable, facilitating clearer strategic insights._\n",
        "\n",
        "_The interactive visualization further supported this choice, offering a clearer representation of topic clusters.  These qualitative factors, combined with the quantitative metric, indicate LDA's superior performance for extracting high-level, actionable themes._\n"
      ],
      "metadata": {
        "id": "rpR_m9wMyToU"
      }
    },
    {
      "cell_type": "code",
      "source": [],
      "metadata": {
        "id": "ZP8M0hU_HPFc"
      },
      "execution_count": null,
      "outputs": []
    }
  ]
}